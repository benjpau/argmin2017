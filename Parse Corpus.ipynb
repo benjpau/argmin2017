{
 "cells": [
  {
   "cell_type": "code",
   "execution_count": 1,
   "metadata": {
    "ExecuteTime": {
     "end_time": "2018-02-09T15:19:59.354276Z",
     "start_time": "2018-02-09T15:19:58.019672Z"
    }
   },
   "outputs": [
    {
     "name": "stderr",
     "output_type": "stream",
     "text": [
      "/usr/local/lib/python3.6/site-packages/h5py/__init__.py:36: FutureWarning: Conversion of the second argument of issubdtype from `float` to `np.floating` is deprecated. In future, it will be treated as `np.float64 == np.dtype(float).type`.\n",
      "  from ._conv import register_converters as _register_converters\n"
     ]
    }
   ],
   "source": [
    "import math\n",
    "import os\n",
    "import time\n",
    "from glob import glob\n",
    "import numpy as np\n",
    "import mxnet as mx\n",
    "from mxnet import gluon, autograd\n",
    "from mxnet.gluon import nn, rnn\n",
    "import spacy"
   ]
  },
  {
   "cell_type": "code",
   "execution_count": 2,
   "metadata": {
    "ExecuteTime": {
     "end_time": "2018-02-09T15:20:00.329567Z",
     "start_time": "2018-02-09T15:19:59.356510Z"
    }
   },
   "outputs": [],
   "source": [
    "import matplotlib.pyplot as plt\n",
    "%matplotlib inline\n",
    "import seaborn as sns\n",
    "sns.set_context(\"notebook\", font_scale=1.5, rc={\"lines.linewidth\": 2.5})\n",
    "from collections import defaultdict"
   ]
  },
  {
   "cell_type": "code",
   "execution_count": 3,
   "metadata": {
    "ExecuteTime": {
     "end_time": "2018-02-09T15:20:00.334924Z",
     "start_time": "2018-02-09T15:20:00.331917Z"
    }
   },
   "outputs": [],
   "source": [
    "import xml.etree.ElementTree as ET"
   ]
  },
  {
   "cell_type": "code",
   "execution_count": 4,
   "metadata": {
    "ExecuteTime": {
     "end_time": "2018-02-09T15:20:00.443048Z",
     "start_time": "2018-02-09T15:20:00.340895Z"
    }
   },
   "outputs": [],
   "source": [
    "from functools import reduce\n",
    "class ArgumentTree(object):\n",
    "    def __init__(self, value, text=None):\n",
    "        self.children = []\n",
    "        self.parent = None\n",
    "        self.value = value\n",
    "        self.text = text\n",
    "    \n",
    "    def __repr__(self):\n",
    "        if self.children:\n",
    "            return '[{}: {}]'.format(self.value, ', '.join([str(c) for c in self.children]))\n",
    "        else:\n",
    "            return '{}({})'.format(self.value, self.text)\n",
    "        \n",
    "    @property\n",
    "    def p_value(self):\n",
    "        if self.parent:\n",
    "            return self.parent.value\n",
    "        else:\n",
    "            return self.value\n",
    "    \n",
    "    def __len__(self):\n",
    "        if self.children:\n",
    "            return 1 + sum([len(l) for l in self.children])\n",
    "        else:\n",
    "            return 0\n",
    "    \n",
    "    @property\n",
    "    def root(self):\n",
    "        if self.isroot:\n",
    "            return self\n",
    "        else:\n",
    "            return self.parent.root\n",
    "        \n",
    "    @property\n",
    "    def isroot(self):\n",
    "        return self.parent is None\n",
    "    \n",
    "    def search(self, value):\n",
    "        if self.value == value:\n",
    "            return self\n",
    "        else:\n",
    "            return next((c for c in (child.search(value) for child in self.children) if c is not None), None)\n",
    "    \n",
    "    def add(self, child):\n",
    "        self.children.append(child)\n",
    "        child.parent = self"
   ]
  },
  {
   "cell_type": "code",
   "execution_count": 5,
   "metadata": {
    "ExecuteTime": {
     "end_time": "2018-02-09T15:20:00.486889Z",
     "start_time": "2018-02-09T15:20:00.447872Z"
    },
    "code_folding": [],
    "scrolled": false
   },
   "outputs": [],
   "source": [
    "def read_ac(xml):\n",
    "    arguments = {x.get('id'):x.text for x in xml.findall('edu')}\n",
    "    edges = [x for x in xml.findall('edge')]\n",
    "\n",
    "    trees = []\n",
    "    # parent (major claim) -> child (claims)\n",
    "    for edge in edges:\n",
    "        fr = edge.get('src')\n",
    "        text = arguments.get(fr)\n",
    "        to = edge.get('trg')\n",
    "        while to.startswith('c'):\n",
    "            to = next(edge for edge in edges if edge.get('id') == to).get('trg')\n",
    "\n",
    "        child = next((node for node in (tree.search(fr) for tree in trees) if node is not None), ArgumentTree(fr, text))\n",
    "        parent = next((node for node in (tree.search(to) for tree in trees) if node is not None), ArgumentTree(to))\n",
    "\n",
    "        parent.add(child)\n",
    "        trees.append(parent)\n",
    "    return trees[0].root"
   ]
  },
  {
   "cell_type": "code",
   "execution_count": 6,
   "metadata": {
    "ExecuteTime": {
     "end_time": "2018-02-09T15:20:15.437278Z",
     "start_time": "2018-02-09T15:20:00.490234Z"
    }
   },
   "outputs": [
    {
     "name": "stderr",
     "output_type": "stream",
     "text": [
      "/usr/local/lib/python3.6/site-packages/msgpack_numpy.py:84: DeprecationWarning: The binary mode of fromstring is deprecated, as it behaves surprisingly on unicode inputs. Use frombuffer instead\n",
      "  dtype=np.dtype(descr)).reshape(obj[b'shape'])\n",
      "/usr/local/lib/python3.6/site-packages/msgpack_numpy.py:88: DeprecationWarning: The binary mode of fromstring is deprecated, as it behaves surprisingly on unicode inputs. Use frombuffer instead\n",
      "  dtype=np.dtype(descr))[0]\n"
     ]
    }
   ],
   "source": [
    "nlp = spacy.load('en_core_web_lg')"
   ]
  },
  {
   "cell_type": "code",
   "execution_count": 50,
   "metadata": {
    "ExecuteTime": {
     "end_time": "2018-02-09T16:12:10.404421Z",
     "start_time": "2018-02-09T16:12:09.878304Z"
    }
   },
   "outputs": [],
   "source": [
    "STOPWORDS = ['I','...']\n",
    "\n",
    "from sklearn.model_selection import ShuffleSplit\n",
    "from collections import Counter\n",
    "class MTCorpus(object):\n",
    "    def __init__(self):\n",
    "        files = sorted(glob('./arg-microtexts/corpus/en_extended/*.xml'))\n",
    "        self.trees = []\n",
    "        self.links = []\n",
    "        self.types = []\n",
    "        self.documents = []\n",
    "        self.tokens = []\n",
    "        self.lemmas = defaultdict(int)\n",
    "        for file in files:\n",
    "            with open(file,'r',encoding='UTF-8') as file:\n",
    "                try:\n",
    "                    xml = ET.parse(file)\n",
    "                    ac_tree = read_ac(xml)\n",
    "                    self.trees.append(ac_tree)\n",
    "                    y = [int(ac_tree.search('a{}'.format(i)).p_value[1:])-1 for i in range(1, len(ac_tree)+1)]\n",
    "                    types = [int(ac_tree.search('a{}'.format(i)).isroot) for i in range(1, len(ac_tree)+1)]\n",
    "                    acs = [ac_tree.search('e{}'.format(i)).text for i in range(1, len(ac_tree)+1)]\n",
    "                    '''Tokenizes a string.'''\n",
    "                    document = [self.represent(ac) for ac in acs]\n",
    "                except Exception as e:\n",
    "                    try:\n",
    "                        file.seek(0)\n",
    "                        xml = ET.parse(file)\n",
    "                        ac_tree = read_ac(xml)\n",
    "                        self.trees.append(ac_tree)\n",
    "                        y = [int(ac_tree.search('a{}'.format(i)).p_value[1:]) for i in range(0, len(ac_tree))]\n",
    "                        types = [int(ac_tree.search('a{}'.format(i)).isroot) for i in range(0, len(ac_tree))]\n",
    "                        '''Tokenizes a string.'''\n",
    "                        acs = [ac_tree.search('e{}'.format(i)).text for i in range(0, len(ac_tree))]\n",
    "                        document = [self.represent(ac) for ac in acs]\n",
    "                    except Exception as e:\n",
    "                        file.seek(0)\n",
    "                        print(e)\n",
    "                        print(file.read())\n",
    "            self.links.append(y)\n",
    "            self.types.append(types)\n",
    "            self.documents.append(document)\n",
    "\n",
    "        np.save('Ylinks_ext', self.links)\n",
    "        np.save('Ytypes_ext', self.types)\n",
    "        self.lemma_indices = dict(zip(self.lemmas.keys(),range(len(self.lemmas))))\n",
    "        self.X_large = self._x_large()\n",
    "        self.X_small = self._x_small()\n",
    "                \n",
    "    def represent(self, sent):\n",
    "        # Tokenize sentence\n",
    "        tokens = nlp(sent)\n",
    "        final_tokens = []\n",
    "        # Build lemma vocabulary           \n",
    "        for token in tokens:\n",
    "            if token.lemma_ in STOPWORDS or token.tag_ in {}:\n",
    "                continue\n",
    "            self.lemmas[token.lemma_] += 1\n",
    "            final_tokens.append(token)\n",
    "            \n",
    "        # Return tokens\n",
    "        return tokens\n",
    "    \n",
    "    def _x_small(self):\n",
    "        representations = []\n",
    "        \n",
    "        for document in self.documents:\n",
    "            representations.append([])\n",
    "            for i, ac in enumerate(document):\n",
    "                vectors = []\n",
    "                for token in ac:\n",
    "                    vectors.append(token.vector)\n",
    "                vectors = np.array(vectors)\n",
    "                \n",
    "                # min and max across token embeddings\n",
    "                mean = np.mean(vectors, axis=0)\n",
    "                pos = [int(i==0)]\n",
    "                r = np.concatenate([pos, mean], axis=0)\n",
    "                representations[-1].append(r)\n",
    "                \n",
    "        representations = np.array(representations)\n",
    "        np.save(file='X_small_ext',arr=representations)\n",
    "        return representations\n",
    "    \n",
    "    def _x_large(self):\n",
    "        representations = []\n",
    "        \n",
    "        for document in self.documents:\n",
    "            representations.append([])\n",
    "            for i, ac in enumerate(document):\n",
    "                vectors = []\n",
    "                bow = np.zeros(len(self.lemmas))\n",
    "                for token in ac:\n",
    "                    bow[self.lemma_indices[token.lemma_]] += 1\n",
    "                    vectors.append(token.vector)\n",
    "                vectors = np.array(vectors)\n",
    "                \n",
    "                # min and max across token embeddings\n",
    "                maximum = np.max(vectors, axis=0)\n",
    "                minimum = np.min(vectors, axis=0)                \n",
    "                mean = np.mean(vectors, axis=0)\n",
    "                pos = [int(i==0)]\n",
    "                r = np.concatenate([pos, mean, maximum, minimum, bow], axis=0)\n",
    "                representations[-1].append(r)\n",
    "                \n",
    "        representations = np.array(representations)\n",
    "        np.save(file='X_large_ext',arr=representations)\n",
    "        return representations"
   ]
  },
  {
   "cell_type": "code",
   "execution_count": 51,
   "metadata": {
    "ExecuteTime": {
     "end_time": "2018-02-09T16:12:27.529821Z",
     "start_time": "2018-02-09T16:12:11.040012Z"
    },
    "scrolled": false
   },
   "outputs": [
    {
     "name": "stdout",
     "output_type": "stream",
     "text": [
      "'NoneType' object has no attribute 'text'\n",
      "<?xml version='1.0' encoding='UTF-8'?>\n",
      "<arggraph id=\"micro_c054_maria\">\n",
      "  <edu id=\"e0\"><![CDATA[I live in Michigan, where we have a deposit.]]></edu>\n",
      "  <edu id=\"e1\"><![CDATA[I regularly see people bringing huge amounts of bottles and cans to grocery stores to recycle them.]]></edu>\n",
      "  <edu id=\"e2\"><![CDATA[While I do not have exact statistics on the topic,]]></edu>\n",
      "  <edu id=\"e3\"><![CDATA[this indicates to me that deposits promote recycling and should therefore be adopted.]]></edu>\n",
      "  <edu id=\"e4\"><![CDATA[This has also become a source of income for homeless people.]]></edu>\n",
      "  <edu id=\"e5\"><![CDATA[I see homeless people picking up littered cans so they can later recycle them for the deposit,]]></edu>\n",
      "  <edu id=\"e6\"><![CDATA[which seems good to me.]]></edu>\n",
      "  <adu id=\"a0\" type=\"pro\"/>\n",
      "  <adu id=\"a1\" type=\"opp\"/>\n",
      "  <adu id=\"a2\" type=\"pro\"/>\n",
      "  <adu id=\"a3\" type=\"pro\"/>\n",
      "  <adu id=\"a4\" type=\"pro\"/>\n",
      "  <adu id=\"a5\" type=\"pro\"/>\n",
      "  <edge id=\"c5\" src=\"e1\" trg=\"a0\" type=\"seg\"/>\n",
      "  <edge id=\"c6\" src=\"e2\" trg=\"a1\" type=\"seg\"/>\n",
      "  <edge id=\"c7\" src=\"e3\" trg=\"a2\" type=\"seg\"/>\n",
      "  <edge id=\"c8\" src=\"e4\" trg=\"a3\" type=\"seg\"/>\n",
      "  <edge id=\"c9\" src=\"e5\" trg=\"a4\" type=\"seg\"/>\n",
      "  <edge id=\"c10\" src=\"e6\" trg=\"a5\" type=\"seg\"/>\n",
      "  <edge id=\"c0\" src=\"a0\" trg=\"a2\" type=\"sup\"/>\n",
      "  <edge id=\"c1\" src=\"a1\" trg=\"a2\" type=\"reb\"/>\n",
      "  <edge id=\"c2\" src=\"a3\" trg=\"a2\" type=\"sup\"/>\n",
      "  <edge id=\"c3\" src=\"a4\" trg=\"a3\" type=\"sup\"/>\n",
      "  <edge id=\"c4\" src=\"a5\" trg=\"a4\" type=\"sup\"/>\n",
      "</arggraph>\n",
      "\n",
      "'NoneType' object has no attribute 'text'\n",
      "<?xml version='1.0' encoding='UTF-8'?>\n",
      "<arggraph id=\"micro_c147_maria\">\n",
      "  <edu id=\"e0\"><![CDATA[Long distance relationships test the strength of any relationship.]]></edu>\n",
      "  <edu id=\"e1\"><![CDATA[Each person involved must want the relationship to work for it to actually happen.]]></edu>\n",
      "  <edu id=\"e2\"><![CDATA[They would also need to understand that there is going to be a lack of any physical contact for a long period of time.]]></edu>\n",
      "  <edu id=\"e3\"><![CDATA[I feel that in humanity there is a need for physical intimacy for anyone]]></edu>\n",
      "  <edu id=\"e4\"><![CDATA[so by being so distant you can't make that happen.]]></edu>\n",
      "  <edu id=\"e5\"><![CDATA[For this reason I think they usually work at first but however over time they will fail to meet all the criteria of a good relationship.]]></edu>\n",
      "  <adu id=\"a0\" type=\"pro\"/>\n",
      "  <adu id=\"a1\" type=\"pro\"/>\n",
      "  <adu id=\"a2\" type=\"pro\"/>\n",
      "  <adu id=\"a3\" type=\"pro\"/>\n",
      "  <edge id=\"c3\" src=\"e2\" trg=\"a0\" type=\"seg\"/>\n",
      "  <edge id=\"c4\" src=\"e3\" trg=\"a1\" type=\"seg\"/>\n",
      "  <edge id=\"c5\" src=\"e4\" trg=\"a2\" type=\"seg\"/>\n",
      "  <edge id=\"c6\" src=\"e5\" trg=\"a3\" type=\"seg\"/>\n",
      "  <edge id=\"c0\" src=\"a0\" trg=\"a3\" type=\"sup\"/>\n",
      "  <edge id=\"c1\" src=\"a1\" trg=\"c0\" type=\"add\"/>\n",
      "  <edge id=\"c2\" src=\"a2\" trg=\"c0\" type=\"add\"/>\n",
      "</arggraph>\n",
      "\n",
      "'NoneType' object has no attribute 'p_value'\n",
      "<?xml version='1.0' encoding='UTF-8'?>\n",
      "<arggraph id=\"micro_c168_maria\">\n",
      "  <edu id=\"e0\"><![CDATA[Helicopter parents, in spite of their good intentions, often suffocate their children with too much attention.]]></edu>\n",
      "  <edu id=\"e1\"><![CDATA[Kids need to have some freedom to have some of their time for themselves.]]></edu>\n",
      "  <edu id=\"e2\"><![CDATA[If they aren't allowed the freedom to make some of their own decision, and mistakes, they have an unreasonable expectation that everything will always be laid out in a straight, structured line.]]></edu>\n",
      "  <edu id=\"e3\"><![CDATA[However, the helicopter children do perform better in school and have an opportunity to do much more extracurricular activities.]]></edu>\n",
      "  <edu id=\"e4\"><![CDATA[In summary, kids need to be able to be kids.]]></edu>\n",
      "  <edu id=\"e5\"><![CDATA[HELICOPTER PARENTS ARE BAD FOR CHILDREN.]]></edu>\n",
      "  <adu id=\"a0\" type=\"pro\"/>\n",
      "  <adu id=\"a1\" type=\"pro\"/>\n",
      "  <adu id=\"a2\" type=\"pro\"/>\n",
      "  <adu id=\"a3\" type=\"pro\"/>\n",
      "  <adu id=\"a4\" type=\"opp\"/>\n",
      "  <adu id=\"a5\" type=\"pro\"/>\n",
      "  <edge id=\"c6\" src=\"e0\" trg=\"a3\" type=\"seg\"/>\n",
      "  <edge id=\"c7\" src=\"e1\" trg=\"a2\" type=\"seg\"/>\n",
      "  <edge id=\"c8\" src=\"e2\" trg=\"a1\" type=\"seg\"/>\n",
      "  <edge id=\"c9\" src=\"e3\" trg=\"a4\" type=\"seg\"/>\n",
      "  <edge id=\"c10\" src=\"e4\" trg=\"a5\" type=\"seg\"/>\n",
      "  <edge id=\"c11\" src=\"e5\" trg=\"a0\" type=\"seg\"/>\n",
      "  <edge id=\"c0\" src=\"a1\" trg=\"a2\" type=\"sup\"/>\n",
      "  <edge id=\"c1\" src=\"a2\" trg=\"a0\" type=\"sup\"/>\n",
      "  <edge id=\"c2\" src=\"a3\" trg=\"a0\" type=\"sup\"/>\n",
      "  <edge id=\"c3\" src=\"a4\" trg=\"a0\" type=\"reb\"/>\n",
      "  <edge id=\"c4\" src=\"a5\" trg=\"c2\" type=\"add\"/>\n",
      "  <edge id=\"c5\" src=\"a5\" trg=\"c3\" type=\"und\"/>\n",
      "</arggraph>\n",
      "\n",
      "'NoneType' object has no attribute 'text'\n",
      "<?xml version='1.0' encoding='UTF-8'?>\n",
      "<arggraph id=\"micro_c186_maria\">\n",
      "  <edu id=\"e0\"><![CDATA[Video games are increasingly popular in our everyday life.]]></edu>\n",
      "  <edu id=\"e1\"><![CDATA[They can have a negative impact on lives and children, though.]]></edu>\n",
      "  <edu id=\"e2\"><![CDATA[They create less time together and more time involved in solving the puzzle or task assigned to them.]]></edu>\n",
      "  <edu id=\"e3\"><![CDATA[There are many which promote violent acts to solve missions,]]></edu>\n",
      "  <edu id=\"e4\"><![CDATA[and the chat rooms available open our children to pedophiles and kidnappers posing as children their age.]]></edu>\n",
      "  <edu id=\"e5\"><![CDATA[Some have claimed that playing games with their children has helped to increase togetherness and unity,]]></edu>\n",
      "  <edu id=\"e6\"><![CDATA[but not a lot of deep, personal conversations can be had while you are fighting each other to the death in a role-playing game.]]></edu>\n",
      "  <edu id=\"e7\"><![CDATA[Use of video games are hazardous to successful, happy families.]]></edu>\n",
      "  <adu id=\"a0\" type=\"pro\"/>\n",
      "  <adu id=\"a1\" type=\"pro\"/>\n",
      "  <adu id=\"a2\" type=\"pro\"/>\n",
      "  <adu id=\"a3\" type=\"pro\"/>\n",
      "  <adu id=\"a4\" type=\"opp\"/>\n",
      "  <adu id=\"a5\" type=\"pro\"/>\n",
      "  <edge id=\"c5\" src=\"e1\" trg=\"a0\" type=\"seg\"/>\n",
      "  <edge id=\"c6\" src=\"e2\" trg=\"a1\" type=\"seg\"/>\n",
      "  <edge id=\"c7\" src=\"e3\" trg=\"a2\" type=\"seg\"/>\n",
      "  <edge id=\"c8\" src=\"e4\" trg=\"a3\" type=\"seg\"/>\n",
      "  <edge id=\"c9\" src=\"e5\" trg=\"a4\" type=\"seg\"/>\n",
      "  <edge id=\"c10\" src=\"e6\" trg=\"a5\" type=\"seg\"/>\n",
      "  <edge id=\"c11\" src=\"e7\" trg=\"a0\" type=\"seg\"/>\n",
      "  <edge id=\"c0\" src=\"a1\" trg=\"a0\" type=\"sup\"/>\n",
      "  <edge id=\"c1\" src=\"a2\" trg=\"a0\" type=\"sup\"/>\n",
      "  <edge id=\"c2\" src=\"a3\" trg=\"a0\" type=\"sup\"/>\n",
      "  <edge id=\"c3\" src=\"a4\" trg=\"a0\" type=\"reb\"/>\n",
      "  <edge id=\"c4\" src=\"a5\" trg=\"a4\" type=\"reb\"/>\n",
      "</arggraph>\n",
      "\n"
     ]
    }
   ],
   "source": [
    "corpus = MTCorpus()"
   ]
  },
  {
   "cell_type": "code",
   "execution_count": 9,
   "metadata": {
    "ExecuteTime": {
     "end_time": "2018-02-09T15:20:24.472289Z",
     "start_time": "2018-02-09T15:20:24.464126Z"
    }
   },
   "outputs": [
    {
     "data": {
      "text/plain": [
       "[a3: e3(Higher fines are therefore the right measure against negligent, lazy or simply thoughtless dog owners.), [a1: e1(One can hardly move in Friedrichshain or Neukölln these days without permanently scanning the ground for dog dirt.)], [a2: e2(And when bad luck does strike and you step into one of the many 'land mines' you have to painstakingly scrape the remains off your soles.)], [a4: e4(Of course, first they'd actually need to be caught in the act by public order officers,)], [a5: e5(but once they have to dig into their pockets, their laziness will sure vanish!)]]"
      ]
     },
     "execution_count": 9,
     "metadata": {},
     "output_type": "execute_result"
    }
   ],
   "source": [
    "corpus.trees[1]"
   ]
  },
  {
   "cell_type": "code",
   "execution_count": 10,
   "metadata": {
    "ExecuteTime": {
     "end_time": "2018-02-09T15:20:24.479901Z",
     "start_time": "2018-02-09T15:20:24.474224Z"
    }
   },
   "outputs": [
    {
     "data": {
      "text/plain": [
       "[True, False, False, False, False]"
      ]
     },
     "execution_count": 10,
     "metadata": {},
     "output_type": "execute_result"
    }
   ],
   "source": [
    "[corpus.trees[2].search('a{}'.format(i)).isroot for i in range(1, len(corpus.trees[0])+1)]"
   ]
  },
  {
   "cell_type": "code",
   "execution_count": 11,
   "metadata": {
    "ExecuteTime": {
     "end_time": "2018-02-09T15:20:24.486663Z",
     "start_time": "2018-02-09T15:20:24.482293Z"
    }
   },
   "outputs": [
    {
     "data": {
      "text/plain": [
       "[1, 0, 0, 0, 0]"
      ]
     },
     "execution_count": 11,
     "metadata": {},
     "output_type": "execute_result"
    }
   ],
   "source": [
    "corpus.types[2]"
   ]
  },
  {
   "cell_type": "code",
   "execution_count": 12,
   "metadata": {
    "ExecuteTime": {
     "end_time": "2018-02-09T15:20:24.493763Z",
     "start_time": "2018-02-09T15:20:24.488758Z"
    }
   },
   "outputs": [
    {
     "data": {
      "text/plain": [
       "[1, 1, 2, 1, 1]"
      ]
     },
     "execution_count": 12,
     "metadata": {},
     "output_type": "execute_result"
    }
   ],
   "source": [
    "corpus.links[2]"
   ]
  },
  {
   "cell_type": "code",
   "execution_count": 13,
   "metadata": {
    "ExecuteTime": {
     "end_time": "2018-02-09T15:20:24.498860Z",
     "start_time": "2018-02-09T15:20:24.495812Z"
    }
   },
   "outputs": [],
   "source": [
    "re = corpus.X_small"
   ]
  },
  {
   "cell_type": "code",
   "execution_count": 14,
   "metadata": {
    "ExecuteTime": {
     "end_time": "2018-02-09T15:20:24.506752Z",
     "start_time": "2018-02-09T15:20:24.501546Z"
    }
   },
   "outputs": [
    {
     "data": {
      "text/plain": [
       "(301,)"
      ]
     },
     "execution_count": 14,
     "metadata": {},
     "output_type": "execute_result"
    }
   ],
   "source": [
    "re[0][0].shape"
   ]
  },
  {
   "cell_type": "code",
   "execution_count": 15,
   "metadata": {
    "ExecuteTime": {
     "end_time": "2018-02-09T15:20:24.538340Z",
     "start_time": "2018-02-09T15:20:24.509321Z"
    }
   },
   "outputs": [],
   "source": [
    "# Bag Of Words \n",
    "# Convert a collection of raw documents to a matrix of TF-IDF features.\n",
    "# from sklearn.feature_extraction.text import TfidfVectorizer\n",
    "\n",
    "all_texts = sorted(glob('./arg-microtexts/corpus/en/*.txt'))\n",
    "\n",
    "# tfidf = TfidfVectorizer(norm='l2',min_df=0, use_idf=False, smooth_idf=False, sublinear_tf=True, stop_words='english')\n",
    "# bow_representation = tfidf.fit_transform(all_texts)\n",
    "\n",
    "from sklearn.feature_extraction.text import CountVectorizer\n",
    "vectorizer = CountVectorizer()\n",
    "X = vectorizer.fit_transform(all_texts)\n",
    "#print( vectorizer.vocabulary_ )\n",
    "#print(len(vectorizer.vocabulary_))\n",
    "\n",
    "#vec = DictVectorizer()"
   ]
  },
  {
   "cell_type": "code",
   "execution_count": 16,
   "metadata": {
    "ExecuteTime": {
     "end_time": "2018-02-09T15:20:25.361204Z",
     "start_time": "2018-02-09T15:20:24.540557Z"
    }
   },
   "outputs": [
    {
     "data": {
      "image/png": "[encoded data removed]",
      "text/plain": [
       "<matplotlib.figure.Figure at 0x1327e9438>"
      ]
     },
     "metadata": {},
     "output_type": "display_data"
    }
   ],
   "source": [
    "limit = 50\n",
    "top_lemmas = dict(sorted(corpus.lemmas.items() ,key=lambda x: x[1], reverse=True)[:limit])\n",
    "sns.set_style(\"white\")\n",
    "plt.figure(figsize=(12,10))\n",
    "plt.bar(range(limit), list(top_lemmas.values())[:limit])\n",
    "plt.xticks(range(limit), list(top_lemmas.keys())[:limit], rotation='vertical')\n",
    "sns.despine(left=True)\n",
    "plt.tight_layout();"
   ]
  },
  {
   "cell_type": "code",
   "execution_count": 17,
   "metadata": {
    "ExecuteTime": {
     "end_time": "2018-02-09T15:20:25.406232Z",
     "start_time": "2018-02-09T15:20:25.370154Z"
    }
   },
   "outputs": [],
   "source": [
    "doc = nlp('Hello goes')"
   ]
  },
  {
   "cell_type": "code",
   "execution_count": 18,
   "metadata": {
    "ExecuteTime": {
     "end_time": "2018-02-09T15:20:25.419129Z",
     "start_time": "2018-02-09T15:20:25.410197Z"
    }
   },
   "outputs": [
    {
     "data": {
      "text/plain": [
       "99"
      ]
     },
     "execution_count": 18,
     "metadata": {},
     "output_type": "execute_result"
    }
   ],
   "source": [
    "doc[1].pos"
   ]
  },
  {
   "cell_type": "code",
   "execution_count": 19,
   "metadata": {
    "ExecuteTime": {
     "end_time": "2018-02-09T15:20:25.822304Z",
     "start_time": "2018-02-09T15:20:25.422917Z"
    }
   },
   "outputs": [
    {
     "ename": "AttributeError",
     "evalue": "'MTCorpus' object has no attribute 'tags'",
     "output_type": "error",
     "traceback": [
      "\u001b[0;31m---------------------------------------------------------------------------\u001b[0m",
      "\u001b[0;31mAttributeError\u001b[0m                            Traceback (most recent call last)",
      "\u001b[0;32m<ipython-input-19-742a67205570>\u001b[0m in \u001b[0;36m<module>\u001b[0;34m()\u001b[0m\n\u001b[0;32m----> 1\u001b[0;31m \u001b[0mtop_tags\u001b[0m \u001b[0;34m=\u001b[0m \u001b[0mdict\u001b[0m\u001b[0;34m(\u001b[0m\u001b[0msorted\u001b[0m\u001b[0;34m(\u001b[0m\u001b[0mcorpus\u001b[0m\u001b[0;34m.\u001b[0m\u001b[0mtags\u001b[0m\u001b[0;34m.\u001b[0m\u001b[0mitems\u001b[0m\u001b[0;34m(\u001b[0m\u001b[0;34m)\u001b[0m \u001b[0;34m,\u001b[0m\u001b[0mkey\u001b[0m\u001b[0;34m=\u001b[0m\u001b[0;32mlambda\u001b[0m \u001b[0mx\u001b[0m\u001b[0;34m:\u001b[0m \u001b[0mx\u001b[0m\u001b[0;34m[\u001b[0m\u001b[0;36m1\u001b[0m\u001b[0;34m]\u001b[0m\u001b[0;34m,\u001b[0m \u001b[0mreverse\u001b[0m\u001b[0;34m=\u001b[0m\u001b[0;32mTrue\u001b[0m\u001b[0;34m)\u001b[0m\u001b[0;34m[\u001b[0m\u001b[0;34m:\u001b[0m\u001b[0;36m100\u001b[0m\u001b[0;34m]\u001b[0m\u001b[0;34m)\u001b[0m\u001b[0;34m\u001b[0m\u001b[0m\n\u001b[0m\u001b[1;32m      2\u001b[0m \u001b[0msns\u001b[0m\u001b[0;34m.\u001b[0m\u001b[0mset_style\u001b[0m\u001b[0;34m(\u001b[0m\u001b[0;34m\"white\"\u001b[0m\u001b[0;34m)\u001b[0m\u001b[0;34m\u001b[0m\u001b[0m\n\u001b[1;32m      3\u001b[0m \u001b[0mplt\u001b[0m\u001b[0;34m.\u001b[0m\u001b[0mfigure\u001b[0m\u001b[0;34m(\u001b[0m\u001b[0mfigsize\u001b[0m\u001b[0;34m=\u001b[0m\u001b[0;34m(\u001b[0m\u001b[0;36m16\u001b[0m\u001b[0;34m,\u001b[0m\u001b[0;36m10\u001b[0m\u001b[0;34m)\u001b[0m\u001b[0;34m)\u001b[0m\u001b[0;34m\u001b[0m\u001b[0m\n\u001b[1;32m      4\u001b[0m \u001b[0mplt\u001b[0m\u001b[0;34m.\u001b[0m\u001b[0mbar\u001b[0m\u001b[0;34m(\u001b[0m\u001b[0mrange\u001b[0m\u001b[0;34m(\u001b[0m\u001b[0mlen\u001b[0m\u001b[0;34m(\u001b[0m\u001b[0mtop_tags\u001b[0m\u001b[0;34m)\u001b[0m\u001b[0;34m)\u001b[0m\u001b[0;34m,\u001b[0m \u001b[0mlist\u001b[0m\u001b[0;34m(\u001b[0m\u001b[0mtop_tags\u001b[0m\u001b[0;34m.\u001b[0m\u001b[0mvalues\u001b[0m\u001b[0;34m(\u001b[0m\u001b[0;34m)\u001b[0m\u001b[0;34m)\u001b[0m\u001b[0;34m[\u001b[0m\u001b[0;34m:\u001b[0m\u001b[0;36m100\u001b[0m\u001b[0;34m]\u001b[0m\u001b[0;34m)\u001b[0m\u001b[0;34m\u001b[0m\u001b[0m\n\u001b[1;32m      5\u001b[0m \u001b[0mplt\u001b[0m\u001b[0;34m.\u001b[0m\u001b[0mxticks\u001b[0m\u001b[0;34m(\u001b[0m\u001b[0mrange\u001b[0m\u001b[0;34m(\u001b[0m\u001b[0mlen\u001b[0m\u001b[0;34m(\u001b[0m\u001b[0mtop_tags\u001b[0m\u001b[0;34m)\u001b[0m\u001b[0;34m)\u001b[0m\u001b[0;34m,\u001b[0m \u001b[0mlist\u001b[0m\u001b[0;34m(\u001b[0m\u001b[0mtop_tags\u001b[0m\u001b[0;34m.\u001b[0m\u001b[0mkeys\u001b[0m\u001b[0;34m(\u001b[0m\u001b[0;34m)\u001b[0m\u001b[0;34m)\u001b[0m\u001b[0;34m[\u001b[0m\u001b[0;34m:\u001b[0m\u001b[0;36m100\u001b[0m\u001b[0;34m]\u001b[0m\u001b[0;34m,\u001b[0m \u001b[0mrotation\u001b[0m\u001b[0;34m=\u001b[0m\u001b[0;34m'vertical'\u001b[0m\u001b[0;34m)\u001b[0m\u001b[0;34m\u001b[0m\u001b[0m\n",
      "\u001b[0;31mAttributeError\u001b[0m: 'MTCorpus' object has no attribute 'tags'"
     ]
    }
   ],
   "source": [
    "top_tags = dict(sorted(corpus.tags.items() ,key=lambda x: x[1], reverse=True)[:100])\n",
    "sns.set_style(\"white\")\n",
    "plt.figure(figsize=(16,10))\n",
    "plt.bar(range(len(top_tags)), list(top_tags.values())[:100])\n",
    "plt.xticks(range(len(top_tags)), list(top_tags.keys())[:100], rotation='vertical')\n",
    "sns.despine(left=True)\n",
    "plt.tight_layout();"
   ]
  },
  {
   "cell_type": "code",
   "execution_count": null,
   "metadata": {},
   "outputs": [],
   "source": []
  }
 ],
 "metadata": {
  "kernelspec": {
   "display_name": "Python 3",
   "language": "python",
   "name": "python3"
  },
  "language_info": {
   "codemirror_mode": {
    "name": "ipython",
    "version": 3
   },
   "file_extension": ".py",
   "mimetype": "text/x-python",
   "name": "python",
   "nbconvert_exporter": "python",
   "pygments_lexer": "ipython3",
   "version": "3.6.3"
  }
 },
 "nbformat": 4,
 "nbformat_minor": 2
}
