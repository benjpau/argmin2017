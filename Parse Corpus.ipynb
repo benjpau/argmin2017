{
 "cells": [
  {
   "cell_type": "code",
   "execution_count": 1,
   "metadata": {
    "ExecuteTime": {
     "end_time": "2017-11-24T16:26:50.454851Z",
     "start_time": "2017-11-24T16:26:48.459368Z"
    },
    "collapsed": true
   },
   "outputs": [],
   "source": [
    "import math\n",
    "import os\n",
    "import time\n",
    "from glob import glob\n",
    "import numpy as np\n",
    "import mxnet as mx\n",
    "from mxnet import gluon, autograd\n",
    "from mxnet.gluon import nn, rnn\n",
    "import spacy"
   ]
  },
  {
   "cell_type": "code",
   "execution_count": 2,
   "metadata": {
    "ExecuteTime": {
     "end_time": "2017-11-24T16:26:51.129297Z",
     "start_time": "2017-11-24T16:26:50.456881Z"
    },
    "collapsed": true
   },
   "outputs": [],
   "source": [
    "import matplotlib.pyplot as plt\n",
    "%matplotlib inline\n",
    "import seaborn as sns\n",
    "sns.set_context(\"notebook\", font_scale=1.5, rc={\"lines.linewidth\": 2.5})\n",
    "from collections import defaultdict"
   ]
  },
  {
   "cell_type": "code",
   "execution_count": 3,
   "metadata": {
    "ExecuteTime": {
     "end_time": "2017-11-24T16:26:51.134894Z",
     "start_time": "2017-11-24T16:26:51.131808Z"
    },
    "collapsed": true
   },
   "outputs": [],
   "source": [
    "import xml.etree.ElementTree as ET"
   ]
  },
  {
   "cell_type": "code",
   "execution_count": 4,
   "metadata": {
    "ExecuteTime": {
     "end_time": "2017-11-24T16:26:51.207673Z",
     "start_time": "2017-11-24T16:26:51.137265Z"
    },
    "collapsed": true
   },
   "outputs": [],
   "source": [
    "from functools import reduce\n",
    "class ArgumentTree(object):\n",
    "    def __init__(self, value, text=None):\n",
    "        self.children = []\n",
    "        self.parent = None\n",
    "        self.value = value\n",
    "        self.text = text\n",
    "    \n",
    "    def __repr__(self):\n",
    "        if self.children:\n",
    "            return '[{}: {}]'.format(self.value, ', '.join([str(c) for c in self.children]))\n",
    "        else:\n",
    "            return '{}({})'.format(self.value, self.text)\n",
    "        \n",
    "    @property\n",
    "    def p_value(self):\n",
    "        if self.parent:\n",
    "            return self.parent.value\n",
    "        else:\n",
    "            return self.value\n",
    "    \n",
    "    def __len__(self):\n",
    "        if self.children:\n",
    "            return 1 + sum([len(l) for l in self.children])\n",
    "        else:\n",
    "            return 0\n",
    "    \n",
    "    @property\n",
    "    def root(self):\n",
    "        if self.parent is None:\n",
    "            return self\n",
    "        else:\n",
    "            return self.parent.root\n",
    "    \n",
    "    def search(self, value):\n",
    "        if self.value == value:\n",
    "            return self\n",
    "        else:\n",
    "            return next((c for c in (child.search(value) for child in self.children) if c is not None), None)\n",
    "    \n",
    "    def add(self, child):\n",
    "        self.children.append(child)\n",
    "        child.parent = self"
   ]
  },
  {
   "cell_type": "code",
   "execution_count": 5,
   "metadata": {
    "ExecuteTime": {
     "end_time": "2017-11-24T16:26:51.239455Z",
     "start_time": "2017-11-24T16:26:51.209485Z"
    },
    "code_folding": [],
    "collapsed": true,
    "scrolled": false
   },
   "outputs": [],
   "source": [
    "def read_ac(xml):\n",
    "    arguments = {x.get('id'):x.text for x in xml.findall('edu')}\n",
    "    edges = [x for x in xml.findall('edge')]\n",
    "\n",
    "    trees = []\n",
    "    # parent (major claim) -> child (claims)\n",
    "    for edge in edges:\n",
    "        fr = edge.get('src')\n",
    "        text = arguments.get(fr)\n",
    "        to = edge.get('trg')\n",
    "        while to.startswith('c'):\n",
    "            to = next(edge for edge in edges if edge.get('id') == to).get('trg')\n",
    "\n",
    "        child = next((node for node in (tree.search(fr) for tree in trees) if node is not None), ArgumentTree(fr, text))\n",
    "        parent = next((node for node in (tree.search(to) for tree in trees) if node is not None), ArgumentTree(to))\n",
    "\n",
    "        parent.add(child)\n",
    "        trees.append(parent)\n",
    "    return trees[0].root"
   ]
  },
  {
   "cell_type": "code",
   "execution_count": 6,
   "metadata": {
    "ExecuteTime": {
     "end_time": "2017-11-24T16:27:01.266104Z",
     "start_time": "2017-11-24T16:26:51.241329Z"
    },
    "collapsed": true
   },
   "outputs": [],
   "source": [
    "nlp = spacy.load('en_vectors_web_lg')"
   ]
  },
  {
   "cell_type": "code",
   "execution_count": 16,
   "metadata": {
    "ExecuteTime": {
     "end_time": "2017-11-24T16:27:01.400391Z",
     "start_time": "2017-11-24T16:27:01.271921Z"
    },
    "collapsed": true
   },
   "outputs": [],
   "source": [
    "from sklearn.model_selection import ShuffleSplit\n",
    "class MTCorpus(object):\n",
    "    def __init__(self):\n",
    "        files = sorted(glob('./arg-microtexts/corpus/en/*.xml'))\n",
    "        self.links = []\n",
    "        self.documents = []\n",
    "        self.lemmas = defaultdict(int)\n",
    "        self.tags = defaultdict(int)\n",
    "        for file in files:\n",
    "            with open(file,'r',encoding='UTF-8') as file:\n",
    "                xml = ET.parse(file)\n",
    "                ac_tree = read_ac(xml)\n",
    "                y = [int(ac_tree.search('a{}'.format(i)).p_value[1:]) for i in range(1, len(ac_tree) + 1)]\n",
    "                self.links.append(y)\n",
    "                for i in range(1, len(ac_tree) + 1):\n",
    "                  #  Structural feature: first AC or not\n",
    "                  #  x = [ac_tree.search('e{}'.format(i)).text]\n",
    "                  #  if i == 1:\n",
    "                  #      pos = True\n",
    "                  #  else:\n",
    "                  #      pos = False\n",
    "                    \n",
    "                    x = [ac_tree.search('e{}'.format(i)).text for i in range(1, len(ac_tree) + 1)]\n",
    "                self.documents.append([])\n",
    "                for ac in x:\n",
    "                    self.documents[-1].append(self.represent(ac))\n",
    "                self.documents[-1] = np.array(self.documents[-1])\n",
    "        \n",
    "    '''Tokenizes a string.'''\n",
    "    def represent(self, sent):\n",
    "        # Tokenize sentence\n",
    "        tokens = nlp(sent)\n",
    "        # lemmas\n",
    "        for token in tokens:\n",
    "            self.lemmas[token.lemma_] += 1\n",
    "            self.tags[token.tag_] += 1\n",
    "        # Bag of words\n",
    "        \n",
    "        \n",
    "        # average across embeddings\n",
    "        return np.mean([token.vector for token in tokens], axis=0)\n",
    "        \n",
    "        # min and max across token embeddings\n",
    "        #maximum = np.amax([token.vector for token in tokens], axis=0)\n",
    "        #minimum = np.amin([token.vector for token in tokens], axis=0)\n",
    "        #return np.concatenate((maximum, minimum), axis=0)\n",
    "        \n",
    "        "
   ]
  },
  {
   "cell_type": "code",
   "execution_count": 17,
   "metadata": {
    "ExecuteTime": {
     "end_time": "2017-11-24T16:27:01.410596Z",
     "start_time": "2017-11-24T16:27:01.402529Z"
    }
   },
   "outputs": [
    {
     "data": {
      "text/plain": [
       "[[0, 1, 2]]"
      ]
     },
     "execution_count": 17,
     "metadata": {},
     "output_type": "execute_result"
    }
   ],
   "source": [
    "[[0,1,2],]"
   ]
  },
  {
   "cell_type": "code",
   "execution_count": 18,
   "metadata": {
    "ExecuteTime": {
     "end_time": "2017-11-24T16:27:01.418499Z",
     "start_time": "2017-11-24T16:27:01.412413Z"
    }
   },
   "outputs": [
    {
     "data": {
      "text/plain": [
       "112"
      ]
     },
     "execution_count": 18,
     "metadata": {},
     "output_type": "execute_result"
    }
   ],
   "source": [
    "files = glob('./arg-microtexts/corpus/en/*.xml')\n",
    "len(files)"
   ]
  },
  {
   "cell_type": "code",
   "execution_count": 19,
   "metadata": {
    "ExecuteTime": {
     "end_time": "2017-11-24T16:27:08.552791Z",
     "start_time": "2017-11-24T16:27:01.420933Z"
    }
   },
   "outputs": [],
   "source": [
    "corpus = MTCorpus()"
   ]
  },
  {
   "cell_type": "code",
   "execution_count": 20,
   "metadata": {
    "ExecuteTime": {
     "end_time": "2017-11-24T16:27:08.558756Z",
     "start_time": "2017-11-24T16:27:08.554732Z"
    }
   },
   "outputs": [
    {
     "data": {
      "text/plain": [
       "(5, 300)"
      ]
     },
     "execution_count": 20,
     "metadata": {},
     "output_type": "execute_result"
    }
   ],
   "source": [
    "corpus.documents[0].shape"
   ]
  },
  {
   "cell_type": "code",
   "execution_count": 21,
   "metadata": {
    "ExecuteTime": {
     "end_time": "2017-11-24T16:27:08.564821Z",
     "start_time": "2017-11-24T16:27:08.560530Z"
    }
   },
   "outputs": [
    {
     "data": {
      "text/plain": [
       "[5, 1, 5, 5, 5]"
      ]
     },
     "execution_count": 21,
     "metadata": {},
     "output_type": "execute_result"
    }
   ],
   "source": [
    "corpus.links[0]"
   ]
  },
  {
   "cell_type": "code",
   "execution_count": 33,
   "metadata": {},
   "outputs": [],
   "source": [
    "# Bag Of Words \n",
    "# Convert a collection of raw documents to a matrix of TF-IDF features.\n",
    "from sklearn.feature_extraction.text import TfidfVectorizer\n",
    "\n",
    "all_texts = sorted(glob('./arg-microtexts/corpus/en/*.txt'))\n",
    "\n",
    "tfidf = TfidfVectorizer(norm='l2',min_df=0, use_idf=True, smooth_idf=False, sublinear_tf=True)\n",
    "bow_representation = tfidf.fit_transform(all_texts)\n",
    "\n",
    "# from sklearn.feature_extraction.text import CountVectorizer\n",
    "# corpus_texts = []\n",
    "# for text in all_texts:\n",
    "#    f = open(text,'r')\n",
    "#    read = f.read()\n",
    "#    corpus_texts.append(read)\n",
    "\n",
    "#vectorizer = CountVectorizer()\n",
    "#X = vectorizer.fit_transform(corpus_texts)\n",
    "#print( vectorizer.vocabulary_ )\n",
    "#print(len(vectorizer.vocabulary_))\n",
    "\n",
    "#vec = DictVectorizer()"
   ]
  },
  {
   "cell_type": "code",
   "execution_count": 34,
   "metadata": {},
   "outputs": [
    {
     "data": {
      "text/plain": [
       "<1x117 sparse matrix of type '<class 'numpy.float64'>'\n",
       "\twith 6 stored elements in Compressed Sparse Row format>"
      ]
     },
     "execution_count": 34,
     "metadata": {},
     "output_type": "execute_result"
    }
   ],
   "source": [
    "bow_representation[2]"
   ]
  },
  {
   "cell_type": "code",
   "execution_count": 18,
   "metadata": {
    "ExecuteTime": {
     "end_time": "2017-11-24T16:27:09.471351Z",
     "start_time": "2017-11-24T16:27:08.566704Z"
    }
   },
   "outputs": [
    {
     "data": {
      "image/png": "[encoded data removed]",
      "text/plain": [
       "<matplotlib.figure.Figure at 0x1a18b83160>"
      ]
     },
     "metadata": {},
     "output_type": "display_data"
    }
   ],
   "source": [
    "limit = 50\n",
    "top_lemmas = dict(sorted(corpus.lemmas.items() ,key=lambda x: x[1], reverse=True)[:limit])\n",
    "sns.set_style(\"white\")\n",
    "plt.figure(figsize=(12,10))\n",
    "plt.bar(range(limit), list(top_lemmas.values())[:limit])\n",
    "plt.xticks(range(limit), list(top_lemmas.keys())[:limit], rotation='vertical')\n",
    "sns.despine(left=True)\n",
    "plt.tight_layout();"
   ]
  },
  {
   "cell_type": "code",
   "execution_count": 25,
   "metadata": {
    "collapsed": true
   },
   "outputs": [],
   "source": [
    "doc = nlp('Hello goes')"
   ]
  },
  {
   "cell_type": "code",
   "execution_count": 33,
   "metadata": {},
   "outputs": [
    {
     "data": {
      "text/plain": [
       "0"
      ]
     },
     "execution_count": 33,
     "metadata": {},
     "output_type": "execute_result"
    }
   ],
   "source": [
    "doc[1].pos"
   ]
  },
  {
   "cell_type": "code",
   "execution_count": 19,
   "metadata": {
    "ExecuteTime": {
     "end_time": "2017-11-24T16:27:10.496635Z",
     "start_time": "2017-11-24T16:27:09.473711Z"
    }
   },
   "outputs": [
    {
     "data": {
      "image/png": "[encoded data removed]",
      "text/plain": [
       "<matplotlib.figure.Figure at 0x1a1b4f65c0>"
      ]
     },
     "metadata": {},
     "output_type": "display_data"
    }
   ],
   "source": [
    "top_tags = dict(sorted(corpus.tags.items() ,key=lambda x: x[1], reverse=True)[:100])\n",
    "sns.set_style(\"white\")\n",
    "plt.figure(figsize=(16,10))\n",
    "plt.bar(range(len(top_tags)), list(top_tags.values())[:100])\n",
    "plt.xticks(range(len(top_tags)), list(top_tags.keys())[:100], rotation='vertical')\n",
    "sns.despine(left=True)\n",
    "plt.tight_layout();"
   ]
  },
  {
   "cell_type": "code",
   "execution_count": null,
   "metadata": {
    "collapsed": true
   },
   "outputs": [],
   "source": []
  }
 ],
 "metadata": {
  "kernelspec": {
   "display_name": "Python [default]",
   "language": "python",
   "name": "python3"
  },
  "language_info": {
   "codemirror_mode": {
    "name": "ipython",
    "version": 3
   },
   "file_extension": ".py",
   "mimetype": "text/x-python",
   "name": "python",
   "nbconvert_exporter": "python",
   "pygments_lexer": "ipython3",
   "version": "3.6.1"
  }
 },
 "nbformat": 4,
 "nbformat_minor": 2
}
