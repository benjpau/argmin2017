{
 "cells": [
  {
   "cell_type": "code",
   "execution_count": 3,
   "metadata": {
    "ExecuteTime": {
     "end_time": "2017-11-24T16:00:42.810805Z",
     "start_time": "2017-11-24T16:00:42.805664Z"
    }
   },
   "outputs": [],
   "source": [
    "from keras import initializers\n",
    "from keras.layers.recurrent import _time_distributed_dense\n",
    "from keras.activations import tanh, softmax\n",
    "from keras.layers import LSTM\n",
    "from keras.engine import InputSpec\n",
    "import keras.backend as K"
   ]
  },
  {
   "cell_type": "code",
   "execution_count": null,
   "metadata": {},
   "outputs": [],
   "source": [
    "class PointerLSTM(LSTM):\n",
    "    def __init__(self, hidden_shape, *args, **kwargs):\n",
    "        self.hidden_shape = hidden_shape\n",
    "        self.input_length = []\n",
    "        super(PointerLSTM, self).__init__(*args, **kwargs)\n",
    "\n",
    "    def build(self, input_shape):\n",
    "        pass\n",
    "    \n",
    "    def call(self, x, mask=None):\n",
    "        pass\n",
    "    \n",
    "    def step(self, x_input, states):\n",
    "        pass\n",
    "    \n",
    "    def get_output_shape_for(self, input_shape):\n",
    "        pass"
   ]
  }
 ],
 "metadata": {
  "kernelspec": {
   "display_name": "Python 3",
   "language": "python",
   "name": "python3"
  },
  "language_info": {
   "codemirror_mode": {
    "name": "ipython",
    "version": 3
   },
   "file_extension": ".py",
   "mimetype": "text/x-python",
   "name": "python",
   "nbconvert_exporter": "python",
   "pygments_lexer": "ipython3",
   "version": "3.6.3"
  }
 },
 "nbformat": 4,
 "nbformat_minor": 2
}
