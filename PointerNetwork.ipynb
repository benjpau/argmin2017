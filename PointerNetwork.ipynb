{
 "cells": [
  {
   "cell_type": "code",
   "execution_count": 1,
   "metadata": {
    "ExecuteTime": {
     "end_time": "2018-02-09T13:03:52.065770Z",
     "start_time": "2018-02-09T13:03:49.722853Z"
    }
   },
   "outputs": [
    {
     "name": "stderr",
     "output_type": "stream",
     "text": [
      "/usr/local/lib/python3.6/site-packages/h5py/__init__.py:36: FutureWarning: Conversion of the second argument of issubdtype from `float` to `np.floating` is deprecated. In future, it will be treated as `np.float64 == np.dtype(float).type`.\n",
      "  from ._conv import register_converters as _register_converters\n",
      "Using TensorFlow backend.\n",
      "/usr/local/Cellar/python3/3.6.3/Frameworks/Python.framework/Versions/3.6/lib/python3.6/importlib/_bootstrap.py:219: RuntimeWarning: compiletime version 3.5 of module 'tensorflow.python.framework.fast_tensor_util' does not match runtime version 3.6\n",
      "  return f(*args, **kwds)\n"
     ]
    }
   ],
   "source": [
    "from keras.models import Model\n",
    "from keras import backend as K\n",
    "from keras.layers import LSTM, Input, Dense, Activation, Add, Reshape, Lambda, Concatenate, \\\n",
    "                         TimeDistributed, Bidirectional, Masking\n",
    "\n",
    "from keras.preprocessing.sequence import pad_sequences\n",
    "from keras.utils import to_categorical, plot_model\n",
    "\n",
    "from keras.optimizers import Adam\n",
    "from keras.callbacks import TensorBoard\n",
    "\n",
    "from keras.models import load_model"
   ]
  },
  {
   "cell_type": "code",
   "execution_count": 2,
   "metadata": {
    "ExecuteTime": {
     "end_time": "2018-02-09T13:03:52.435772Z",
     "start_time": "2018-02-09T13:03:52.067703Z"
    }
   },
   "outputs": [],
   "source": [
    "import matplotlib.pyplot as plt\n",
    "%matplotlib inline\n",
    "import seaborn as sns"
   ]
  },
  {
   "cell_type": "code",
   "execution_count": 3,
   "metadata": {
    "ExecuteTime": {
     "end_time": "2018-02-09T13:03:52.441176Z",
     "start_time": "2018-02-09T13:03:52.437910Z"
    }
   },
   "outputs": [],
   "source": [
    "from collections import Counter"
   ]
  },
  {
   "cell_type": "code",
   "execution_count": 4,
   "metadata": {
    "ExecuteTime": {
     "end_time": "2018-02-09T13:03:52.523181Z",
     "start_time": "2018-02-09T13:03:52.443162Z"
    }
   },
   "outputs": [],
   "source": [
    "from sklearn.model_selection import ShuffleSplit\n",
    "from sklearn.utils import class_weight\n",
    "from tqdm import tqdm"
   ]
  },
  {
   "cell_type": "code",
   "execution_count": 5,
   "metadata": {
    "ExecuteTime": {
     "end_time": "2018-02-09T13:03:52.531178Z",
     "start_time": "2018-02-09T13:03:52.526203Z"
    }
   },
   "outputs": [],
   "source": [
    "import numpy as np\n",
    "np.set_printoptions(precision=3,linewidth=1000,edgeitems=100,suppress=True)\n",
    "seed = 7\n",
    "np.random.seed(seed)"
   ]
  },
  {
   "cell_type": "code",
   "execution_count": 6,
   "metadata": {
    "ExecuteTime": {
     "end_time": "2018-02-09T13:04:00.585166Z",
     "start_time": "2018-02-09T13:04:00.494613Z"
    }
   },
   "outputs": [],
   "source": [
    "docs, links, types = np.load('X_large.npy'), np.load('Ylinks.npy'), np.load('Ytypes.npy')\n",
    "assert len([i for l in links for i in l]) == sum((len(d) for d in docs))"
   ]
  },
  {
   "cell_type": "code",
   "execution_count": 7,
   "metadata": {
    "ExecuteTime": {
     "end_time": "2018-01-23T23:01:41.968248Z",
     "start_time": "2018-01-23T23:01:41.712319Z"
    }
   },
   "outputs": [
    {
     "name": "stdout",
     "output_type": "stream",
     "text": [
      "Counter({5: 71, 6: 24, 4: 11, 3: 3, 7: 2, 10: 1})\n"
     ]
    },
    {
     "data": {
      "image/png": "[encoded data removed]",
      "text/plain": [
       "<matplotlib.figure.Figure at 0x11ef38320>"
      ]
     },
     "metadata": {},
     "output_type": "display_data"
    }
   ],
   "source": [
    "plt.title('distribution of document length')\n",
    "plt.xlabel('length')\n",
    "print(Counter([len(d) for d in docs]))\n",
    "plt.hist([len(d) for d in docs],np.arange(11),);"
   ]
  },
  {
   "cell_type": "code",
   "execution_count": 8,
   "metadata": {
    "ExecuteTime": {
     "end_time": "2018-01-23T23:01:41.978620Z",
     "start_time": "2018-01-23T23:01:41.970958Z"
    }
   },
   "outputs": [
    {
     "name": "stdout",
     "output_type": "stream",
     "text": [
      "Counter({5: 71, 6: 24, 4: 11, 3: 3})\n"
     ]
    }
   ],
   "source": [
    "MAX_LEN = 6\n",
    "docs_masked = np.array([x for x in docs if len(x) <= MAX_LEN]) # it's not really masking, so maybe think of another name\n",
    "links_masked = np.array([x for x in links if len(x) <= MAX_LEN]) # it's not really masking, so maybe think of another name\n",
    "types_masked = np.array([x for x in types if len(x) <= MAX_LEN]) # it's not really masking, so maybe think of another name\n",
    "print(Counter([len(doc) for doc in docs_masked]))"
   ]
  },
  {
   "cell_type": "code",
   "execution_count": 9,
   "metadata": {
    "ExecuteTime": {
     "end_time": "2018-01-23T23:01:42.206150Z",
     "start_time": "2018-01-23T23:01:41.980541Z"
    }
   },
   "outputs": [
    {
     "name": "stdout",
     "output_type": "stream",
     "text": [
      "Counter({1: 259, 3: 96, 5: 76, 2: 55, 4: 51, 6: 37, 7: 1, 9: 1})\n"
     ]
    },
    {
     "data": {
      "image/png": "[encoded data removed]",
      "text/plain": [
       "<matplotlib.figure.Figure at 0x11f914438>"
      ]
     },
     "metadata": {},
     "output_type": "display_data"
    }
   ],
   "source": [
    "plt.title('distribution of links')\n",
    "plt.xlabel('length')\n",
    "print(Counter([i for l in links for i in l]))\n",
    "plt.hist([i for l in links for i in l],np.arange(11),);"
   ]
  },
  {
   "cell_type": "code",
   "execution_count": 10,
   "metadata": {
    "ExecuteTime": {
     "end_time": "2018-01-23T23:01:42.263091Z",
     "start_time": "2018-01-23T23:01:42.209295Z"
    }
   },
   "outputs": [
    {
     "name": "stdout",
     "output_type": "stream",
     "text": [
      "(109, 6, 2641)\n"
     ]
    }
   ],
   "source": [
    "# pad with zeros, truncate longer than 6\n",
    "X = pad_sequences(docs_masked, dtype=float, truncating='post',padding='post')\n",
    "print(X.shape)\n",
    "# convert links 1,1,2 -> [1,0,0,0]\n",
    "#                        [1,0,0,0]\n",
    "#                        [0,1,0,0]\n",
    "#                        [0,0,0,0]\n",
    "Y = np.array([to_categorical(np.array(y)-1, num_classes=X.shape[1]) for y in links_masked])\n",
    "Y_ind = [len(y) for y in Y]\n",
    "Y = pad_sequences(Y, dtype=int, truncating='post', padding='post')\n",
    "\n",
    "Y_t = [pad_sequences(to_categorical(np.array(y)), truncating='post', padding='post') for y in types_masked]\n",
    "Y_t = pad_sequences(Y_t, dtype=int, truncating='post', padding='post')"
   ]
  },
  {
   "cell_type": "code",
   "execution_count": 11,
   "metadata": {
    "ExecuteTime": {
     "end_time": "2018-01-23T23:01:42.270281Z",
     "start_time": "2018-01-23T23:01:42.265114Z"
    }
   },
   "outputs": [
    {
     "data": {
      "text/plain": [
       "((109, 6, 2641), (109, 6, 6), (109, 6, 2))"
      ]
     },
     "execution_count": 11,
     "metadata": {},
     "output_type": "execute_result"
    }
   ],
   "source": [
    "X.shape, Y.shape, Y_t.shape"
   ]
  },
  {
   "cell_type": "code",
   "execution_count": 12,
   "metadata": {
    "ExecuteTime": {
     "end_time": "2018-01-23T23:01:42.279743Z",
     "start_time": "2018-01-23T23:01:42.272433Z"
    }
   },
   "outputs": [
    {
     "data": {
      "text/plain": [
       "((9, 6, 2641), (9, 6, 6), (109, 6, 2))"
      ]
     },
     "execution_count": 12,
     "metadata": {},
     "output_type": "execute_result"
    }
   ],
   "source": [
    "# X_train, Y_train = X[:96], Y[:96]\n",
    "X_test, Y_test, Y_test_ind, Y_t_test = X[100:], Y[100:], Y_ind[100:], Y_t[100:]\n",
    "\n",
    "X_test.shape, Y_test.shape, Y_t.shape"
   ]
  },
  {
   "cell_type": "code",
   "execution_count": 13,
   "metadata": {
    "ExecuteTime": {
     "end_time": "2018-01-23T23:01:42.291445Z",
     "start_time": "2018-01-23T23:01:42.281879Z"
    }
   },
   "outputs": [],
   "source": [
    "from train import create_model, cv"
   ]
  },
  {
   "cell_type": "code",
   "execution_count": 14,
   "metadata": {
    "ExecuteTime": {
     "end_time": "2018-01-23T23:02:32.677140Z",
     "start_time": "2018-01-23T23:01:42.293556Z"
    },
    "scrolled": false
   },
   "outputs": [
    {
     "name": "stderr",
     "output_type": "stream",
     "text": [
      "\r",
      "0it [00:00, ?it/s]"
     ]
    },
    {
     "name": "stdout",
     "output_type": "stream",
     "text": [
      "OK\n",
      "Train on 80 samples, validate on 20 samples\n",
      "Epoch 1/3\n"
     ]
    },
    {
     "name": "stderr",
     "output_type": "stream",
     "text": [
      "/usr/local/lib/python3.6/site-packages/sklearn/metrics/classification.py:1135: UndefinedMetricWarning: F-score is ill-defined and being set to 0.0 in labels with no predicted samples.\n",
      "  'precision', 'predicted', average, warn_for)\n"
     ]
    },
    {
     "name": "stdout",
     "output_type": "stream",
     "text": [
      " - 5s - loss: 17.3177 - link_loss: 1.8219 - type_loss: 0.8035 - link_categorical_accuracy: 0.2771 - type_categorical_accuracy: 0.5769 - val_loss: 13.8154 - val_link_loss: 1.4146 - val_type_loss: 0.8789 - val_link_categorical_accuracy: 0.4917 - val_type_categorical_accuracy: 0.3071\n",
      "Epoch 2/3\n"
     ]
    },
    {
     "name": "stderr",
     "output_type": "stream",
     "text": [
      "/usr/local/lib/python3.6/site-packages/sklearn/metrics/classification.py:1137: UndefinedMetricWarning: F-score is ill-defined and being set to 0.0 in labels with no true samples.\n",
      "  'recall', 'true', average, warn_for)\n"
     ]
    },
    {
     "name": "stdout",
     "output_type": "stream",
     "text": [
      " - 2s - loss: 11.7385 - link_loss: 1.6215 - type_loss: 0.7124 - link_categorical_accuracy: 0.1750 - type_categorical_accuracy: 0.6215 - val_loss: 9.4262 - val_link_loss: 1.7076 - val_type_loss: 0.7712 - val_link_categorical_accuracy: 0.1167 - val_type_categorical_accuracy: 0.3071\n",
      "Epoch 3/3\n",
      " - 2s - loss: 7.9157 - link_loss: 1.5857 - type_loss: 0.7006 - link_categorical_accuracy: 0.1125 - type_categorical_accuracy: 0.4575 - val_loss: 6.3540 - val_link_loss: 1.6353 - val_type_loss: 0.6769 - val_link_categorical_accuracy: 0.0917 - val_type_categorical_accuracy: 0.6334\n"
     ]
    },
    {
     "name": "stderr",
     "output_type": "stream",
     "text": [
      "\r",
      "1it [00:16, 16.13s/it]"
     ]
    },
    {
     "name": "stdout",
     "output_type": "stream",
     "text": [
      "Train on 80 samples, validate on 20 samples\n",
      "Epoch 1/3\n",
      " - 6s - loss: 17.1925 - link_loss: 1.6963 - type_loss: 0.8561 - link_categorical_accuracy: 0.1500 - type_categorical_accuracy: 0.4137 - val_loss: 13.5224 - val_link_loss: 1.3236 - val_type_loss: 0.7108 - val_link_categorical_accuracy: 0.2500 - val_type_categorical_accuracy: 0.5408\n",
      "Epoch 2/3\n",
      " - 2s - loss: 11.5598 - link_loss: 1.6180 - type_loss: 0.7345 - link_categorical_accuracy: 0.1063 - type_categorical_accuracy: 0.6178 - val_loss: 9.2366 - val_link_loss: 1.6602 - val_type_loss: 0.8572 - val_link_categorical_accuracy: 0.0833 - val_type_categorical_accuracy: 0.3571\n",
      "Epoch 3/3\n",
      " - 2s - loss: 7.6888 - link_loss: 1.5359 - type_loss: 0.7216 - link_categorical_accuracy: 0.1229 - type_categorical_accuracy: 0.4638 - val_loss: 6.0160 - val_link_loss: 1.4755 - val_type_loss: 0.5819 - val_link_categorical_accuracy: 0.0833 - val_type_categorical_accuracy: 0.8583\n"
     ]
    },
    {
     "name": "stderr",
     "output_type": "stream",
     "text": [
      "\r",
      "2it [00:32, 16.26s/it]"
     ]
    },
    {
     "name": "stdout",
     "output_type": "stream",
     "text": [
      "Train on 80 samples, validate on 20 samples\n",
      "Epoch 1/3\n",
      " - 7s - loss: 17.2045 - link_loss: 1.6856 - type_loss: 0.9948 - link_categorical_accuracy: 0.2500 - type_categorical_accuracy: 0.4014 - val_loss: 13.4674 - val_link_loss: 1.5268 - val_type_loss: 0.5247 - val_link_categorical_accuracy: 0.0250 - val_type_categorical_accuracy: 0.8413\n",
      "Epoch 2/3\n",
      " - 2s - loss: 11.4752 - link_loss: 1.5757 - type_loss: 0.7526 - link_categorical_accuracy: 0.0833 - type_categorical_accuracy: 0.5796 - val_loss: 9.1827 - val_link_loss: 1.6658 - val_type_loss: 0.9063 - val_link_categorical_accuracy: 0.1000 - val_type_categorical_accuracy: 0.2003\n",
      "Epoch 3/3\n",
      " - 2s - loss: 7.6121 - link_loss: 1.5442 - type_loss: 0.7314 - link_categorical_accuracy: 0.0917 - type_categorical_accuracy: 0.3940 - val_loss: 5.9792 - val_link_loss: 1.5236 - val_type_loss: 0.6380 - val_link_categorical_accuracy: 0.1000 - val_type_categorical_accuracy: 0.6402\n"
     ]
    },
    {
     "name": "stderr",
     "output_type": "stream",
     "text": [
      "\r",
      "3it [00:50, 16.67s/it]"
     ]
    },
    {
     "name": "stdout",
     "output_type": "stream",
     "text": [
      "link_macro_f1:0.0965461827941911 (+/- 0.0002467494387348185)\n",
      "type_macro_f1:0.0 (+/- 0.0)\n",
      "type_ind_f1:[0. 0.] (+/- [0. 0.])\n",
      "val_loss:6.116364240646362 (+/- 0.02845069508615931)\n",
      "val_link_loss:1.5448085069656372 (+/- 0.004482894106163353)\n",
      "val_type_loss:0.6322871545950571 (+/- 0.0015186124241165623)\n",
      "val_link_categorical_accuracy:0.09166666989525159 (+/- 4.629631147340694e-05)\n",
      "val_type_categorical_accuracy:0.7106426457564036 (+/- 0.010914097091856768)\n",
      "loss:7.738884488741557 (+/- 0.016612403809388197)\n",
      "link_loss:1.5552930335203807 (+/- 0.00047496441106195973)\n",
      "type_loss:0.7178703720370928 (+/- 0.0001643470607728897)\n",
      "link_categorical_accuracy:0.10902778051483135 (+/- 0.00016878858545685887)\n",
      "type_categorical_accuracy:0.438444409519434 (+/- 0.0009956229233721327)\n"
     ]
    },
    {
     "name": "stderr",
     "output_type": "stream",
     "text": [
      "\n"
     ]
    }
   ],
   "source": [
    "models = [model for model in cv(docs, links, fold=3, epochs=3, types=types)]"
   ]
  },
  {
   "cell_type": "code",
   "execution_count": 15,
   "metadata": {
    "ExecuteTime": {
     "end_time": "2018-01-23T23:02:32.690527Z",
     "start_time": "2018-01-23T23:02:32.680448Z"
    }
   },
   "outputs": [
    {
     "data": {
      "text/plain": [
       "defaultdict(list,\n",
       "            {'link_categorical_accuracy': [0.2770833382382989,\n",
       "              0.1749999993480742,\n",
       "              0.11250000353902578],\n",
       "             'link_loss': [1.821851797401905,\n",
       "              1.6214796528220177,\n",
       "              1.585735410451889],\n",
       "             'link_macro_f1': [0.11500974658869395,\n",
       "              0.11171355111917725,\n",
       "              0.11842231842231841],\n",
       "             'loss': [17.317720413208008,\n",
       "              11.738530993461609,\n",
       "              7.915698289871216],\n",
       "             'type_categorical_accuracy': [0.5768523905426264,\n",
       "              0.6214604713022709,\n",
       "              0.45752154663205147],\n",
       "             'type_ind_f1': [array([0.875, 0.187]),\n",
       "              array([0., 0.]),\n",
       "              array([0., 0.])],\n",
       "             'type_loss': [0.8034750744700432,\n",
       "              0.7123527228832245,\n",
       "              0.7006311938166618],\n",
       "             'type_macro_f1': [0.5312499999999999, 0.0, 0.0],\n",
       "             'val_link_categorical_accuracy': [0.49166667461395264,\n",
       "              0.11666667088866234,\n",
       "              0.09166666865348816],\n",
       "             'val_link_loss': [1.4145654439926147,\n",
       "              1.7075960636138916,\n",
       "              1.6353264451026917],\n",
       "             'val_loss': [13.81536865234375,\n",
       "              9.426210880279541,\n",
       "              6.35395622253418],\n",
       "             'val_type_categorical_accuracy': [0.3070662170648575,\n",
       "              0.3070662170648575,\n",
       "              0.6333703100681305],\n",
       "             'val_type_loss': [0.878889799118042,\n",
       "              0.771188884973526,\n",
       "              0.676883727312088]})"
      ]
     },
     "execution_count": 15,
     "metadata": {},
     "output_type": "execute_result"
    }
   ],
   "source": [
    "models[0][1]"
   ]
  },
  {
   "cell_type": "code",
   "execution_count": 16,
   "metadata": {
    "ExecuteTime": {
     "end_time": "2018-01-23T23:02:32.760967Z",
     "start_time": "2018-01-23T23:02:32.693317Z"
    },
    "scrolled": true
   },
   "outputs": [
    {
     "name": "stdout",
     "output_type": "stream",
     "text": [
      "0 [5, 1, 5, 5, 5]\n",
      "1 [3, 3, 3, 3, 3]\n",
      "2 [1, 1, 2, 1, 1]\n",
      "3 [3, 3, 3, 3, 4]\n",
      "4 [1, 1, 1, 1, 4]\n",
      "5 [1, 1, 1, 1, 1]\n",
      "6 [2, 3, 3, 3, 4]\n",
      "7 [5, 1, 2, 2, 5]\n",
      "8 [1, 1, 1, 1]\n",
      "9 [1, 1, 1, 3, 1]\n",
      "10 [1, 1, 1]\n",
      "11 [4, 4, 4, 4]\n",
      "12 [1, 1, 1, 1, 1]\n",
      "13 [1, 1, 1, 1, 1]\n",
      "14 [1, 1, 1, 1, 1]\n",
      "15 [3, 3, 5, 5, 5]\n",
      "16 [1, 1, 1, 1, 1]\n",
      "17 [3, 3, 5, 5, 5]\n",
      "18 [2, 6, 4, 6, 6, 6]\n",
      "19 [6, 6, 6, 6, 6, 6]\n",
      "20 [1, 1, 4, 1]\n",
      "21 [1, 1, 1, 1, 1]\n",
      "22 [3, 3, 3, 5, 3]\n",
      "23 [1, 1, 1, 1, 4]\n",
      "24 [3, 3, 3, 3, 3, 3]\n",
      "25 [1, 1, 1, 1, 1, 1]\n",
      "26 [1, 1, 1, 3, 1]\n",
      "27 [1, 1, 1, 3, 3]\n",
      "28 [1, 1, 2, 1, 1]\n",
      "29 [1, 1, 1, 1]\n",
      "30 [1, 1, 1, 1]\n",
      "31 [1, 1, 1, 1]\n",
      "32 [1, 1, 1]\n",
      "33 [1, 1, 1, 1, 4]\n",
      "34 [5, 5, 5, 5, 5]\n",
      "35 [1, 1, 2, 3, 1, 1]\n",
      "36 [1, 1, 1, 1, 1]\n",
      "37 [1, 3, 1, 1, 1, 1]\n",
      "38 [1, 1, 2, 1, 1, 1]\n",
      "39 [1, 1, 2, 1, 1, 5]\n",
      "40 [1, 1, 1, 1, 1, 5]\n",
      "41 [4, 4, 4, 4, 4, 5]\n",
      "42 [1, 1, 1, 3, 3]\n",
      "43 [4, 4, 2, 4, 4]\n",
      "44 [2, 5, 5, 5, 5]\n",
      "45 [5, 5, 5, 5, 5]\n",
      "46 [5, 3, 5, 5, 5]\n",
      "47 [5, 3, 5, 5, 5]\n",
      "48 [3, 3, 5, 5, 5]\n",
      "49 [6, 3, 6, 6, 6, 6]\n",
      "50 [3, 3, 3, 3, 3]\n",
      "51 [5, 5, 4, 5, 5, 5]\n",
      "52 [2, 6, 4, 2, 6, 6]\n",
      "53 [2, 2, 2, 2, 2, 2]\n",
      "54 [6, 6, 6, 6, 4, 6]\n",
      "55 [4, 4, 4, 4]\n",
      "56 [2, 2, 2, 2, 2, 5, 2]\n",
      "57 [5, 5, 5, 5, 5]\n",
      "58 [5, 5, 5, 3, 5]\n",
      "59 [1, 1, 1]\n",
      "60 [1, 1, 1, 3, 3, 3]\n",
      "61 [2, 6, 6, 5, 6, 6]\n",
      "62 [1, 1, 1, 3, 4]\n",
      "63 [1, 1, 2, 1, 1]\n",
      "64 [1, 1, 1, 1, 1]\n",
      "65 [2, 2, 1, 3, 2]\n",
      "66 [1, 1, 1, 1, 4]\n",
      "67 [1, 1, 1, 1, 1]\n",
      "68 [1, 1, 2, 2, 1]\n",
      "69 [3, 3, 3, 3, 3]\n",
      "70 [1, 1, 2, 1, 4]\n",
      "71 [1, 1, 1, 3, 3]\n",
      "72 [1, 1, 1, 1, 1]\n",
      "73 [1, 1, 2, 2, 1]\n",
      "74 [3, 3, 3, 2, 4]\n",
      "75 [1, 1, 1, 1, 4]\n",
      "76 [3, 3, 3, 3, 3]\n",
      "77 [3, 3, 3, 3, 4]\n",
      "78 [3, 3, 3, 3, 4]\n",
      "79 [2, 2, 2, 2, 2]\n",
      "80 [3, 1, 3, 1, 1]\n",
      "81 [1, 1, 2, 2, 1]\n",
      "82 [3, 1, 3, 3, 4]\n",
      "83 [3, 3, 3, 2, 2]\n",
      "84 [1, 1, 1, 1, 1]\n",
      "85 [1, 1, 2, 2, 1, 1]\n",
      "86 [1, 1, 1, 1, 1]\n",
      "87 [3, 3, 3, 3, 3]\n",
      "88 [1, 1, 1, 1, 4]\n",
      "89 [5, 5, 5, 5, 5]\n",
      "90 [1, 1, 1, 3, 1]\n",
      "91 [1, 1, 1, 1]\n",
      "92 [1, 1, 1, 1, 4, 4]\n",
      "93 [1, 1, 4, 1, 1, 1]\n",
      "94 [4, 4, 2, 4, 4, 5, 4, 7, 4, 9]\n",
      "95 [1, 1, 1, 1, 1]\n",
      "96 [3, 3, 3, 3, 3]\n",
      "97 [1, 1, 1, 1, 4]\n",
      "98 [1, 1, 1, 1]\n",
      "99 [2, 2, 2, 2, 2]\n",
      "100 [1, 1, 1, 1, 1]\n",
      "101 [6, 3, 1, 6, 6, 6]\n",
      "102 [6, 6, 6, 6, 6, 6]\n",
      "103 [2, 3, 4, 4, 4]\n",
      "104 [5, 5, 5, 3, 5]\n",
      "105 [1, 1, 2, 1, 4, 1]\n",
      "106 [1, 1, 1, 1, 4]\n",
      "107 [1, 1, 1, 1, 1, 5, 1]\n",
      "108 [5, 1, 5, 3, 5]\n",
      "109 [1, 1, 1, 1]\n",
      "110 [1, 1, 1, 1]\n",
      "111 [5, 1, 5, 5, 5, 5]\n"
     ]
    },
    {
     "data": {
      "text/plain": [
       "[None,\n",
       " None,\n",
       " None,\n",
       " None,\n",
       " None,\n",
       " None,\n",
       " None,\n",
       " None,\n",
       " None,\n",
       " None,\n",
       " None,\n",
       " None,\n",
       " None,\n",
       " None,\n",
       " None,\n",
       " None,\n",
       " None,\n",
       " None,\n",
       " None,\n",
       " None,\n",
       " None,\n",
       " None,\n",
       " None,\n",
       " None,\n",
       " None,\n",
       " None,\n",
       " None,\n",
       " None,\n",
       " None,\n",
       " None,\n",
       " None,\n",
       " None,\n",
       " None,\n",
       " None,\n",
       " None,\n",
       " None,\n",
       " None,\n",
       " None,\n",
       " None,\n",
       " None,\n",
       " None,\n",
       " None,\n",
       " None,\n",
       " None,\n",
       " None,\n",
       " None,\n",
       " None,\n",
       " None,\n",
       " None,\n",
       " None,\n",
       " None,\n",
       " None,\n",
       " None,\n",
       " None,\n",
       " None,\n",
       " None,\n",
       " None,\n",
       " None,\n",
       " None,\n",
       " None,\n",
       " None,\n",
       " None,\n",
       " None,\n",
       " None,\n",
       " None,\n",
       " None,\n",
       " None,\n",
       " None,\n",
       " None,\n",
       " None,\n",
       " None,\n",
       " None,\n",
       " None,\n",
       " None,\n",
       " None,\n",
       " None,\n",
       " None,\n",
       " None,\n",
       " None,\n",
       " None,\n",
       " None,\n",
       " None,\n",
       " None,\n",
       " None,\n",
       " None,\n",
       " None,\n",
       " None,\n",
       " None,\n",
       " None,\n",
       " None,\n",
       " None,\n",
       " None,\n",
       " None,\n",
       " None,\n",
       " None,\n",
       " None,\n",
       " None,\n",
       " None,\n",
       " None,\n",
       " None,\n",
       " None,\n",
       " None,\n",
       " None,\n",
       " None,\n",
       " None,\n",
       " None,\n",
       " None,\n",
       " None,\n",
       " None,\n",
       " None,\n",
       " None,\n",
       " None]"
      ]
     },
     "execution_count": 16,
     "metadata": {},
     "output_type": "execute_result"
    }
   ],
   "source": [
    "[print(i, link) for i, link in enumerate(links)]"
   ]
  },
  {
   "cell_type": "code",
   "execution_count": 17,
   "metadata": {
    "ExecuteTime": {
     "end_time": "2018-01-23T23:02:33.081450Z",
     "start_time": "2018-01-23T23:02:32.765217Z"
    },
    "scrolled": true
   },
   "outputs": [
    {
     "ename": "AttributeError",
     "evalue": "'tuple' object has no attribute 'predict'",
     "output_type": "error",
     "traceback": [
      "\u001b[0;31m---------------------------------------------------------------------------\u001b[0m",
      "\u001b[0;31mAttributeError\u001b[0m                            Traceback (most recent call last)",
      "\u001b[0;32m<ipython-input-17-a366375017af>\u001b[0m in \u001b[0;36m<module>\u001b[0;34m()\u001b[0m\n\u001b[0;32m----> 1\u001b[0;31m \u001b[0;34m[\u001b[0m\u001b[0mprint\u001b[0m\u001b[0;34m(\u001b[0m\u001b[0mi\u001b[0m\u001b[0;34m,\u001b[0m \u001b[0mlink\u001b[0m\u001b[0;34m)\u001b[0m \u001b[0;32mfor\u001b[0m \u001b[0mi\u001b[0m\u001b[0;34m,\u001b[0m \u001b[0mlink\u001b[0m \u001b[0;32min\u001b[0m \u001b[0menumerate\u001b[0m\u001b[0;34m(\u001b[0m\u001b[0mmodels\u001b[0m\u001b[0;34m[\u001b[0m\u001b[0;36m0\u001b[0m\u001b[0;34m]\u001b[0m\u001b[0;34m.\u001b[0m\u001b[0mpredict\u001b[0m\u001b[0;34m(\u001b[0m\u001b[0mX\u001b[0m\u001b[0;34m)\u001b[0m\u001b[0;34m[\u001b[0m\u001b[0;36m0\u001b[0m\u001b[0;34m]\u001b[0m\u001b[0;34m)\u001b[0m\u001b[0;34m]\u001b[0m\u001b[0;34m\u001b[0m\u001b[0m\n\u001b[0m",
      "\u001b[0;31mAttributeError\u001b[0m: 'tuple' object has no attribute 'predict'"
     ]
    }
   ],
   "source": [
    "[print(i, link) for i, link in enumerate(models[0].predict(X)[0])]"
   ]
  },
  {
   "cell_type": "code",
   "execution_count": null,
   "metadata": {
    "ExecuteTime": {
     "end_time": "2018-01-23T23:02:33.082836Z",
     "start_time": "2018-01-23T23:01:38.499Z"
    }
   },
   "outputs": [],
   "source": [
    "np.sum(models[0].predict(X[22:23])[0].argmax(2)[:,:5] == Y[22:23].argmax(2)[:,:5])/5"
   ]
  },
  {
   "cell_type": "code",
   "execution_count": null,
   "metadata": {
    "ExecuteTime": {
     "end_time": "2018-01-23T23:02:33.084489Z",
     "start_time": "2018-01-23T23:01:38.506Z"
    }
   },
   "outputs": [],
   "source": [
    "models[0].evaluate(X[22:23], [Y[22:23], Y_t[22:23]])"
   ]
  },
  {
   "cell_type": "code",
   "execution_count": null,
   "metadata": {
    "ExecuteTime": {
     "end_time": "2018-01-23T23:02:33.086150Z",
     "start_time": "2018-01-23T23:01:38.517Z"
    }
   },
   "outputs": [],
   "source": [
    "models[0].metrics_names"
   ]
  },
  {
   "cell_type": "code",
   "execution_count": null,
   "metadata": {
    "ExecuteTime": {
     "end_time": "2018-01-23T23:02:33.088050Z",
     "start_time": "2018-01-23T23:01:38.521Z"
    }
   },
   "outputs": [],
   "source": [
    "models[0][0].predict(X[22:23])"
   ]
  },
  {
   "cell_type": "code",
   "execution_count": null,
   "metadata": {
    "ExecuteTime": {
     "end_time": "2018-01-23T23:02:33.089241Z",
     "start_time": "2018-01-23T23:01:38.532Z"
    }
   },
   "outputs": [],
   "source": [
    "Y[22:23].argmax(2)[:5]"
   ]
  },
  {
   "cell_type": "code",
   "execution_count": null,
   "metadata": {
    "ExecuteTime": {
     "end_time": "2018-01-23T23:02:33.090733Z",
     "start_time": "2018-01-23T23:01:38.536Z"
    }
   },
   "outputs": [],
   "source": [
    "np.sum(models[0].predict(X[20:21])[0].argmax(2)[:5] == Y[20:21].argmax(2)[:5]) / 6"
   ]
  },
  {
   "cell_type": "code",
   "execution_count": null,
   "metadata": {
    "ExecuteTime": {
     "end_time": "2018-01-23T23:02:33.092354Z",
     "start_time": "2018-01-23T23:01:38.539Z"
    }
   },
   "outputs": [],
   "source": [
    "X_test[2].shape, Y_test[2].shape, Y_t_test[2].shape"
   ]
  },
  {
   "cell_type": "code",
   "execution_count": null,
   "metadata": {
    "ExecuteTime": {
     "end_time": "2018-01-23T23:02:33.093522Z",
     "start_time": "2018-01-23T23:01:38.542Z"
    }
   },
   "outputs": [],
   "source": [
    "X_test[1:2]"
   ]
  },
  {
   "cell_type": "code",
   "execution_count": null,
   "metadata": {
    "ExecuteTime": {
     "end_time": "2018-01-23T23:02:33.094799Z",
     "start_time": "2018-01-23T23:01:38.548Z"
    }
   },
   "outputs": [],
   "source": [
    "adam = Adam()\n",
    "tensorboad = TensorBoard()"
   ]
  },
  {
   "cell_type": "code",
   "execution_count": null,
   "metadata": {
    "ExecuteTime": {
     "end_time": "2018-01-23T23:02:33.096602Z",
     "start_time": "2018-01-23T23:01:38.555Z"
    }
   },
   "outputs": [],
   "source": [
    "test = []\n",
    "for i in range(5):\n",
    "    test.append(histories[0][i].model.evaluate(X[:100],Y[:100]))\n",
    "test = np.array(test)"
   ]
  },
  {
   "cell_type": "code",
   "execution_count": null,
   "metadata": {
    "ExecuteTime": {
     "end_time": "2018-01-23T23:02:33.098574Z",
     "start_time": "2018-01-23T23:01:38.559Z"
    }
   },
   "outputs": [],
   "source": [
    "histories[0][0].model.metrics_names"
   ]
  },
  {
   "cell_type": "code",
   "execution_count": null,
   "metadata": {
    "ExecuteTime": {
     "end_time": "2018-01-23T23:02:33.100338Z",
     "start_time": "2018-01-23T23:01:38.564Z"
    }
   },
   "outputs": [],
   "source": [
    "def mle_loss(y_true, y_pred):\n",
    "     return tf.square(y_true - y_pred)"
   ]
  },
  {
   "cell_type": "code",
   "execution_count": null,
   "metadata": {
    "ExecuteTime": {
     "end_time": "2018-01-23T23:02:33.102019Z",
     "start_time": "2018-01-23T23:01:38.570Z"
    }
   },
   "outputs": [],
   "source": [
    "np.mean(test[:,1]), np.var(test[:,1])"
   ]
  },
  {
   "cell_type": "code",
   "execution_count": null,
   "metadata": {
    "ExecuteTime": {
     "end_time": "2018-01-23T23:02:33.103771Z",
     "start_time": "2018-01-23T23:01:38.577Z"
    }
   },
   "outputs": [],
   "source": [
    "pad_sequences([pad_sequences(to_categorical(np.array(y)-1),maxlen=10) for y in links],maxlen=10)"
   ]
  },
  {
   "cell_type": "code",
   "execution_count": null,
   "metadata": {
    "ExecuteTime": {
     "end_time": "2018-01-23T23:02:33.104811Z",
     "start_time": "2018-01-23T23:01:38.582Z"
    }
   },
   "outputs": [],
   "source": [
    "params"
   ]
  },
  {
   "cell_type": "code",
   "execution_count": null,
   "metadata": {
    "ExecuteTime": {
     "end_time": "2018-01-23T23:02:33.106340Z",
     "start_time": "2018-01-23T23:01:38.587Z"
    }
   },
   "outputs": [],
   "source": [
    "histories[0].model"
   ]
  },
  {
   "cell_type": "code",
   "execution_count": null,
   "metadata": {
    "ExecuteTime": {
     "end_time": "2018-01-23T23:02:33.107505Z",
     "start_time": "2018-01-23T23:01:38.594Z"
    }
   },
   "outputs": [],
   "source": [
    "val_acc = [h.history['val_categorical_accuracy'][-1] for h in histories[0]]\n",
    "print(\"{} (+/- {})\".format(np.mean(val_acc), np.std(val_acc)))"
   ]
  },
  {
   "cell_type": "code",
   "execution_count": null,
   "metadata": {
    "ExecuteTime": {
     "end_time": "2018-01-23T23:02:33.108806Z",
     "start_time": "2018-01-23T23:01:38.598Z"
    }
   },
   "outputs": [],
   "source": [
    "sns.set_context('talk')\n",
    "plt.figure(figsize=(15,10))\n",
    "plt.ylim([0.3,1])\n",
    "x = np.arange(len(histories[0][0].history['val_categorical_accuracy']))\n",
    "[plt.plot(x,h.history['val_categorical_accuracy'],alpha=.5) for h in histories[0]];\n",
    "plt.plot(x,np.mean([h.history['categorical_accuracy'] for h in histories[0]],axis=0),c='red', label='training')\n",
    "plt.plot(x,np.mean([h.history['val_categorical_accuracy'] for h in histories[0]],axis=0),c='black', label='validation')\n",
    "plt.plot(x,[0.653]*4000, c='yellow', linewidth=10, alpha=.5, label='test')\n",
    "plt.xlabel('epochs')\n",
    "plt.ylabel('accuracy')\n",
    "plt.legend();"
   ]
  },
  {
   "cell_type": "code",
   "execution_count": null,
   "metadata": {
    "ExecuteTime": {
     "end_time": "2018-01-23T23:02:33.110108Z",
     "start_time": "2018-01-23T23:01:38.604Z"
    }
   },
   "outputs": [],
   "source": [
    "sns.set_context('talk')\n",
    "plt.figure(figsize=(15,10))\n",
    "[plt.plot(np.arange(4000),h.history['val_loss'],alpha=.5) for h in histories[0]];\n",
    "plt.plot(np.arange(4000),np.mean([h.history['loss'] for h in histories[0]],axis=0),c='red', label='training')\n",
    "plt.plot(np.arange(4000),np.mean([h.history['val_loss'] for h in histories[0]],axis=0),c='black', label='validation')\n",
    "plt.xlabel('epochs')\n",
    "plt.ylabel('loss')\n",
    "plt.legend();"
   ]
  },
  {
   "cell_type": "code",
   "execution_count": null,
   "metadata": {
    "ExecuteTime": {
     "end_time": "2018-01-23T23:02:33.111466Z",
     "start_time": "2018-01-23T23:01:38.612Z"
    }
   },
   "outputs": [],
   "source": [
    "model = load_model('4000epoch_0,9dropout_woFC_wBI.h5', custom_objects={'seq_len': seq_len})"
   ]
  },
  {
   "cell_type": "code",
   "execution_count": null,
   "metadata": {
    "ExecuteTime": {
     "end_time": "2018-01-23T23:02:33.112933Z",
     "start_time": "2018-01-23T23:01:38.615Z"
    }
   },
   "outputs": [],
   "source": [
    "# categorical accuracy (this is a bit skewed since it looks at the each link. \n",
    "#                       Since most of them are 0 paddings, accuracy is much higher than it really is...)\n",
    "model.evaluate(X_test, Y_test)"
   ]
  },
  {
   "cell_type": "code",
   "execution_count": null,
   "metadata": {
    "ExecuteTime": {
     "end_time": "2018-01-23T23:02:33.113875Z",
     "start_time": "2018-01-23T23:01:38.617Z"
    }
   },
   "outputs": [],
   "source": [
    "X_test, Y_test = X[100:], Y[100:]"
   ]
  },
  {
   "cell_type": "code",
   "execution_count": null,
   "metadata": {
    "ExecuteTime": {
     "end_time": "2018-01-23T23:02:33.115006Z",
     "start_time": "2018-01-23T23:01:38.623Z"
    }
   },
   "outputs": [],
   "source": [
    "# Real Accuracy... (i.e. ratio of test samples that are completely correct predicted)\n",
    "#                   not accounting for what has been predicted for the paddings\n",
    "\n",
    "total_docs = len(Y_test)\n",
    "total_links = sum([len(y[:i]) for y, i in zip(Y_test.argmax(-1), Y_test_ind)])\n",
    "\n",
    "print('document accuracy', sum([np.array_equal(p[:i],y[:i]) for p,y,i in zip(np.argmax(histories[0][3].model.predict(X_test),-1), Y_test.argmax(-1), Y_test_ind)]) / total_docs)\n",
    "print('link accuracy', sum([sum(p[:i] == y[:i]) for p,y,i in zip(np.argmax(histories[0][3].model.predict(X_test),-1),Y_test.argmax(-1), Y_test_ind)]) / total_links)"
   ]
  },
  {
   "cell_type": "code",
   "execution_count": null,
   "metadata": {
    "ExecuteTime": {
     "end_time": "2018-01-23T23:02:33.116113Z",
     "start_time": "2018-01-23T23:01:38.626Z"
    }
   },
   "outputs": [],
   "source": [
    "sum([len(y[:i]) for y, i in zip(Y_test.argmax(-1), Y_test_ind)])"
   ]
  },
  {
   "cell_type": "code",
   "execution_count": null,
   "metadata": {
    "ExecuteTime": {
     "end_time": "2018-01-23T23:02:33.117407Z",
     "start_time": "2018-01-23T23:01:38.629Z"
    }
   },
   "outputs": [],
   "source": [
    "sum([np.array_equal(p,y) for p,y in zip(np.argmax(model.predict(X_test),-1),Y_test.argmax(-1))])"
   ]
  },
  {
   "cell_type": "code",
   "execution_count": null,
   "metadata": {
    "ExecuteTime": {
     "end_time": "2018-01-23T23:02:33.119162Z",
     "start_time": "2018-01-23T23:01:38.633Z"
    },
    "scrolled": false
   },
   "outputs": [],
   "source": [
    "# compare predictions on training set with training labels\n",
    "list(zip(models[-1].predict(X_train).argmax(-1), Y_train.argmax(-1)))"
   ]
  },
  {
   "cell_type": "code",
   "execution_count": null,
   "metadata": {
    "ExecuteTime": {
     "end_time": "2018-01-23T23:02:33.120591Z",
     "start_time": "2018-01-23T23:01:38.636Z"
    }
   },
   "outputs": [],
   "source": [
    "list(zip(model.predict(X_test).argmax(-1), Y_test.argmax(-1)))"
   ]
  },
  {
   "cell_type": "code",
   "execution_count": null,
   "metadata": {
    "ExecuteTime": {
     "end_time": "2018-01-23T23:02:33.121906Z",
     "start_time": "2018-01-23T23:01:38.638Z"
    },
    "scrolled": false
   },
   "outputs": [],
   "source": [
    "plot_model(model, to_file='model_withoutloop.png')"
   ]
  },
  {
   "cell_type": "markdown",
   "metadata": {
    "ExecuteTime": {
     "end_time": "2018-01-23T21:36:00.041922Z",
     "start_time": "2018-01-23T21:35:44.431Z"
    }
   },
   "source": [
    "!open 'model_withoutloop.png'"
   ]
  }
 ],
 "metadata": {
  "anaconda-cloud": {},
  "kernelspec": {
   "display_name": "Python 3",
   "language": "python",
   "name": "python3"
  },
  "language_info": {
   "codemirror_mode": {
    "name": "ipython",
    "version": 3
   },
   "file_extension": ".py",
   "mimetype": "text/x-python",
   "name": "python",
   "nbconvert_exporter": "python",
   "pygments_lexer": "ipython3",
   "version": "3.6.3"
  }
 },
 "nbformat": 4,
 "nbformat_minor": 2
}
