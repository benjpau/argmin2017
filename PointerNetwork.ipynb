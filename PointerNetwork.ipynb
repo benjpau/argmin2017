{
 "cells": [
  {
   "cell_type": "code",
   "execution_count": null,
   "metadata": {},
   "outputs": [],
   "source": []
  },
  {
   "cell_type": "code",
   "execution_count": 1,
   "metadata": {
    "ExecuteTime": {
     "end_time": "2017-12-09T19:32:45.337910Z",
     "start_time": "2017-12-09T19:32:42.843120Z"
    }
   },
   "outputs": [
    {
     "name": "stderr",
     "output_type": "stream",
     "text": [
      "Using TensorFlow backend.\n"
     ]
    }
   ],
   "source": [
    "from keras.models import Model\n",
    "from keras.layers import LSTM, Input, Dense, Activation, Add, Reshape, Lambda, Concatenate, \\\n",
    "                         TimeDistributed, Bidirectional\n",
    "from keras.preprocessing.sequence import pad_sequences\n",
    "from keras.utils import to_categorical, plot_model\n",
    "from keras import backend as K\n",
    "from keras.optimizers import Adam\n",
    "from keras.callbacks import TensorBoard"
   ]
  },
  {
   "cell_type": "code",
   "execution_count": 5,
   "metadata": {
    "ExecuteTime": {
     "end_time": "2017-12-09T19:32:57.259106Z",
     "start_time": "2017-12-09T19:32:45.354515Z"
    }
   },
   "outputs": [],
   "source": [
    "from corpus import *\n",
    "from sklearn.utils import shuffle"
   ]
  },
  {
   "cell_type": "code",
   "execution_count": 6,
   "metadata": {
    "ExecuteTime": {
     "end_time": "2017-12-09T19:33:04.497846Z",
     "start_time": "2017-12-09T19:32:57.263991Z"
    }
   },
   "outputs": [],
   "source": [
    "corpus = MTCorpus()"
   ]
  },
  {
   "cell_type": "code",
   "execution_count": 7,
   "metadata": {
    "ExecuteTime": {
     "end_time": "2017-12-09T19:33:04.504274Z",
     "start_time": "2017-12-09T19:33:04.499858Z"
    }
   },
   "outputs": [],
   "source": [
    "# X, Y = shuffle(corpus.documents, corpus.links, random_state=0)\n",
    "# X_train, Y_train = X[:100], Y[:100]\n",
    "# X_test, Y_test = X[100:], Y[100:]\n",
    "\n",
    "# Y_train = [to_categorical(np.array(y)-1, num_classes=len(y)) for y in Y_train]\n",
    "# Y_test = [to_categorical(np.array(y)-1, num_classes=len(y)) for y in Y_test]"
   ]
  },
  {
   "cell_type": "code",
   "execution_count": 8,
   "metadata": {
    "ExecuteTime": {
     "end_time": "2017-12-09T19:33:04.537570Z",
     "start_time": "2017-12-09T19:33:04.507396Z"
    }
   },
   "outputs": [
    {
     "name": "stdout",
     "output_type": "stream",
     "text": [
      "(100, 10, 300) (100, 10, 10) (12, 10, 300) (12, 10, 10)\n"
     ]
    }
   ],
   "source": [
    "X, Y = shuffle(corpus.documents, corpus.links, random_state=0)\n",
    "X, Y = pad_sequences(X), pad_sequences(Y)\n",
    "X_train, Y_train = X[:100], Y[:100]\n",
    "X_test, Y_test = X[100:], Y[100:]\n",
    "\n",
    "# TODO: fix categorical, padding and labels starting from 1\n",
    "Y_train, Y_test = np.array([to_categorical(y, num_classes=X.shape[1]) for y in Y_train]), np.array([to_categorical(y, num_classes=Y.shape[1]) for y in Y_test])\n",
    "\n",
    "print(X_train.shape, Y_train.shape, X_test.shape, Y_test.shape)"
   ]
  },
  {
   "cell_type": "code",
   "execution_count": 9,
   "metadata": {
    "ExecuteTime": {
     "end_time": "2017-12-09T19:37:17.539041Z",
     "start_time": "2017-12-09T19:37:17.448586Z"
    }
   },
   "outputs": [],
   "source": [
    "hidden_size = 512\n",
    "seq_len = X.shape[1]\n",
    "nb_epochs = 100\n",
    "learning_rate = 0.1\n",
    "batch_size = 5"
   ]
  },
  {
   "cell_type": "code",
   "execution_count": 39,
   "metadata": {
    "ExecuteTime": {
     "end_time": "2017-12-09T19:58:38.536038Z",
     "start_time": "2017-12-09T19:58:37.082218Z"
    },
    "scrolled": false
   },
   "outputs": [],
   "source": [
    "from keras.models import Model\n",
    "\n",
    "inp = Input(shape=(seq_len,300), name='input')\n",
    "encoder = Bidirectional(LSTM(hidden_size//2,return_sequences=True, name='encoder'))(inp)\n",
    "decoder = LSTM(hidden_size,return_sequences=True, name='decoder')(encoder)\n",
    "\n",
    "E = TimeDistributed(Dense(hidden_size, use_bias=False), name='E')(encoder)\n",
    "DD = Lambda(lambda x: K.repeat_elements(K.expand_dims(x, 2), seq_len, 2))(decoder)\n",
    "DD = TimeDistributed(Dense(hidden_size, use_bias=False), name='D')(DD)\n",
    "\n",
    "add = Add(name='W1E_W2Di')\n",
    "tanh = Activation('tanh', name='tanh')\n",
    "vt = Dense(1, use_bias=False, name='vT')\n",
    "softmax = Activation('softmax', name='softmax')\n",
    "\n",
    "attention = add([E,DD])\n",
    "attention = tanh(attention)\n",
    "attention = vt(attention)\n",
    "attention = Lambda(lambda x: K.squeeze(x, -1))(attention)\n",
    "attention = softmax(attention)\n",
    "\n",
    "\n",
    "model = Model(inputs=inp, outputs=attention)"
   ]
  },
  {
   "cell_type": "code",
   "execution_count": 40,
   "metadata": {
    "ExecuteTime": {
     "end_time": "2017-12-09T19:58:38.550596Z",
     "start_time": "2017-12-09T19:58:38.538946Z"
    },
    "scrolled": true
   },
   "outputs": [
    {
     "name": "stdout",
     "output_type": "stream",
     "text": [
      "__________________________________________________________________________________________________\n",
      "Layer (type)                    Output Shape         Param #     Connected to                     \n",
      "==================================================================================================\n",
      "input (InputLayer)              (None, 10, 300)      0                                            \n",
      "__________________________________________________________________________________________________\n",
      "bidirectional_9 (Bidirectional) (None, 10, 512)      1140736     input[0][0]                      \n",
      "__________________________________________________________________________________________________\n",
      "decoder (LSTM)                  (None, 10, 512)      2099200     bidirectional_9[0][0]            \n",
      "__________________________________________________________________________________________________\n",
      "lambda_15 (Lambda)              (None, 10, 10, 512)  0           decoder[0][0]                    \n",
      "__________________________________________________________________________________________________\n",
      "E (TimeDistributed)             (None, 10, 512)      262144      bidirectional_9[0][0]            \n",
      "__________________________________________________________________________________________________\n",
      "D (TimeDistributed)             (None, 10, 10, 512)  262144      lambda_15[0][0]                  \n",
      "__________________________________________________________________________________________________\n",
      "W1E_W2Di (Add)                  (None, 10, 10, 512)  0           E[0][0]                          \n",
      "                                                                 D[0][0]                          \n",
      "__________________________________________________________________________________________________\n",
      "tanh (Activation)               (None, 10, 10, 512)  0           W1E_W2Di[0][0]                   \n",
      "__________________________________________________________________________________________________\n",
      "vT (Dense)                      (None, 10, 10, 1)    512         tanh[0][0]                       \n",
      "__________________________________________________________________________________________________\n",
      "lambda_16 (Lambda)              (None, 10, 10)       0           vT[0][0]                         \n",
      "__________________________________________________________________________________________________\n",
      "softmax (Activation)            (None, 10, 10)       0           lambda_16[0][0]                  \n",
      "==================================================================================================\n",
      "Total params: 3,764,736\n",
      "Trainable params: 3,764,736\n",
      "Non-trainable params: 0\n",
      "__________________________________________________________________________________________________\n"
     ]
    }
   ],
   "source": [
    "model.summary()"
   ]
  },
  {
   "cell_type": "code",
   "execution_count": 41,
   "metadata": {
    "ExecuteTime": {
     "end_time": "2017-12-09T19:58:41.008476Z",
     "start_time": "2017-12-09T19:58:40.864243Z"
    },
    "scrolled": false
   },
   "outputs": [],
   "source": [
    "plot_model(model, to_file='model_withoutloop.png')"
   ]
  },
  {
   "cell_type": "code",
   "execution_count": 42,
   "metadata": {
    "ExecuteTime": {
     "end_time": "2017-12-09T19:58:41.746684Z",
     "start_time": "2017-12-09T19:58:41.720330Z"
    }
   },
   "outputs": [],
   "source": [
    "adam = Adam()\n",
    "tensorboad = TensorBoard()"
   ]
  },
  {
   "cell_type": "code",
   "execution_count": 60,
   "metadata": {
    "ExecuteTime": {
     "end_time": "2017-12-09T20:15:17.866120Z",
     "start_time": "2017-12-09T20:13:21.739776Z"
    },
    "scrolled": true
   },
   "outputs": [
    {
     "name": "stdout",
     "output_type": "stream",
     "text": [
      "building model...\n",
      "Train on 100 samples, validate on 12 samples\n",
      "Epoch 1/50\n",
      " - 2s - loss: 1.7533 - categorical_accuracy: 0.4700 - val_loss: 1.4197 - val_categorical_accuracy: 0.5000\n",
      "Epoch 2/50\n",
      " - 1s - loss: 1.3093 - categorical_accuracy: 0.4840 - val_loss: 1.3065 - val_categorical_accuracy: 0.5000\n",
      "Epoch 3/50\n",
      " - 1s - loss: 1.3626 - categorical_accuracy: 0.4840 - val_loss: 1.1695 - val_categorical_accuracy: 0.5000\n",
      "Epoch 4/50\n",
      " - 1s - loss: 1.2506 - categorical_accuracy: 0.4840 - val_loss: 1.0039 - val_categorical_accuracy: 0.5000\n",
      "Epoch 5/50\n",
      " - 1s - loss: 1.1806 - categorical_accuracy: 0.4840 - val_loss: 1.0200 - val_categorical_accuracy: 0.5000\n",
      "Epoch 6/50\n",
      " - 1s - loss: 1.1091 - categorical_accuracy: 0.4840 - val_loss: 0.9727 - val_categorical_accuracy: 0.5000\n",
      "Epoch 7/50\n",
      " - 1s - loss: 1.0539 - categorical_accuracy: 0.4840 - val_loss: 0.9520 - val_categorical_accuracy: 0.5000\n",
      "Epoch 8/50\n",
      " - 2s - loss: 1.0652 - categorical_accuracy: 0.4840 - val_loss: 0.9756 - val_categorical_accuracy: 0.5000\n",
      "Epoch 9/50\n",
      " - 1s - loss: 1.0465 - categorical_accuracy: 0.4840 - val_loss: 0.9554 - val_categorical_accuracy: 0.5000\n",
      "Epoch 10/50\n",
      " - 1s - loss: 1.0364 - categorical_accuracy: 0.4840 - val_loss: 0.9663 - val_categorical_accuracy: 0.5000\n",
      "Epoch 11/50\n",
      " - 1s - loss: 1.0248 - categorical_accuracy: 0.4840 - val_loss: 0.9493 - val_categorical_accuracy: 0.5000\n",
      "Epoch 12/50\n",
      " - 1s - loss: 1.1214 - categorical_accuracy: 0.4840 - val_loss: 1.1482 - val_categorical_accuracy: 0.5000\n",
      "Epoch 13/50\n",
      " - 1s - loss: 1.1174 - categorical_accuracy: 0.4860 - val_loss: 0.9499 - val_categorical_accuracy: 0.5000\n",
      "Epoch 14/50\n",
      " - 1s - loss: 1.0323 - categorical_accuracy: 0.4850 - val_loss: 0.9303 - val_categorical_accuracy: 0.5000\n",
      "Epoch 15/50\n",
      " - 1s - loss: 1.0384 - categorical_accuracy: 0.4840 - val_loss: 0.9971 - val_categorical_accuracy: 0.5000\n",
      "Epoch 16/50\n",
      " - 1s - loss: 1.0303 - categorical_accuracy: 0.4840 - val_loss: 0.9359 - val_categorical_accuracy: 0.5000\n",
      "Epoch 17/50\n",
      " - 1s - loss: 1.0200 - categorical_accuracy: 0.4870 - val_loss: 0.9279 - val_categorical_accuracy: 0.5000\n",
      "Epoch 18/50\n",
      " - 1s - loss: 1.0253 - categorical_accuracy: 0.4850 - val_loss: 0.9566 - val_categorical_accuracy: 0.5000\n",
      "Epoch 19/50\n",
      " - 1s - loss: 0.9917 - categorical_accuracy: 0.4840 - val_loss: 0.9254 - val_categorical_accuracy: 0.5000\n",
      "Epoch 20/50\n",
      " - 1s - loss: 0.9692 - categorical_accuracy: 0.4850 - val_loss: 0.9094 - val_categorical_accuracy: 0.5000\n",
      "Epoch 21/50\n",
      " - 1s - loss: 0.9686 - categorical_accuracy: 0.4890 - val_loss: 0.9086 - val_categorical_accuracy: 0.5000\n",
      "Epoch 22/50\n",
      " - 1s - loss: 0.9811 - categorical_accuracy: 0.4860 - val_loss: 0.9796 - val_categorical_accuracy: 0.5083\n",
      "Epoch 23/50\n",
      " - 1s - loss: 1.0180 - categorical_accuracy: 0.5080 - val_loss: 0.9052 - val_categorical_accuracy: 0.5000\n",
      "Epoch 24/50\n",
      " - 1s - loss: 0.9805 - categorical_accuracy: 0.4840 - val_loss: 0.9193 - val_categorical_accuracy: 0.5000\n",
      "Epoch 25/50\n",
      " - 1s - loss: 0.9715 - categorical_accuracy: 0.4840 - val_loss: 0.9393 - val_categorical_accuracy: 0.5000\n",
      "Epoch 26/50\n",
      " - 1s - loss: 0.9774 - categorical_accuracy: 0.4840 - val_loss: 0.9338 - val_categorical_accuracy: 0.5000\n",
      "Epoch 27/50\n",
      " - 1s - loss: 1.0094 - categorical_accuracy: 0.4850 - val_loss: 0.9810 - val_categorical_accuracy: 0.5167\n",
      "Epoch 28/50\n",
      " - 1s - loss: 0.9782 - categorical_accuracy: 0.4850 - val_loss: 0.9893 - val_categorical_accuracy: 0.5000\n",
      "Epoch 29/50\n",
      " - 1s - loss: 1.0297 - categorical_accuracy: 0.5860 - val_loss: 0.9790 - val_categorical_accuracy: 0.5917\n",
      "Epoch 30/50\n",
      " - 1s - loss: 1.0013 - categorical_accuracy: 0.5680 - val_loss: 0.9230 - val_categorical_accuracy: 0.5250\n",
      "Epoch 31/50\n",
      " - 1s - loss: 0.9845 - categorical_accuracy: 0.6280 - val_loss: 0.9051 - val_categorical_accuracy: 0.7083\n",
      "Epoch 32/50\n",
      " - 2s - loss: 0.9576 - categorical_accuracy: 0.6470 - val_loss: 0.9026 - val_categorical_accuracy: 0.5500\n",
      "Epoch 33/50\n",
      " - 2s - loss: 0.9590 - categorical_accuracy: 0.5310 - val_loss: 0.9090 - val_categorical_accuracy: 0.7333\n",
      "Epoch 34/50\n",
      " - 1s - loss: 0.9441 - categorical_accuracy: 0.5580 - val_loss: 0.9475 - val_categorical_accuracy: 0.5250\n",
      "Epoch 35/50\n",
      " - 2s - loss: 0.9461 - categorical_accuracy: 0.5830 - val_loss: 0.8902 - val_categorical_accuracy: 0.7083\n",
      "Epoch 36/50\n",
      " - 1s - loss: 0.9323 - categorical_accuracy: 0.6430 - val_loss: 0.8819 - val_categorical_accuracy: 0.7000\n",
      "Epoch 37/50\n",
      " - 1s - loss: 0.9277 - categorical_accuracy: 0.6550 - val_loss: 0.8810 - val_categorical_accuracy: 0.5417\n",
      "Epoch 38/50\n",
      " - 1s - loss: 0.9498 - categorical_accuracy: 0.5740 - val_loss: 0.8961 - val_categorical_accuracy: 0.7000\n",
      "Epoch 39/50\n",
      " - 2s - loss: 0.9519 - categorical_accuracy: 0.5980 - val_loss: 0.8737 - val_categorical_accuracy: 0.5417\n",
      "Epoch 40/50\n",
      " - 1s - loss: 0.9157 - categorical_accuracy: 0.6300 - val_loss: 0.8497 - val_categorical_accuracy: 0.5417\n",
      "Epoch 41/50\n",
      " - 1s - loss: 0.9172 - categorical_accuracy: 0.6050 - val_loss: 0.8583 - val_categorical_accuracy: 0.7333\n",
      "Epoch 42/50\n",
      " - 1s - loss: 0.9101 - categorical_accuracy: 0.6100 - val_loss: 0.8172 - val_categorical_accuracy: 0.7083\n",
      "Epoch 43/50\n",
      " - 1s - loss: 0.8680 - categorical_accuracy: 0.6880 - val_loss: 0.7873 - val_categorical_accuracy: 0.7417\n",
      "Epoch 44/50\n",
      " - 1s - loss: 0.8398 - categorical_accuracy: 0.6990 - val_loss: 0.7652 - val_categorical_accuracy: 0.7333\n",
      "Epoch 45/50\n",
      " - 1s - loss: 0.8288 - categorical_accuracy: 0.7020 - val_loss: 0.7947 - val_categorical_accuracy: 0.7333\n",
      "Epoch 46/50\n",
      " - 1s - loss: 0.8326 - categorical_accuracy: 0.6840 - val_loss: 0.7293 - val_categorical_accuracy: 0.7333\n",
      "Epoch 47/50\n",
      " - 1s - loss: 0.8147 - categorical_accuracy: 0.6830 - val_loss: 0.7287 - val_categorical_accuracy: 0.7333\n",
      "Epoch 48/50\n",
      " - 1s - loss: 0.7825 - categorical_accuracy: 0.7080 - val_loss: 0.7263 - val_categorical_accuracy: 0.7333\n",
      "Epoch 49/50\n",
      " - 1s - loss: 0.7869 - categorical_accuracy: 0.6950 - val_loss: 0.7187 - val_categorical_accuracy: 0.7333\n",
      "Epoch 50/50\n",
      " - 1s - loss: 0.7984 - categorical_accuracy: 0.7040 - val_loss: 0.7212 - val_categorical_accuracy: 0.7333\n"
     ]
    }
   ],
   "source": [
    "print(\"building model...\")\n",
    "\n",
    "model.compile(optimizer=adam,\n",
    "              loss='categorical_crossentropy',\n",
    "              metrics=['categorical_accuracy'])\n",
    "\n",
    "history = model.fit(X_train, Y_train, validation_data=(X_test, Y_test),\n",
    "                    epochs=50, batch_size=16, verbose=2,\n",
    "                    callbacks=[tensorboad])"
   ]
  },
  {
   "cell_type": "code",
   "execution_count": 52,
   "metadata": {
    "ExecuteTime": {
     "end_time": "2017-12-09T20:05:08.380490Z",
     "start_time": "2017-12-09T20:05:08.318489Z"
    }
   },
   "outputs": [
    {
     "name": "stdout",
     "output_type": "stream",
     "text": [
      "\r",
      "12/12 [==============================] - 0s 4ms/step\n"
     ]
    },
    {
     "data": {
      "text/plain": [
       "[0.72529667615890503, 0.73333334922790527]"
      ]
     },
     "execution_count": 52,
     "metadata": {},
     "output_type": "execute_result"
    }
   ],
   "source": [
    "# categorical accuracy (this is a bit skewed since it looks at the each link. \n",
    "#                       Since most of them are 0 paddings, accuracy is much higher than it really is...)\n",
    "model.evaluate(X_test, Y_test)"
   ]
  },
  {
   "cell_type": "code",
   "execution_count": 51,
   "metadata": {
    "ExecuteTime": {
     "end_time": "2017-12-09T20:04:00.934182Z",
     "start_time": "2017-12-09T20:04:00.874272Z"
    }
   },
   "outputs": [
    {
     "data": {
      "text/plain": [
       "0.3333333333333333"
      ]
     },
     "execution_count": 51,
     "metadata": {},
     "output_type": "execute_result"
    }
   ],
   "source": [
    "# Real Accuracy... (i.e. ratio of test samples that are completely correct predicted)\n",
    "sum([np.array_equal(p,y) for p,y in zip(np.argmax(model.predict(X_test),-1),Y_test.argmax(-1))]) / len(Y_test)"
   ]
  },
  {
   "cell_type": "code",
   "execution_count": 50,
   "metadata": {
    "ExecuteTime": {
     "end_time": "2017-12-09T20:03:00.349294Z",
     "start_time": "2017-12-09T20:03:00.030379Z"
    }
   },
   "outputs": [
    {
     "data": {
      "text/plain": [
       "[(array([0, 0, 0, 0, 0, 1, 1, 1, 1, 1]),\n",
       "  array([0, 0, 0, 0, 0, 1, 1, 1, 3, 1])),\n",
       " (array([0, 0, 0, 0, 0, 1, 1, 1, 1, 1]),\n",
       "  array([0, 0, 0, 0, 0, 3, 3, 5, 5, 5])),\n",
       " (array([0, 0, 0, 0, 0, 0, 0, 1, 1, 1]),\n",
       "  array([0, 0, 0, 0, 0, 0, 0, 1, 1, 1])),\n",
       " (array([0, 0, 0, 0, 0, 1, 1, 1, 1, 1]),\n",
       "  array([0, 0, 0, 0, 0, 1, 1, 1, 1, 4])),\n",
       " (array([0, 0, 0, 0, 0, 1, 1, 1, 1, 1]),\n",
       "  array([0, 0, 0, 0, 0, 3, 3, 3, 3, 3])),\n",
       " (array([0, 0, 0, 0, 0, 1, 1, 1, 1, 1]),\n",
       "  array([0, 0, 0, 0, 0, 5, 1, 2, 2, 5])),\n",
       " (array([0, 0, 0, 0, 0, 0, 1, 1, 1, 1]),\n",
       "  array([0, 0, 0, 0, 0, 0, 1, 1, 1, 1])),\n",
       " (array([0, 0, 0, 0, 0, 1, 1, 1, 1, 1]),\n",
       "  array([0, 0, 0, 0, 0, 1, 1, 2, 1, 1])),\n",
       " (array([0, 0, 0, 0, 0, 1, 1, 1, 1, 1]),\n",
       "  array([0, 0, 0, 0, 0, 1, 1, 1, 3, 1])),\n",
       " (array([0, 0, 0, 0, 0, 1, 1, 1, 1, 1]),\n",
       "  array([0, 0, 0, 0, 0, 1, 1, 1, 1, 4])),\n",
       " (array([0, 0, 0, 0, 0, 1, 1, 1, 1, 1]),\n",
       "  array([0, 0, 0, 0, 0, 3, 3, 3, 5, 3])),\n",
       " (array([0, 0, 0, 0, 0, 1, 1, 1, 1, 1]),\n",
       "  array([0, 0, 0, 0, 0, 3, 3, 3, 3, 4])),\n",
       " (array([0, 0, 0, 0, 0, 1, 1, 1, 1, 1]),\n",
       "  array([0, 0, 0, 0, 0, 1, 1, 1, 1, 4])),\n",
       " (array([0, 0, 0, 0, 0, 1, 1, 1, 1, 1]),\n",
       "  array([0, 0, 0, 0, 0, 1, 1, 1, 1, 1])),\n",
       " (array([0, 0, 0, 0, 0, 1, 1, 1, 1, 1]),\n",
       "  array([0, 0, 0, 0, 0, 3, 1, 3, 3, 4])),\n",
       " (array([0, 0, 0, 0, 1, 1, 1, 1, 1, 1]),\n",
       "  array([0, 0, 0, 0, 1, 1, 1, 1, 4, 4])),\n",
       " (array([0, 0, 0, 0, 0, 1, 1, 1, 1, 1]),\n",
       "  array([0, 0, 0, 0, 0, 1, 1, 1, 1, 1])),\n",
       " (array([0, 0, 0, 0, 0, 1, 1, 1, 1, 1]),\n",
       "  array([0, 0, 0, 0, 0, 1, 1, 1, 1, 1])),\n",
       " (array([0, 0, 0, 0, 0, 1, 1, 1, 1, 1]),\n",
       "  array([0, 0, 0, 0, 0, 1, 1, 1, 1, 4])),\n",
       " (array([0, 0, 0, 0, 0, 1, 1, 1, 1, 1]),\n",
       "  array([0, 0, 0, 0, 0, 5, 5, 5, 5, 5])),\n",
       " (array([0, 0, 0, 0, 1, 1, 1, 1, 1, 1]),\n",
       "  array([0, 0, 0, 0, 3, 3, 3, 3, 3, 3])),\n",
       " (array([0, 0, 0, 0, 1, 1, 1, 6, 6, 6]),\n",
       "  array([0, 0, 0, 0, 1, 1, 4, 1, 1, 1])),\n",
       " (array([0, 0, 0, 0, 0, 1, 1, 1, 1, 1]),\n",
       "  array([0, 0, 0, 0, 0, 5, 5, 5, 5, 5])),\n",
       " (array([0, 0, 0, 0, 0, 0, 1, 1, 1, 1]),\n",
       "  array([0, 0, 0, 0, 0, 0, 1, 1, 1, 1])),\n",
       " (array([0, 0, 0, 0, 0, 1, 1, 1, 1, 1]),\n",
       "  array([0, 0, 0, 0, 0, 1, 1, 2, 1, 1])),\n",
       " (array([0, 0, 0, 0, 0, 0, 1, 1, 1, 1]),\n",
       "  array([0, 0, 0, 0, 0, 0, 1, 1, 1, 1])),\n",
       " (array([0, 0, 0, 0, 0, 0, 1, 1, 1, 1]),\n",
       "  array([0, 0, 0, 0, 0, 0, 0, 1, 1, 1])),\n",
       " (array([0, 0, 0, 0, 0, 1, 1, 1, 1, 1]),\n",
       "  array([0, 0, 0, 0, 0, 3, 3, 3, 3, 4])),\n",
       " (array([0, 0, 0, 0, 0, 1, 1, 1, 1, 1]),\n",
       "  array([0, 0, 0, 0, 0, 1, 1, 1, 3, 4])),\n",
       " (array([0, 0, 0, 0, 1, 1, 1, 6, 6, 6]),\n",
       "  array([0, 0, 0, 0, 6, 6, 6, 6, 4, 6])),\n",
       " (array([0, 0, 0, 0, 0, 1, 1, 1, 1, 1]),\n",
       "  array([0, 0, 0, 0, 0, 1, 1, 2, 2, 1])),\n",
       " (array([0, 0, 0, 0, 0, 1, 1, 1, 1, 1]),\n",
       "  array([0, 0, 0, 0, 0, 2, 3, 3, 3, 4])),\n",
       " (array([0, 0, 0, 0, 1, 1, 1, 1, 1, 1]),\n",
       "  array([0, 0, 0, 0, 5, 5, 4, 5, 5, 5])),\n",
       " (array([0, 0, 0, 0, 1, 1, 1, 1, 6, 6]),\n",
       "  array([0, 0, 0, 0, 5, 1, 5, 5, 5, 5])),\n",
       " (array([0, 0, 0, 0, 0, 1, 1, 1, 1, 1]),\n",
       "  array([0, 0, 0, 0, 0, 1, 1, 1, 1, 1])),\n",
       " (array([0, 0, 0, 0, 0, 1, 1, 1, 1, 1]),\n",
       "  array([0, 0, 0, 0, 0, 1, 1, 1, 1, 4])),\n",
       " (array([0, 0, 0, 0, 0, 1, 1, 1, 1, 1]),\n",
       "  array([0, 0, 0, 0, 0, 4, 4, 2, 4, 4])),\n",
       " (array([0, 0, 0, 0, 0, 1, 1, 1, 1, 1]),\n",
       "  array([0, 0, 0, 0, 0, 3, 3, 3, 2, 4])),\n",
       " (array([0, 0, 0, 0, 1, 1, 1, 6, 6, 6]),\n",
       "  array([0, 0, 0, 0, 1, 1, 1, 3, 3, 3])),\n",
       " (array([0, 0, 0, 0, 0, 1, 1, 1, 1, 1]),\n",
       "  array([0, 0, 0, 0, 0, 1, 1, 1, 3, 3])),\n",
       " (array([0, 0, 0, 0, 1, 1, 1, 6, 6, 6]),\n",
       "  array([0, 0, 0, 0, 2, 6, 4, 6, 6, 6])),\n",
       " (array([0, 0, 0, 0, 0, 0, 1, 1, 1, 1]),\n",
       "  array([0, 0, 0, 0, 0, 0, 4, 4, 4, 4])),\n",
       " (array([0, 0, 0, 1, 1, 1, 1, 1, 1, 1]),\n",
       "  array([0, 0, 0, 2, 2, 2, 2, 2, 5, 2])),\n",
       " (array([0, 0, 0, 0, 0, 1, 1, 1, 1, 1]),\n",
       "  array([0, 0, 0, 0, 0, 1, 1, 1, 3, 3])),\n",
       " (array([0, 0, 0, 0, 0, 1, 1, 1, 1, 1]),\n",
       "  array([0, 0, 0, 0, 0, 3, 3, 3, 3, 3])),\n",
       " (array([0, 0, 0, 0, 0, 1, 1, 1, 1, 1]),\n",
       "  array([0, 0, 0, 0, 0, 1, 1, 2, 2, 1])),\n",
       " (array([0, 0, 0, 0, 0, 1, 1, 1, 1, 1]),\n",
       "  array([0, 0, 0, 0, 0, 5, 5, 5, 3, 5])),\n",
       " (array([0, 0, 0, 0, 0, 1, 1, 1, 1, 1]),\n",
       "  array([0, 0, 0, 0, 0, 3, 3, 3, 3, 3])),\n",
       " (array([0, 0, 0, 1, 1, 1, 1, 1, 6, 6]),\n",
       "  array([0, 0, 0, 1, 1, 1, 1, 1, 5, 1])),\n",
       " (array([0, 0, 0, 0, 0, 1, 1, 1, 1, 1]),\n",
       "  array([0, 0, 0, 0, 0, 1, 1, 1, 3, 3])),\n",
       " (array([0, 0, 0, 0, 1, 1, 1, 1, 1, 1]),\n",
       "  array([0, 0, 0, 0, 4, 4, 4, 4, 4, 5])),\n",
       " (array([0, 0, 0, 0, 0, 1, 1, 1, 1, 1]),\n",
       "  array([0, 0, 0, 0, 0, 1, 1, 1, 1, 4])),\n",
       " (array([0, 0, 0, 0, 0, 1, 1, 1, 1, 1]),\n",
       "  array([0, 0, 0, 0, 0, 3, 3, 5, 5, 5])),\n",
       " (array([0, 0, 0, 0, 0, 1, 1, 1, 1, 1]),\n",
       "  array([0, 0, 0, 0, 0, 3, 3, 5, 5, 5])),\n",
       " (array([0, 0, 0, 0, 1, 1, 1, 6, 6, 6]),\n",
       "  array([0, 0, 0, 0, 2, 6, 4, 2, 6, 6])),\n",
       " (array([0, 0, 0, 0, 1, 1, 1, 1, 1, 1]),\n",
       "  array([0, 0, 0, 0, 1, 1, 1, 1, 1, 5])),\n",
       " (array([0, 0, 0, 0, 1, 1, 1, 1, 1, 1]),\n",
       "  array([0, 0, 0, 0, 1, 1, 2, 1, 1, 1])),\n",
       " (array([0, 0, 0, 0, 0, 1, 1, 1, 1, 1]),\n",
       "  array([0, 0, 0, 0, 0, 1, 1, 1, 1, 1])),\n",
       " (array([0, 0, 0, 0, 1, 1, 1, 1, 1, 6]),\n",
       "  array([0, 0, 0, 0, 2, 2, 2, 2, 2, 2])),\n",
       " (array([0, 0, 0, 0, 1, 1, 1, 1, 6, 6]),\n",
       "  array([0, 0, 0, 0, 6, 6, 6, 6, 6, 6])),\n",
       " (array([0, 0, 0, 0, 1, 1, 1, 6, 6, 6]),\n",
       "  array([0, 0, 0, 0, 2, 6, 6, 5, 6, 6])),\n",
       " (array([0, 0, 0, 0, 0, 1, 1, 1, 1, 1]),\n",
       "  array([0, 0, 0, 0, 0, 5, 1, 5, 5, 5])),\n",
       " (array([0, 0, 0, 0, 0, 1, 1, 1, 1, 1]),\n",
       "  array([0, 0, 0, 0, 0, 5, 5, 5, 5, 5])),\n",
       " (array([0, 0, 0, 0, 0, 1, 1, 1, 1, 1]),\n",
       "  array([0, 0, 0, 0, 0, 1, 1, 2, 1, 1])),\n",
       " (array([0, 0, 0, 0, 0, 0, 1, 1, 1, 1]),\n",
       "  array([0, 0, 0, 0, 0, 0, 4, 4, 4, 4])),\n",
       " (array([0, 0, 0, 0, 1, 1, 1, 6, 6, 6]),\n",
       "  array([0, 0, 0, 0, 1, 1, 2, 3, 1, 1])),\n",
       " (array([0, 0, 0, 0, 0, 1, 1, 1, 1, 1]),\n",
       "  array([0, 0, 0, 0, 0, 1, 1, 1, 1, 4])),\n",
       " (array([0, 0, 0, 0, 0, 0, 1, 1, 1, 1]),\n",
       "  array([0, 0, 0, 0, 0, 0, 1, 1, 1, 1])),\n",
       " (array([0, 0, 0, 0, 0, 1, 1, 1, 1, 1]),\n",
       "  array([0, 0, 0, 0, 0, 1, 1, 1, 1, 1])),\n",
       " (array([0, 0, 0, 0, 0, 1, 1, 1, 1, 1]),\n",
       "  array([0, 0, 0, 0, 0, 5, 5, 5, 5, 5])),\n",
       " (array([0, 0, 0, 0, 1, 1, 1, 6, 6, 6]),\n",
       "  array([0, 0, 0, 0, 1, 1, 2, 2, 1, 1])),\n",
       " (array([0, 0, 0, 0, 0, 1, 1, 1, 1, 1]),\n",
       "  array([0, 0, 0, 0, 0, 1, 1, 1, 1, 1])),\n",
       " (array([0, 0, 0, 0, 0, 0, 0, 1, 1, 1]),\n",
       "  array([0, 0, 0, 0, 0, 0, 0, 1, 1, 1])),\n",
       " (array([5, 0, 0, 0, 0, 0, 0, 0, 0, 6]),\n",
       "  array([4, 4, 2, 4, 4, 5, 4, 7, 4, 9])),\n",
       " (array([0, 0, 0, 0, 0, 1, 1, 1, 1, 1]),\n",
       "  array([0, 0, 0, 0, 0, 1, 1, 1, 1, 1])),\n",
       " (array([0, 0, 0, 0, 0, 1, 1, 1, 1, 1]),\n",
       "  array([0, 0, 0, 0, 0, 3, 3, 3, 3, 3])),\n",
       " (array([0, 0, 0, 0, 1, 1, 1, 6, 6, 6]),\n",
       "  array([0, 0, 0, 0, 6, 6, 6, 6, 6, 6])),\n",
       " (array([0, 0, 0, 0, 0, 0, 1, 1, 1, 1]),\n",
       "  array([0, 0, 0, 0, 0, 0, 1, 1, 1, 1])),\n",
       " (array([0, 0, 0, 0, 1, 1, 1, 6, 6, 6]),\n",
       "  array([0, 0, 0, 0, 6, 3, 6, 6, 6, 6])),\n",
       " (array([0, 0, 0, 0, 0, 0, 1, 1, 1, 1]),\n",
       "  array([0, 0, 0, 0, 0, 0, 1, 1, 1, 1])),\n",
       " (array([0, 0, 0, 0, 0, 0, 1, 1, 1, 1]),\n",
       "  array([0, 0, 0, 0, 0, 0, 1, 1, 1, 1])),\n",
       " (array([0, 0, 0, 0, 0, 1, 1, 1, 1, 1]),\n",
       "  array([0, 0, 0, 0, 0, 2, 2, 2, 2, 2])),\n",
       " (array([0, 0, 0, 0, 0, 1, 1, 1, 1, 1]),\n",
       "  array([0, 0, 0, 0, 0, 3, 3, 3, 3, 3])),\n",
       " (array([0, 0, 0, 0, 0, 1, 1, 1, 1, 1]),\n",
       "  array([0, 0, 0, 0, 0, 3, 1, 3, 1, 1])),\n",
       " (array([0, 0, 0, 0, 0, 0, 1, 1, 1, 1]),\n",
       "  array([0, 0, 0, 0, 0, 0, 1, 1, 4, 1])),\n",
       " (array([0, 0, 0, 0, 1, 1, 1, 1, 6, 6]),\n",
       "  array([0, 0, 0, 0, 1, 1, 2, 1, 4, 1])),\n",
       " (array([0, 0, 0, 0, 0, 1, 1, 1, 1, 1]),\n",
       "  array([0, 0, 0, 0, 0, 1, 1, 1, 1, 1])),\n",
       " (array([0, 0, 0, 0, 0, 1, 1, 1, 1, 1]),\n",
       "  array([0, 0, 0, 0, 0, 3, 3, 3, 3, 4])),\n",
       " (array([0, 0, 0, 0, 1, 1, 1, 1, 1, 1]),\n",
       "  array([0, 0, 0, 0, 1, 1, 1, 1, 1, 1])),\n",
       " (array([0, 0, 0, 0, 1, 1, 1, 6, 6, 6]),\n",
       "  array([0, 0, 0, 0, 1, 3, 1, 1, 1, 1])),\n",
       " (array([0, 0, 0, 0, 0, 1, 1, 1, 1, 1]),\n",
       "  array([0, 0, 0, 0, 0, 1, 1, 2, 2, 1])),\n",
       " (array([0, 0, 0, 0, 0, 0, 1, 1, 1, 1]),\n",
       "  array([0, 0, 0, 0, 0, 0, 1, 1, 1, 1])),\n",
       " (array([0, 0, 0, 0, 0, 1, 1, 1, 1, 1]),\n",
       "  array([0, 0, 0, 0, 0, 5, 3, 5, 5, 5])),\n",
       " (array([0, 0, 0, 0, 1, 1, 1, 1, 6, 6]),\n",
       "  array([0, 0, 0, 0, 6, 3, 1, 6, 6, 6])),\n",
       " (array([0, 0, 0, 0, 1, 1, 1, 1, 6, 6]),\n",
       "  array([0, 0, 0, 0, 1, 1, 2, 1, 1, 5])),\n",
       " (array([0, 0, 0, 0, 0, 1, 1, 1, 1, 1]),\n",
       "  array([0, 0, 0, 0, 0, 2, 2, 1, 3, 2])),\n",
       " (array([0, 0, 0, 0, 0, 1, 1, 1, 1, 1]),\n",
       "  array([0, 0, 0, 0, 0, 5, 5, 5, 3, 5])),\n",
       " (array([0, 0, 0, 0, 0, 1, 1, 1, 1, 1]),\n",
       "  array([0, 0, 0, 0, 0, 1, 1, 1, 1, 1])),\n",
       " (array([0, 0, 0, 0, 0, 1, 1, 1, 1, 1]),\n",
       "  array([0, 0, 0, 0, 0, 2, 2, 2, 2, 2])),\n",
       " (array([0, 0, 0, 0, 0, 1, 1, 1, 1, 1]),\n",
       "  array([0, 0, 0, 0, 0, 1, 1, 1, 1, 4]))]"
      ]
     },
     "execution_count": 50,
     "metadata": {},
     "output_type": "execute_result"
    }
   ],
   "source": [
    "# compare predictions on training set with training labels\n",
    "list(zip(model.predict(X_train).argmax(-1), Y_train.argmax(-1)))"
   ]
  },
  {
   "cell_type": "code",
   "execution_count": 58,
   "metadata": {
    "ExecuteTime": {
     "end_time": "2017-12-09T20:11:38.045863Z",
     "start_time": "2017-12-09T20:11:37.986472Z"
    },
    "scrolled": true
   },
   "outputs": [
    {
     "data": {
      "text/plain": [
       "[(array([0, 0, 0, 0, 0, 0, 0, 0, 0, 0]),\n",
       "  array([0, 0, 0, 0, 0, 1, 1, 2, 1, 4])),\n",
       " (array([0, 0, 0, 0, 0, 1, 1, 1, 1, 1]),\n",
       "  array([0, 0, 0, 0, 0, 3, 3, 3, 3, 3])),\n",
       " (array([0, 0, 0, 0, 0, 1, 1, 1, 1, 1]),\n",
       "  array([0, 0, 0, 0, 0, 1, 1, 1, 1, 1])),\n",
       " (array([0, 0, 0, 0, 0, 1, 1, 1, 1, 1]),\n",
       "  array([0, 0, 0, 0, 0, 1, 1, 1, 1, 1])),\n",
       " (array([0, 0, 0, 0, 0, 1, 1, 1, 1, 1]),\n",
       "  array([0, 0, 0, 0, 0, 3, 3, 3, 2, 2])),\n",
       " (array([0, 0, 0, 0, 0, 1, 1, 1, 1, 1]),\n",
       "  array([0, 0, 0, 0, 0, 1, 1, 1, 3, 1])),\n",
       " (array([0, 0, 0, 0, 0, 1, 1, 1, 1, 1]),\n",
       "  array([0, 0, 0, 0, 0, 2, 3, 4, 4, 4])),\n",
       " (array([0, 0, 0, 0, 0, 1, 1, 1, 1, 1]),\n",
       "  array([0, 0, 0, 0, 0, 5, 1, 5, 3, 5])),\n",
       " (array([0, 0, 0, 0, 0, 1, 1, 1, 1, 1]),\n",
       "  array([0, 0, 0, 0, 0, 1, 1, 1, 1, 1])),\n",
       " (array([0, 0, 0, 0, 0, 1, 1, 1, 1, 1]),\n",
       "  array([0, 0, 0, 0, 0, 1, 1, 1, 1, 1])),\n",
       " (array([0, 0, 0, 0, 0, 1, 1, 1, 1, 1]),\n",
       "  array([0, 0, 0, 0, 0, 5, 3, 5, 5, 5])),\n",
       " (array([0, 0, 0, 0, 0, 1, 1, 1, 1, 1]),\n",
       "  array([0, 0, 0, 0, 0, 2, 5, 5, 5, 5]))]"
      ]
     },
     "execution_count": 58,
     "metadata": {},
     "output_type": "execute_result"
    }
   ],
   "source": [
    "list(zip(model.predict(X_test).argmax(-1), Y_test.argmax(-1)))"
   ]
  },
  {
   "cell_type": "code",
   "execution_count": 59,
   "metadata": {
    "ExecuteTime": {
     "end_time": "2017-12-09T20:12:34.558893Z",
     "start_time": "2017-12-09T20:12:33.058847Z"
    }
   },
   "outputs": [],
   "source": [
    "inp = Input(shape=(seq_len,300), name='input')\n",
    "encoder = Bidirectional(LSTM(hidden_size//2,return_sequences=True, name='encoder'))(inp)\n",
    "decoder = LSTM(hidden_size,return_sequences=True, name='decoder')(encoder)\n",
    "\n",
    "E = TimeDistributed(Dense(hidden_size, use_bias=False), name='E')(encoder)\n",
    "D = TimeDistributed(Dense(hidden_size, use_bias=False), name='D')(decoder)\n",
    "\n",
    "\n",
    "add = Add(name='W1E_W2Di')\n",
    "tanh = Activation('tanh', name='tanh')\n",
    "vt = Dense(1, use_bias=False, name='vT')\n",
    "softmax = Activation('softmax', name='softmax')\n",
    "Di = Lambda(lambda x: K.repeat_elements(K.expand_dims(x, 2), seq_len, 2))(D)\n",
    "\n",
    "attention = add([E,Di])\n",
    "attention = tanh(attention)\n",
    "attention = vt(attention)\n",
    "attention = Lambda(lambda x: K.squeeze(x, -1))(attention)\n",
    "attention = softmax(attention)\n",
    "\n",
    "\n",
    "model = Model(inputs=inp, outputs=attention)"
   ]
  }
 ],
 "metadata": {
  "kernelspec": {
   "display_name": "Python 3",
   "language": "python",
   "name": "python3"
  },
  "language_info": {
   "codemirror_mode": {
    "name": "ipython",
    "version": 3
   },
   "file_extension": ".py",
   "mimetype": "text/x-python",
   "name": "python",
   "nbconvert_exporter": "python",
   "pygments_lexer": "ipython3",
   "version": "3.6.3"
  }
 },
 "nbformat": 4,
 "nbformat_minor": 2
}
