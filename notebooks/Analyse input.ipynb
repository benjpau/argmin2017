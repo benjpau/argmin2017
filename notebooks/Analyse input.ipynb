{
 "cells": [
  {
   "cell_type": "code",
   "execution_count": 1,
   "metadata": {
    "ExecuteTime": {
     "end_time": "2018-03-27T19:29:42.320220Z",
     "start_time": "2018-03-27T19:29:40.838236Z"
    }
   },
   "outputs": [],
   "source": [
    "import pickle\n",
    "import numpy as np\n",
    "import pandas as pd"
   ]
  },
  {
   "cell_type": "code",
   "execution_count": 139,
   "metadata": {
    "ExecuteTime": {
     "end_time": "2018-03-27T19:51:20.540699Z",
     "start_time": "2018-03-27T19:51:20.487683Z"
    }
   },
   "outputs": [],
   "source": [
    "import matplotlib as mpl\n",
    "import matplotlib.pyplot as plt\n",
    "%matplotlib inline\n",
    "import seaborn as sns"
   ]
  },
  {
   "cell_type": "code",
   "execution_count": 9,
   "metadata": {
    "ExecuteTime": {
     "end_time": "2018-03-27T19:30:31.725593Z",
     "start_time": "2018-03-27T19:30:31.265903Z"
    }
   },
   "outputs": [],
   "source": [
    "import sys\n",
    "sys.path.append('../keras')\n",
    "import train"
   ]
  },
  {
   "cell_type": "markdown",
   "metadata": {},
   "source": [
    "### Class distribution"
   ]
  },
  {
   "cell_type": "code",
   "execution_count": 124,
   "metadata": {
    "ExecuteTime": {
     "end_time": "2018-03-27T19:49:35.623305Z",
     "start_time": "2018-03-27T19:49:35.484765Z"
    }
   },
   "outputs": [],
   "source": [
    "docs_e, docs_d, links, types = train.load_vec('../corpus/X_large.npy','../corpus/X_large.npy','../corpus/Y_links_1.npy','../corpus/Y_types_1.npy')"
   ]
  },
  {
   "cell_type": "code",
   "execution_count": 125,
   "metadata": {
    "ExecuteTime": {
     "end_time": "2018-03-27T19:49:35.921416Z",
     "start_time": "2018-03-27T19:49:35.906369Z"
    }
   },
   "outputs": [
    {
     "data": {
      "text/plain": [
       "array([array([4, 0, 4, 4, 4]), array([2, 2, 2, 2, 2]), array([0, 0, 1, 0, 0]), array([2, 2, 2, 2, 3]), array([0, 0, 0, 0, 3]), array([0, 0, 0, 0, 0]), array([1, 2, 2, 2, 3]), array([4, 0, 1, 1, 4]), array([0, 0, 0, 0]), array([0, 0, 0, 2, 0]), array([0, 0, 0]), array([3, 3, 3, 3]), array([0, 0, 0, 0, 0]), array([0, 0, 0, 0, 0]), array([0, 0, 0, 0, 0]), array([2, 2, 4, 4, 4]), array([0, 0, 0, 0, 0]), array([2, 2, 4, 4, 4]), array([1, 5, 3, 5, 5, 5]), array([5, 5, 5, 5, 5, 5]), array([0, 0, 3, 0]), array([0, 0, 0, 0, 0]), array([2, 2, 2, 4, 2]), array([0, 0, 0, 0, 3]), array([2, 2, 2, 2, 2, 2]), array([0, 0, 0, 0, 0, 0]), array([0, 0, 0, 2, 0]), array([0, 0, 0, 2, 2]), array([0, 0, 1, 0, 0]), array([0, 0, 0, 0]), array([0, 0, 0, 0]), array([0, 0, 0, 0]), array([0, 0, 0]), array([0, 0, 0, 0, 3]), array([4, 4, 4, 4, 4]), array([0, 0, 1, 2, 0, 0]), array([0, 0, 0, 0, 0]), array([0, 2, 0, 0, 0, 0]), array([0, 0, 1, 0, 0, 0]), array([0, 0, 1, 0, 0, 4]), array([0, 0, 0, 0, 0, 4]),\n",
       "       array([3, 3, 3, 3, 3, 4]), array([0, 0, 0, 2, 2]), array([3, 3, 1, 3, 3]), array([1, 4, 4, 4, 4]), array([4, 4, 4, 4, 4]), array([4, 2, 4, 4, 4]), array([4, 2, 4, 4, 4]), array([2, 2, 4, 4, 4]), array([5, 2, 5, 5, 5, 5]), array([2, 2, 2, 2, 2]), array([4, 4, 3, 4, 4, 4]), array([1, 5, 3, 1, 5, 5]), array([1, 1, 1, 1, 1, 1]), array([5, 5, 5, 5, 3, 5]), array([3, 3, 3, 3]), array([1, 1, 1, 1, 1, 4, 1]), array([4, 4, 4, 4, 4]), array([4, 4, 4, 2, 4]), array([0, 0, 0]), array([0, 0, 0, 2, 2, 2]), array([1, 5, 5, 4, 5, 5]), array([0, 0, 0, 2, 3]), array([0, 0, 1, 0, 0]), array([0, 0, 0, 0, 0]), array([1, 1, 0, 2, 1]), array([0, 0, 0, 0, 3]), array([0, 0, 0, 0, 0]), array([0, 0, 1, 1, 0]), array([2, 2, 2, 2, 2]), array([0, 0, 1, 0, 3]), array([0, 0, 0, 2, 2]), array([0, 0, 0, 0, 0]), array([0, 0, 1, 1, 0]), array([2, 2, 2, 1, 3]), array([0, 0, 0, 0, 3]), array([2, 2, 2, 2, 2]), array([2, 2, 2, 2, 3]), array([2, 2, 2, 2, 3]), array([1, 1, 1, 1, 1]), array([2, 0, 2, 0, 0]),\n",
       "       array([0, 0, 1, 1, 0]), array([2, 0, 2, 2, 3]), array([2, 2, 2, 1, 1]), array([0, 0, 0, 0, 0]), array([0, 0, 1, 1, 0, 0]), array([0, 0, 0, 0, 0]), array([2, 2, 2, 2, 2]), array([0, 0, 0, 0, 3]), array([4, 4, 4, 4, 4]), array([0, 0, 0, 2, 0]), array([0, 0, 0, 0]), array([0, 0, 0, 0, 3, 3]), array([0, 0, 3, 0, 0, 0]), array([3, 3, 1, 3, 3, 4, 3, 6, 3, 8]), array([0, 0, 0, 0, 0]), array([2, 2, 2, 2, 2]), array([0, 0, 0, 0, 3]), array([0, 0, 0, 0]), array([1, 1, 1, 1, 1]), array([0, 0, 0, 0, 0]), array([5, 2, 0, 5, 5, 5]), array([5, 5, 5, 5, 5, 5]), array([1, 2, 3, 3, 3]), array([4, 4, 4, 2, 4]), array([0, 0, 1, 0, 3, 0]), array([0, 0, 0, 0, 3]), array([0, 0, 0, 0, 0, 4, 0]), array([4, 0, 4, 2, 4]), array([0, 0, 0, 0]), array([0, 0, 0, 0]), array([4, 0, 4, 4, 4, 4])], dtype=object)"
      ]
     },
     "execution_count": 125,
     "metadata": {},
     "output_type": "execute_result"
    }
   ],
   "source": [
    "links"
   ]
  },
  {
   "cell_type": "code",
   "execution_count": 128,
   "metadata": {
    "ExecuteTime": {
     "end_time": "2018-03-27T19:49:50.160158Z",
     "start_time": "2018-03-27T19:49:50.066633Z"
    }
   },
   "outputs": [],
   "source": [
    "Xe, Xd, Yl, Yt, _, _, _, _ = train.preprocess(docs_e, docs_d, links, types)"
   ]
  },
  {
   "cell_type": "markdown",
   "metadata": {},
   "source": [
    "##### Types"
   ]
  },
  {
   "cell_type": "code",
   "execution_count": 177,
   "metadata": {
    "ExecuteTime": {
     "end_time": "2018-03-27T20:07:28.316614Z",
     "start_time": "2018-03-27T20:07:28.311790Z"
    }
   },
   "outputs": [
    {
     "data": {
      "text/plain": [
       "array([list([0, 0, 0, 0, 1]), list([0, 0, 1, 0, 0]), list([1, 0, 0, 0, 0]), list([0, 0, 1, 0, 0]), list([1, 0, 0, 0, 0]), list([1, 0, 0, 0, 0]), list([0, 0, 1, 0, 0]), list([0, 0, 0, 0, 1]), list([1, 0, 0, 0]), list([1, 0, 0, 0, 0]), list([1, 0, 0]), list([0, 0, 0, 1]), list([1, 0, 0, 0, 0]), list([1, 0, 0, 0, 0]), list([1, 0, 0, 0, 0]), list([0, 0, 0, 0, 1]), list([1, 0, 0, 0, 0]), list([0, 0, 0, 0, 1]), list([0, 0, 0, 0, 0, 1]), list([0, 0, 0, 0, 0, 1]), list([1, 0, 0, 0]), list([1, 0, 0, 0, 0]), list([0, 0, 1, 0, 0]), list([1, 0, 0, 0, 0]), list([0, 0, 1, 0, 0, 0]), list([1, 0, 0, 0, 0, 0]), list([1, 0, 0, 0, 0]), list([1, 0, 0, 0, 0]), list([1, 0, 0, 0, 0]), list([1, 0, 0, 0]), list([1, 0, 0, 0]), list([1, 0, 0, 0]), list([1, 0, 0]), list([1, 0, 0, 0, 0]), list([0, 0, 0, 0, 1]), list([1, 0, 0, 0, 0, 0]), list([1, 0, 0, 0, 0]), list([1, 0, 0, 0, 0, 0]), list([1, 0, 0, 0, 0, 0]), list([1, 0, 0, 0, 0, 0]), list([1, 0, 0, 0, 0, 0]), list([0, 0, 0, 1, 0, 0]), list([1, 0, 0, 0, 0]),\n",
       "       list([0, 0, 0, 1, 0]), list([0, 0, 0, 0, 1]), list([0, 0, 0, 0, 1]), list([0, 0, 0, 0, 1]), list([0, 0, 0, 0, 1]), list([0, 0, 0, 0, 1]), list([0, 0, 0, 0, 0, 1]), list([0, 0, 1, 0, 0]), list([0, 0, 0, 0, 1, 0]), list([0, 0, 0, 0, 0, 1]), list([0, 1, 0, 0, 0, 0]), list([0, 0, 0, 0, 0, 1]), list([0, 0, 0, 1]), list([0, 1, 0, 0, 0, 0, 0]), list([0, 0, 0, 0, 1]), list([0, 0, 0, 0, 1]), list([1, 0, 0]), list([1, 0, 0, 0, 0, 0]), list([0, 0, 0, 0, 0, 1]), list([1, 0, 0, 0, 0]), list([1, 0, 0, 0, 0]), list([1, 0, 0, 0, 0]), list([0, 1, 0, 0, 0]), list([1, 0, 0, 0, 0]), list([1, 0, 0, 0, 0]), list([1, 0, 0, 0, 0]), list([0, 0, 1, 0, 0]), list([1, 0, 0, 0, 0]), list([1, 0, 0, 0, 0]), list([1, 0, 0, 0, 0]), list([1, 0, 0, 0, 0]), list([0, 0, 1, 0, 0]), list([1, 0, 0, 0, 0]), list([0, 0, 1, 0, 0]), list([0, 0, 1, 0, 0]), list([0, 0, 1, 0, 0]), list([0, 1, 0, 0, 0]), list([0, 0, 1, 0, 0]), list([1, 0, 0, 0, 0]), list([0, 0, 1, 0, 0]), list([0, 0, 1, 0, 0]), list([1, 0, 0, 0, 0]),\n",
       "       list([1, 0, 0, 0, 0, 0]), list([1, 0, 0, 0, 0]), list([0, 0, 1, 0, 0]), list([1, 0, 0, 0, 0]), list([0, 0, 0, 0, 1]), list([1, 0, 0, 0, 0]), list([1, 0, 0, 0]), list([1, 0, 0, 0, 0, 0]), list([1, 0, 0, 0, 0, 0]), list([0, 0, 0, 1, 0, 0, 0, 0, 0, 0]), list([1, 0, 0, 0, 0]), list([0, 0, 1, 0, 0]), list([1, 0, 0, 0, 0]), list([1, 0, 0, 0]), list([0, 1, 0, 0, 0]), list([1, 0, 0, 0, 0]), list([0, 0, 0, 0, 0, 1]), list([0, 0, 0, 0, 0, 1]), list([0, 0, 0, 1, 0]), list([0, 0, 0, 0, 1]), list([1, 0, 0, 0, 0, 0]), list([1, 0, 0, 0, 0]), list([1, 0, 0, 0, 0, 0, 0]), list([0, 0, 0, 0, 1]), list([1, 0, 0, 0]), list([1, 0, 0, 0]), list([0, 0, 0, 0, 1, 0])], dtype=object)"
      ]
     },
     "execution_count": 177,
     "metadata": {},
     "output_type": "execute_result"
    }
   ],
   "source": [
    "types"
   ]
  },
  {
   "cell_type": "code",
   "execution_count": 183,
   "metadata": {
    "ExecuteTime": {
     "end_time": "2018-03-27T20:10:23.062096Z",
     "start_time": "2018-03-27T20:10:22.681981Z"
    }
   },
   "outputs": [
    {
     "data": {
      "text/plain": [
       "Text(0,0.5,'N')"
      ]
     },
     "execution_count": 183,
     "metadata": {},
     "output_type": "execute_result"
    },
    {
     "data": {
      "image/png": "[encoded data removed]",
      "text/plain": [
       "<matplotlib.figure.Figure at 0x11f3d0518>"
      ]
     },
     "metadata": {},
     "output_type": "display_data"
    }
   ],
   "source": [
    "# a = plt.hist(np.array([t for typ in types for t in typ]), bins=np.arange(3)-.5)\n",
    "\n",
    "plt.figure(figsize=(10,5))\n",
    "plt.subplot(121)\n",
    "plt.title('Types class distribution')\n",
    "plt.hist([t for typ in types for t in typ], bins=np.arange(3)-.5)\n",
    "plt.xticks([0,1], ['Premise', 'Claim'])\n",
    "plt.xlabel('Type')\n",
    "plt.ylabel('N')\n",
    "\n",
    "plt.subplot(122)\n",
    "plt.title('Links class distribution')\n",
    "plt.hist([l for link in links for l in link], bins=np.arange(10)-.5)\n",
    "plt.xticks(np.arange(9))\n",
    "plt.xlabel('Links')\n",
    "plt.ylabel('N')"
   ]
  },
  {
   "cell_type": "code",
   "execution_count": null,
   "metadata": {
    "ExecuteTime": {
     "end_time": "2018-03-27T19:51:36.060022Z",
     "start_time": "2018-03-27T19:51:36.041Z"
    }
   },
   "outputs": [],
   "source": [
    "np.histogram([t for typ in types for t in typ], bins=2)\n",
    "Counter([t for typ in types for t in typ])"
   ]
  },
  {
   "cell_type": "markdown",
   "metadata": {
    "ExecuteTime": {
     "end_time": "2018-03-12T21:18:59.141962Z",
     "start_time": "2018-03-12T21:18:59.139301Z"
    }
   },
   "source": [
    "##### Links"
   ]
  },
  {
   "cell_type": "code",
   "execution_count": 144,
   "metadata": {
    "ExecuteTime": {
     "end_time": "2018-03-27T19:51:44.895937Z",
     "start_time": "2018-03-27T19:51:44.312248Z"
    }
   },
   "outputs": [
    {
     "data": {
      "image/png": "[encoded data removed]",
      "text/plain": [
       "<matplotlib.figure.Figure at 0x1254d8b70>"
      ]
     },
     "metadata": {},
     "output_type": "display_data"
    }
   ],
   "source": []
  },
  {
   "cell_type": "code",
   "execution_count": 136,
   "metadata": {
    "ExecuteTime": {
     "end_time": "2018-03-27T19:50:06.249346Z",
     "start_time": "2018-03-27T19:50:06.246488Z"
    }
   },
   "outputs": [],
   "source": [
    "from collections import Counter"
   ]
  },
  {
   "cell_type": "code",
   "execution_count": 137,
   "metadata": {
    "ExecuteTime": {
     "end_time": "2018-03-27T19:50:06.676224Z",
     "start_time": "2018-03-27T19:50:06.670143Z"
    }
   },
   "outputs": [
    {
     "data": {
      "text/plain": [
       "Counter({0: 259, 1: 55, 2: 96, 3: 51, 4: 76, 5: 37, 6: 1, 8: 1})"
      ]
     },
     "execution_count": 137,
     "metadata": {},
     "output_type": "execute_result"
    }
   ],
   "source": [
    "Counter([l for link in links for l in link])"
   ]
  },
  {
   "cell_type": "code",
   "execution_count": null,
   "metadata": {},
   "outputs": [],
   "source": []
  }
 ],
 "metadata": {
  "kernelspec": {
   "display_name": "Python 3",
   "language": "python",
   "name": "python3"
  },
  "language_info": {
   "codemirror_mode": {
    "name": "ipython",
    "version": 3
   },
   "file_extension": ".py",
   "mimetype": "text/x-python",
   "name": "python",
   "nbconvert_exporter": "python",
   "pygments_lexer": "ipython3",
   "version": "3.6.3"
  }
 },
 "nbformat": 4,
 "nbformat_minor": 2
}
