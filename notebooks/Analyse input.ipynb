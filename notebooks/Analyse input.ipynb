{
 "cells": [
  {
   "cell_type": "code",
   "execution_count": 1,
   "metadata": {
    "ExecuteTime": {
     "end_time": "2018-03-12T21:07:31.262515Z",
     "start_time": "2018-03-12T21:07:30.559267Z"
    }
   },
   "outputs": [],
   "source": [
    "import pickle\n",
    "import numpy as np\n",
    "import pandas as pd"
   ]
  },
  {
   "cell_type": "code",
   "execution_count": 15,
   "metadata": {
    "ExecuteTime": {
     "end_time": "2018-03-12T21:15:18.512082Z",
     "start_time": "2018-03-12T21:15:18.235094Z"
    }
   },
   "outputs": [],
   "source": [
    "import matplotlib as mpl\n",
    "import matplotlib.pyplot as plt\n",
    "%matplotlib inline"
   ]
  },
  {
   "cell_type": "code",
   "execution_count": 2,
   "metadata": {
    "ExecuteTime": {
     "end_time": "2018-03-12T21:07:39.102144Z",
     "start_time": "2018-03-12T21:07:36.046172Z"
    }
   },
   "outputs": [
    {
     "name": "stderr",
     "output_type": "stream",
     "text": [
      "/usr/local/Cellar/python3/3.6.3/Frameworks/Python.framework/Versions/3.6/lib/python3.6/site-packages/h5py/__init__.py:36: FutureWarning: Conversion of the second argument of issubdtype from `float` to `np.floating` is deprecated. In future, it will be treated as `np.float64 == np.dtype(float).type`.\n",
      "  from ._conv import register_converters as _register_converters\n",
      "Using TensorFlow backend.\n",
      "/usr/local/Cellar/python3/3.6.3/Frameworks/Python.framework/Versions/3.6/lib/python3.6/importlib/_bootstrap.py:219: RuntimeWarning: compiletime version 3.5 of module 'tensorflow.python.framework.fast_tensor_util' does not match runtime version 3.6\n",
      "  return f(*args, **kwds)\n"
     ]
    }
   ],
   "source": [
    "import train"
   ]
  },
  {
   "cell_type": "markdown",
   "metadata": {},
   "source": [
    "### Class distribution"
   ]
  },
  {
   "cell_type": "code",
   "execution_count": 6,
   "metadata": {
    "ExecuteTime": {
     "end_time": "2018-03-12T21:13:49.412514Z",
     "start_time": "2018-03-12T21:13:49.326012Z"
    }
   },
   "outputs": [],
   "source": [
    "docs, links, types = train.load_vec('X_large.npy','Ylinks.npy','Ytypes.npy')"
   ]
  },
  {
   "cell_type": "code",
   "execution_count": 34,
   "metadata": {
    "ExecuteTime": {
     "end_time": "2018-03-12T21:19:14.869406Z",
     "start_time": "2018-03-12T21:19:14.864146Z"
    }
   },
   "outputs": [
    {
     "data": {
      "text/plain": [
       "array([list([5, 1, 5, 5, 5]), list([3, 3, 3, 3, 3]), list([1, 1, 2, 1, 1]), list([3, 3, 3, 3, 4]), list([1, 1, 1, 1, 4]), list([1, 1, 1, 1, 1]), list([2, 3, 3, 3, 4]), list([5, 1, 2, 2, 5]), list([1, 1, 1, 1]), list([1, 1, 1, 3, 1]), list([1, 1, 1]), list([4, 4, 4, 4]), list([1, 1, 1, 1, 1]), list([1, 1, 1, 1, 1]), list([1, 1, 1, 1, 1]), list([3, 3, 5, 5, 5]), list([1, 1, 1, 1, 1]), list([3, 3, 5, 5, 5]), list([2, 6, 4, 6, 6, 6]), list([6, 6, 6, 6, 6, 6]), list([1, 1, 4, 1]), list([1, 1, 1, 1, 1]), list([3, 3, 3, 5, 3]), list([1, 1, 1, 1, 4]), list([3, 3, 3, 3, 3, 3]), list([1, 1, 1, 1, 1, 1]), list([1, 1, 1, 3, 1]), list([1, 1, 1, 3, 3]), list([1, 1, 2, 1, 1]), list([1, 1, 1, 1]), list([1, 1, 1, 1]), list([1, 1, 1, 1]), list([1, 1, 1]), list([1, 1, 1, 1, 4]), list([5, 5, 5, 5, 5]), list([1, 1, 2, 3, 1, 1]), list([1, 1, 1, 1, 1]), list([1, 3, 1, 1, 1, 1]), list([1, 1, 2, 1, 1, 1]), list([1, 1, 2, 1, 1, 5]), list([1, 1, 1, 1, 1, 5]), list([4, 4, 4, 4, 4, 5]), list([1, 1, 1, 3, 3]),\n",
       "       list([4, 4, 2, 4, 4]), list([2, 5, 5, 5, 5]), list([5, 5, 5, 5, 5]), list([5, 3, 5, 5, 5]), list([5, 3, 5, 5, 5]), list([3, 3, 5, 5, 5]), list([6, 3, 6, 6, 6, 6]), list([3, 3, 3, 3, 3]), list([5, 5, 4, 5, 5, 5]), list([2, 6, 4, 2, 6, 6]), list([2, 2, 2, 2, 2, 2]), list([6, 6, 6, 6, 4, 6]), list([4, 4, 4, 4]), list([2, 2, 2, 2, 2, 5, 2]), list([5, 5, 5, 5, 5]), list([5, 5, 5, 3, 5]), list([1, 1, 1]), list([1, 1, 1, 3, 3, 3]), list([2, 6, 6, 5, 6, 6]), list([1, 1, 1, 3, 4]), list([1, 1, 2, 1, 1]), list([1, 1, 1, 1, 1]), list([2, 2, 1, 3, 2]), list([1, 1, 1, 1, 4]), list([1, 1, 1, 1, 1]), list([1, 1, 2, 2, 1]), list([3, 3, 3, 3, 3]), list([1, 1, 2, 1, 4]), list([1, 1, 1, 3, 3]), list([1, 1, 1, 1, 1]), list([1, 1, 2, 2, 1]), list([3, 3, 3, 2, 4]), list([1, 1, 1, 1, 4]), list([3, 3, 3, 3, 3]), list([3, 3, 3, 3, 4]), list([3, 3, 3, 3, 4]), list([2, 2, 2, 2, 2]), list([3, 1, 3, 1, 1]), list([1, 1, 2, 2, 1]), list([3, 1, 3, 3, 4]), list([3, 3, 3, 2, 2]), list([1, 1, 1, 1, 1]),\n",
       "       list([1, 1, 2, 2, 1, 1]), list([1, 1, 1, 1, 1]), list([3, 3, 3, 3, 3]), list([1, 1, 1, 1, 4]), list([5, 5, 5, 5, 5]), list([1, 1, 1, 3, 1]), list([1, 1, 1, 1]), list([1, 1, 1, 1, 4, 4]), list([1, 1, 4, 1, 1, 1]), list([4, 4, 2, 4, 4, 5, 4, 7, 4, 9]), list([1, 1, 1, 1, 1]), list([3, 3, 3, 3, 3]), list([1, 1, 1, 1, 4]), list([1, 1, 1, 1]), list([2, 2, 2, 2, 2]), list([1, 1, 1, 1, 1]), list([6, 3, 1, 6, 6, 6]), list([6, 6, 6, 6, 6, 6]), list([2, 3, 4, 4, 4]), list([5, 5, 5, 3, 5]), list([1, 1, 2, 1, 4, 1]), list([1, 1, 1, 1, 4]), list([1, 1, 1, 1, 1, 5, 1]), list([5, 1, 5, 3, 5]), list([1, 1, 1, 1]), list([1, 1, 1, 1]), list([5, 1, 5, 5, 5, 5])], dtype=object)"
      ]
     },
     "execution_count": 34,
     "metadata": {},
     "output_type": "execute_result"
    }
   ],
   "source": [
    "links"
   ]
  },
  {
   "cell_type": "code",
   "execution_count": 8,
   "metadata": {
    "ExecuteTime": {
     "end_time": "2018-03-12T21:13:59.753529Z",
     "start_time": "2018-03-12T21:13:59.718160Z"
    }
   },
   "outputs": [],
   "source": [
    "X, Yl, Yt, _, _, _ = train.preprocess(docs, links, types)"
   ]
  },
  {
   "cell_type": "code",
   "execution_count": 47,
   "metadata": {
    "ExecuteTime": {
     "end_time": "2018-03-12T21:21:40.245030Z",
     "start_time": "2018-03-12T21:21:40.242156Z"
    }
   },
   "outputs": [],
   "source": [
    "MAX_LEN = 7"
   ]
  },
  {
   "cell_type": "markdown",
   "metadata": {},
   "source": [
    "##### Types"
   ]
  },
  {
   "cell_type": "code",
   "execution_count": 48,
   "metadata": {
    "ExecuteTime": {
     "end_time": "2018-03-12T21:21:43.311170Z",
     "start_time": "2018-03-12T21:21:43.138567Z"
    }
   },
   "outputs": [
    {
     "data": {
      "text/plain": [
       "(array([60.,  5., 16.,  6., 17.,  8.]),\n",
       " array([-0.5,  0.5,  1.5,  2.5,  3.5,  4.5,  5.5]),\n",
       " <a list of 6 Patch objects>)"
      ]
     },
     "execution_count": 48,
     "metadata": {},
     "output_type": "execute_result"
    },
    {
     "data": {
      "image/png": "[encoded data removed]",
      "text/plain": [
       "<matplotlib.figure.Figure at 0x11cd759e8>"
      ]
     },
     "metadata": {},
     "output_type": "display_data"
    }
   ],
   "source": [
    "plt.hist([np.argmax(t) for t in types], bins=np.arange(MAX_LEN)-.5)"
   ]
  },
  {
   "cell_type": "markdown",
   "metadata": {
    "ExecuteTime": {
     "end_time": "2018-03-12T21:18:59.141962Z",
     "start_time": "2018-03-12T21:18:59.139301Z"
    }
   },
   "source": [
    "##### Links"
   ]
  },
  {
   "cell_type": "code",
   "execution_count": 50,
   "metadata": {
    "ExecuteTime": {
     "end_time": "2018-03-12T21:21:49.466907Z",
     "start_time": "2018-03-12T21:21:49.297926Z"
    }
   },
   "outputs": [
    {
     "data": {
      "text/plain": [
       "(array([259.,  55.,  96.,  51.,  76.,  37.]),\n",
       " array([-0.5,  0.5,  1.5,  2.5,  3.5,  4.5,  5.5]),\n",
       " <a list of 6 Patch objects>)"
      ]
     },
     "execution_count": 50,
     "metadata": {},
     "output_type": "execute_result"
    },
    {
     "data": {
      "image/png": "[encoded data removed]",
      "text/plain": [
       "<matplotlib.figure.Figure at 0x11d16fe48>"
      ]
     },
     "metadata": {},
     "output_type": "display_data"
    }
   ],
   "source": [
    "plt.hist([i-1 for t in links for i in t], bins=np.arange(MAX_LEN)-.5)"
   ]
  },
  {
   "cell_type": "code",
   "execution_count": null,
   "metadata": {},
   "outputs": [],
   "source": []
  }
 ],
 "metadata": {
  "kernelspec": {
   "display_name": "Python 3",
   "language": "python",
   "name": "python3"
  },
  "language_info": {
   "codemirror_mode": {
    "name": "ipython",
    "version": 3
   },
   "file_extension": ".py",
   "mimetype": "text/x-python",
   "name": "python",
   "nbconvert_exporter": "python",
   "pygments_lexer": "ipython3",
   "version": "3.6.3"
  }
 },
 "nbformat": 4,
 "nbformat_minor": 2
}
