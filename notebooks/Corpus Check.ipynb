{
 "cells": [
  {
   "cell_type": "code",
   "execution_count": 1,
   "metadata": {
    "ExecuteTime": {
     "end_time": "2018-03-20T16:23:28.188345Z",
     "start_time": "2018-03-20T16:23:14.941156Z"
    }
   },
   "outputs": [],
   "source": [
    "from corpus import MTCorpus"
   ]
  },
  {
   "cell_type": "code",
   "execution_count": 13,
   "metadata": {
    "ExecuteTime": {
     "end_time": "2018-03-20T16:24:58.250441Z",
     "start_time": "2018-03-20T16:24:58.247429Z"
    }
   },
   "outputs": [],
   "source": [
    "import numpy as np\n",
    "np.set_printoptions(edgeitems=3)"
   ]
  },
  {
   "cell_type": "code",
   "execution_count": 17,
   "metadata": {
    "ExecuteTime": {
     "end_time": "2018-03-20T16:44:54.714254Z",
     "start_time": "2018-03-20T16:44:52.780057Z"
    }
   },
   "outputs": [],
   "source": [
    "corpus = MTCorpus()"
   ]
  },
  {
   "cell_type": "code",
   "execution_count": 18,
   "metadata": {
    "ExecuteTime": {
     "end_time": "2018-03-20T16:44:54.724631Z",
     "start_time": "2018-03-20T16:44:54.718041Z"
    }
   },
   "outputs": [
    {
     "data": {
      "text/plain": [
       "112"
      ]
     },
     "execution_count": 18,
     "metadata": {},
     "output_type": "execute_result"
    }
   ],
   "source": [
    "len(corpus.documents)"
   ]
  },
  {
   "cell_type": "code",
   "execution_count": 19,
   "metadata": {
    "ExecuteTime": {
     "end_time": "2018-03-20T16:44:54.732966Z",
     "start_time": "2018-03-20T16:44:54.726813Z"
    },
    "scrolled": false
   },
   "outputs": [
    {
     "data": {
      "text/plain": [
       "[['0',\n",
       "  \"Yes , it 's annoying and cumbersome to separate your rubbish properly all the time .\",\n",
       "  'Three different bin bags stink away in the kitchen and have to be sorted into different wheelie bins .',\n",
       "  'But still Germany produces way too much rubbish',\n",
       "  'and too many resources are lost when what actually should be separated and recycled is burnt .',\n",
       "  'We Berliners should take the chance and become pioneers in waste separation !'],\n",
       " ['0',\n",
       "  'One can hardly move in Friedrichshain or Neukölln these days without permanently scanning the ground for dog dirt .',\n",
       "  \"And when bad luck does strike and you step into one of the many ' land mines ' you have to painstakingly scrape the remains off your soles .\",\n",
       "  'Higher fines are therefore the right measure against negligent , lazy or simply thoughtless dog owners .',\n",
       "  \"Of course , first they 'd actually need to be caught in the act by public order officers ,\",\n",
       "  'but once they have to dig into their pockets , their laziness will sure vanish !']]"
      ]
     },
     "execution_count": 19,
     "metadata": {},
     "output_type": "execute_result"
    }
   ],
   "source": [
    "corpus.documents[:2]"
   ]
  },
  {
   "cell_type": "code",
   "execution_count": 23,
   "metadata": {
    "ExecuteTime": {
     "end_time": "2018-03-20T16:45:36.261215Z",
     "start_time": "2018-03-20T16:45:36.120065Z"
    }
   },
   "outputs": [],
   "source": [
    "encoder_input = np.load('encoder_input.npy')\n",
    "decoder_input = np.load('decoder_input.npy')\n",
    "links = np.load('Y_links_1.npy')"
   ]
  },
  {
   "cell_type": "code",
   "execution_count": 24,
   "metadata": {
    "ExecuteTime": {
     "end_time": "2018-03-20T16:45:41.460312Z",
     "start_time": "2018-03-20T16:45:41.454484Z"
    }
   },
   "outputs": [
    {
     "data": {
      "text/plain": [
       "array([array([4, 0, 4, 4, 4]), array([2, 2, 2, 2, 2])], dtype=object)"
      ]
     },
     "execution_count": 24,
     "metadata": {},
     "output_type": "execute_result"
    }
   ],
   "source": [
    "links[:2]"
   ]
  },
  {
   "cell_type": "code",
   "execution_count": 38,
   "metadata": {
    "ExecuteTime": {
     "end_time": "2018-03-20T16:50:48.853514Z",
     "start_time": "2018-03-20T16:50:48.848173Z"
    }
   },
   "outputs": [
    {
     "data": {
      "text/plain": [
       "array([[ 1.        ,  0.58794999,  0.37057   , ..., -0.02048921,\n",
       "        -0.01349498,  0.00424604],\n",
       "       [ 0.        ,  0.55462998,  0.58626997, ..., -0.02540293,\n",
       "         0.02971779,  0.00288753],\n",
       "       [ 0.        ,  0.28543001,  1.0072    , ..., -0.07233659,\n",
       "         0.06834561, -0.04837297],\n",
       "       [ 0.        ,  0.31924   ,  0.67203999, ..., -0.07570759,\n",
       "         0.04673799,  0.04019231],\n",
       "       [ 0.        ,  0.55462998,  0.67203999, ..., -0.01028606,\n",
       "         0.11356043, -0.04376237]])"
      ]
     },
     "execution_count": 38,
     "metadata": {},
     "output_type": "execute_result"
    }
   ],
   "source": [
    "encoder_input[1]"
   ]
  },
  {
   "cell_type": "code",
   "execution_count": 34,
   "metadata": {
    "ExecuteTime": {
     "end_time": "2018-03-20T16:49:45.338753Z",
     "start_time": "2018-03-20T16:49:45.335065Z"
    }
   },
   "outputs": [],
   "source": [
    "def all_same(items):\n",
    "    return all(all(x == items[0]) for x in items)"
   ]
  },
  {
   "cell_type": "code",
   "execution_count": 36,
   "metadata": {
    "ExecuteTime": {
     "end_time": "2018-03-20T16:50:08.480284Z",
     "start_time": "2018-03-20T16:50:08.469186Z"
    }
   },
   "outputs": [],
   "source": [
    "# First item is always the start char\n",
    "assert all_same([i[0] for i in decoder_input])"
   ]
  },
  {
   "cell_type": "code",
   "execution_count": 39,
   "metadata": {
    "ExecuteTime": {
     "end_time": "2018-03-20T16:50:50.330117Z",
     "start_time": "2018-03-20T16:50:50.322806Z"
    }
   },
   "outputs": [
    {
     "data": {
      "text/plain": [
       "array([[ 0.        , -0.29710001,  0.52555001, ..., -0.53128999,\n",
       "        -0.23913001,  0.27921   ],\n",
       "       [ 0.        ,  0.28543001,  1.0072    , ..., -0.07233659,\n",
       "         0.06834561, -0.04837297],\n",
       "       [ 0.        ,  0.28543001,  1.0072    , ..., -0.07233659,\n",
       "         0.06834561, -0.04837297],\n",
       "       [ 0.        ,  0.28543001,  1.0072    , ..., -0.07233659,\n",
       "         0.06834561, -0.04837297],\n",
       "       [ 0.        ,  0.28543001,  1.0072    , ..., -0.07233659,\n",
       "         0.06834561, -0.04837297]])"
      ]
     },
     "execution_count": 39,
     "metadata": {},
     "output_type": "execute_result"
    }
   ],
   "source": [
    "decoder_input[1]"
   ]
  },
  {
   "cell_type": "code",
   "execution_count": null,
   "metadata": {},
   "outputs": [],
   "source": []
  }
 ],
 "metadata": {
  "kernelspec": {
   "display_name": "Python 3",
   "language": "python",
   "name": "python3"
  },
  "language_info": {
   "codemirror_mode": {
    "name": "ipython",
    "version": 3
   },
   "file_extension": ".py",
   "mimetype": "text/x-python",
   "name": "python",
   "nbconvert_exporter": "python",
   "pygments_lexer": "ipython3",
   "version": "3.6.3"
  }
 },
 "nbformat": 4,
 "nbformat_minor": 2
}
