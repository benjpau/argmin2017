{
 "cells": [
  {
   "cell_type": "code",
   "execution_count": 1,
   "metadata": {
    "ExecuteTime": {
     "end_time": "2018-03-10T19:22:41.404836Z",
     "start_time": "2018-03-10T19:22:40.923832Z"
    }
   },
   "outputs": [],
   "source": [
    "from __future__ import print_function, division\n",
    "import numpy as np\n",
    "import matplotlib as mpl\n",
    "import matplotlib.pyplot as plt\n",
    "%matplotlib inline"
   ]
  },
  {
   "cell_type": "code",
   "execution_count": 2,
   "metadata": {
    "ExecuteTime": {
     "end_time": "2018-03-10T19:22:41.411505Z",
     "start_time": "2018-03-10T19:22:41.408176Z"
    }
   },
   "outputs": [],
   "source": [
    "import numpy as np"
   ]
  },
  {
   "cell_type": "code",
   "execution_count": 3,
   "metadata": {
    "ExecuteTime": {
     "end_time": "2018-03-10T19:22:44.203227Z",
     "start_time": "2018-03-10T19:22:41.420696Z"
    }
   },
   "outputs": [
    {
     "name": "stderr",
     "output_type": "stream",
     "text": [
      "/usr/local/Cellar/python3/3.6.3/Frameworks/Python.framework/Versions/3.6/lib/python3.6/site-packages/h5py/__init__.py:36: FutureWarning: Conversion of the second argument of issubdtype from `float` to `np.floating` is deprecated. In future, it will be treated as `np.float64 == np.dtype(float).type`.\n",
      "  from ._conv import register_converters as _register_converters\n",
      "Using TensorFlow backend.\n",
      "/usr/local/Cellar/python3/3.6.3/Frameworks/Python.framework/Versions/3.6/lib/python3.6/importlib/_bootstrap.py:219: RuntimeWarning: compiletime version 3.5 of module 'tensorflow.python.framework.fast_tensor_util' does not match runtime version 3.6\n",
      "  return f(*args, **kwds)\n"
     ]
    }
   ],
   "source": [
    "import train"
   ]
  },
  {
   "cell_type": "code",
   "execution_count": 4,
   "metadata": {
    "ExecuteTime": {
     "end_time": "2018-03-10T19:22:44.306999Z",
     "start_time": "2018-03-10T19:22:44.206159Z"
    }
   },
   "outputs": [],
   "source": [
    "docs, links, types = train.load_vec(docs='./X_large.npy',links='./Ylinks.npy',types='./Ytypes.npy')"
   ]
  },
  {
   "cell_type": "markdown",
   "metadata": {},
   "source": [
    "# [Sanity Check](http://cs231n.github.io/neural-networks-3/#sanitycheck)\n",
    "\n",
    "Test architecture with few data points without any regularization to see if it can perfectly fit."
   ]
  },
  {
   "cell_type": "markdown",
   "metadata": {},
   "source": [
    "#### MODEL"
   ]
  },
  {
   "cell_type": "code",
   "execution_count": 23,
   "metadata": {
    "ExecuteTime": {
     "end_time": "2018-03-10T19:10:51.136725Z",
     "start_time": "2018-03-10T19:10:49.387936Z"
    }
   },
   "outputs": [],
   "source": [
    "model = train.create_model(6, 512, 0, 0)"
   ]
  },
  {
   "cell_type": "code",
   "execution_count": 24,
   "metadata": {
    "ExecuteTime": {
     "end_time": "2018-03-10T19:10:51.152522Z",
     "start_time": "2018-03-10T19:10:51.138986Z"
    }
   },
   "outputs": [
    {
     "name": "stdout",
     "output_type": "stream",
     "text": [
      "__________________________________________________________________________________________________\n",
      "Layer (type)                    Output Shape         Param #     Connected to                     \n",
      "==================================================================================================\n",
      "input (InputLayer)              (None, 6, 2640)      0                                            \n",
      "__________________________________________________________________________________________________\n",
      "masking_2 (Masking)             (None, 6, 2640)      0           input[0][0]                      \n",
      "__________________________________________________________________________________________________\n",
      "dropout_2 (Dropout)             (None, 6, 2640)      0           masking_2[0][0]                  \n",
      "__________________________________________________________________________________________________\n",
      "FC_input (TimeDistributed)      (None, 6, 512)       1352192     dropout_2[0][0]                  \n",
      "__________________________________________________________________________________________________\n",
      "bidirectional_2 (Bidirectional) (None, 6, 512)       1574912     FC_input[0][0]                   \n",
      "__________________________________________________________________________________________________\n",
      "decoder (LSTM)                  (None, 6, 512)       2099200     bidirectional_2[0][0]            \n",
      "__________________________________________________________________________________________________\n",
      "D (TimeDistributed)             (None, 6, 512)       262144      decoder[0][0]                    \n",
      "__________________________________________________________________________________________________\n",
      "E (TimeDistributed)             (None, 6, 512)       262144      bidirectional_2[0][0]            \n",
      "__________________________________________________________________________________________________\n",
      "lambda_3 (Lambda)               (None, 6, 6, 512)    0           D[0][0]                          \n",
      "__________________________________________________________________________________________________\n",
      "W1E_W2Di (Add)                  (None, 6, 6, 512)    0           E[0][0]                          \n",
      "                                                                 lambda_3[0][0]                   \n",
      "__________________________________________________________________________________________________\n",
      "tanh (Activation)               (None, 6, 6, 512)    0           W1E_W2Di[0][0]                   \n",
      "__________________________________________________________________________________________________\n",
      "vT (Dense)                      (None, 6, 6, 1)      512         tanh[0][0]                       \n",
      "__________________________________________________________________________________________________\n",
      "lambda_4 (Lambda)               (None, 6, 6)         0           vT[0][0]                         \n",
      "__________________________________________________________________________________________________\n",
      "link (Activation)               (None, 6, 6)         0           lambda_4[0][0]                   \n",
      "==================================================================================================\n",
      "Total params: 5,551,104\n",
      "Trainable params: 5,551,104\n",
      "Non-trainable params: 0\n",
      "__________________________________________________________________________________________________\n"
     ]
    }
   ],
   "source": [
    "model.summary()"
   ]
  },
  {
   "cell_type": "code",
   "execution_count": 5,
   "metadata": {
    "ExecuteTime": {
     "end_time": "2018-03-10T19:22:46.334301Z",
     "start_time": "2018-03-10T19:22:46.286082Z"
    }
   },
   "outputs": [],
   "source": [
    "X, Yl, Yt, docs, links, types = train.preprocess(docs, links, types)"
   ]
  },
  {
   "cell_type": "code",
   "execution_count": 6,
   "metadata": {
    "ExecuteTime": {
     "end_time": "2018-03-10T19:22:47.459825Z",
     "start_time": "2018-03-10T19:22:47.451865Z"
    }
   },
   "outputs": [
    {
     "data": {
      "text/plain": [
       "array([[0., 0., 0., 0., 1., 0.],\n",
       "       [1., 0., 0., 0., 0., 0.],\n",
       "       [0., 0., 0., 0., 1., 0.],\n",
       "       [0., 0., 0., 0., 1., 0.],\n",
       "       [0., 0., 0., 0., 1., 0.]])"
      ]
     },
     "execution_count": 6,
     "metadata": {},
     "output_type": "execute_result"
    }
   ],
   "source": [
    "Yl[0]"
   ]
  },
  {
   "cell_type": "code",
   "execution_count": null,
   "metadata": {
    "ExecuteTime": {
     "end_time": "2018-03-10T17:13:18.601520Z",
     "start_time": "2018-03-10T17:13:07.519290Z"
    },
    "scrolled": false
   },
   "outputs": [],
   "source": [
    "params = dict(c_weights=True, joint=True, dropout=0, recurrent_dropout=0, regularizer=None)\n",
    "params['tboard'] = None\n",
    "metrics, model = train.train_model(X[:10], X[:10], Yl[:10], Yl[:10], Yt[:10], Yt[:10], 1, param=params)"
   ]
  },
  {
   "cell_type": "code",
   "execution_count": null,
   "metadata": {
    "ExecuteTime": {
     "end_time": "2018-03-10T17:13:18.650259Z",
     "start_time": "2018-03-10T17:13:18.608957Z"
    }
   },
   "outputs": [],
   "source": [
    "model.predict(X[8:9])[1]"
   ]
  },
  {
   "cell_type": "code",
   "execution_count": null,
   "metadata": {
    "ExecuteTime": {
     "end_time": "2018-03-10T17:11:08.245353Z",
     "start_time": "2018-03-10T17:11:02.504Z"
    }
   },
   "outputs": [],
   "source": [
    "model.predict(X[9:10])[1]"
   ]
  },
  {
   "cell_type": "code",
   "execution_count": null,
   "metadata": {
    "ExecuteTime": {
     "end_time": "2018-03-10T17:11:08.246710Z",
     "start_time": "2018-03-10T17:11:02.505Z"
    }
   },
   "outputs": [],
   "source": [
    "Yt[8:9]"
   ]
  },
  {
   "cell_type": "code",
   "execution_count": null,
   "metadata": {
    "ExecuteTime": {
     "end_time": "2018-03-10T17:11:08.248157Z",
     "start_time": "2018-03-10T17:11:02.507Z"
    }
   },
   "outputs": [],
   "source": [
    "Yt[9:10]"
   ]
  },
  {
   "cell_type": "code",
   "execution_count": null,
   "metadata": {
    "ExecuteTime": {
     "end_time": "2018-03-10T17:11:08.250340Z",
     "start_time": "2018-03-10T17:11:02.509Z"
    }
   },
   "outputs": [],
   "source": [
    "model.evaluate(X[8:9], [Yl[8:9], Yt[8:9]])"
   ]
  },
  {
   "cell_type": "code",
   "execution_count": null,
   "metadata": {
    "ExecuteTime": {
     "end_time": "2018-03-10T17:11:08.252723Z",
     "start_time": "2018-03-10T17:11:02.510Z"
    }
   },
   "outputs": [],
   "source": [
    "fake = Yt[8:9].copy()\n",
    "fake[:,4,0] = 1\n",
    "fake[:,4,1] = 0\n",
    "print(fake.argmax(2))\n",
    "print(model.predict(X[8:9])[1].argmax(2))\n",
    "model.evaluate(X[8:9], [Yl[8:9], fake])"
   ]
  },
  {
   "cell_type": "code",
   "execution_count": null,
   "metadata": {},
   "outputs": [],
   "source": []
  },
  {
   "cell_type": "code",
   "execution_count": null,
   "metadata": {
    "ExecuteTime": {
     "end_time": "2018-03-10T17:11:08.254576Z",
     "start_time": "2018-03-10T17:11:02.513Z"
    }
   },
   "outputs": [],
   "source": [
    "model.metrics_names"
   ]
  },
  {
   "cell_type": "code",
   "execution_count": null,
   "metadata": {
    "ExecuteTime": {
     "end_time": "2018-03-10T17:11:08.256472Z",
     "start_time": "2018-03-10T17:11:02.515Z"
    }
   },
   "outputs": [],
   "source": [
    "model.evaluate(X[9:10], [Yl[9:10], Yt[9:10]])"
   ]
  },
  {
   "cell_type": "code",
   "execution_count": null,
   "metadata": {
    "ExecuteTime": {
     "end_time": "2018-03-10T17:11:08.258855Z",
     "start_time": "2018-03-10T17:11:02.517Z"
    }
   },
   "outputs": [],
   "source": [
    "X.shape"
   ]
  },
  {
   "cell_type": "code",
   "execution_count": null,
   "metadata": {
    "ExecuteTime": {
     "end_time": "2018-03-10T17:11:08.260222Z",
     "start_time": "2018-03-10T17:11:02.518Z"
    }
   },
   "outputs": [],
   "source": [
    "from sklearn.model_selection import KFold\n",
    "X = np.array([[1, 2], [3, 4], [1, 2], [3, 4]])\n",
    "y = np.array([1, 2, 3, 4])\n",
    "kf = KFold(n_splits=1)"
   ]
  },
  {
   "cell_type": "markdown",
   "metadata": {},
   "source": [
    "#### Class Weights"
   ]
  },
  {
   "cell_type": "code",
   "execution_count": 13,
   "metadata": {
    "ExecuteTime": {
     "end_time": "2018-03-10T19:25:40.293758Z",
     "start_time": "2018-03-10T19:25:40.288686Z"
    }
   },
   "outputs": [
    {
     "data": {
      "text/plain": [
       "[1, 0, 0, 0, 0]"
      ]
     },
     "execution_count": 13,
     "metadata": {},
     "output_type": "execute_result"
    }
   ],
   "source": [
    "types[98]"
   ]
  },
  {
   "cell_type": "code",
   "execution_count": 14,
   "metadata": {
    "ExecuteTime": {
     "end_time": "2018-03-10T19:25:43.852577Z",
     "start_time": "2018-03-10T19:25:43.847284Z"
    }
   },
   "outputs": [
    {
     "data": {
      "text/plain": [
       "array([[0, 1],\n",
       "       [1, 0],\n",
       "       [1, 0],\n",
       "       [1, 0],\n",
       "       [1, 0],\n",
       "       [0, 0]])"
      ]
     },
     "execution_count": 14,
     "metadata": {},
     "output_type": "execute_result"
    }
   ],
   "source": [
    "Yt[98]"
   ]
  },
  {
   "cell_type": "code",
   "execution_count": 8,
   "metadata": {
    "ExecuteTime": {
     "end_time": "2018-03-10T19:07:58.077041Z",
     "start_time": "2018-03-10T19:07:57.503282Z"
    }
   },
   "outputs": [
    {
     "ename": "AttributeError",
     "evalue": "'list' object has no attribute 'shape'",
     "output_type": "error",
     "traceback": [
      "\u001b[0;31m---------------------------------------------------------------------------\u001b[0m",
      "\u001b[0;31mAttributeError\u001b[0m                            Traceback (most recent call last)",
      "\u001b[0;32m<ipython-input-8-815902136f9b>\u001b[0m in \u001b[0;36m<module>\u001b[0;34m()\u001b[0m\n\u001b[0;32m----> 1\u001b[0;31m \u001b[0mtrain\u001b[0m\u001b[0;34m.\u001b[0m\u001b[0mget_sample_weights\u001b[0m\u001b[0;34m(\u001b[0m\u001b[0;34m[\u001b[0m\u001b[0mYl\u001b[0m\u001b[0;34m,\u001b[0m \u001b[0mYt\u001b[0m\u001b[0;34m]\u001b[0m\u001b[0;34m)\u001b[0m\u001b[0;34m[\u001b[0m\u001b[0;36m0\u001b[0m\u001b[0;34m]\u001b[0m\u001b[0;34m[\u001b[0m\u001b[0;36m100\u001b[0m\u001b[0;34m]\u001b[0m\u001b[0;34m\u001b[0m\u001b[0m\n\u001b[0m",
      "\u001b[0;32m~/Library/Mobile Documents/com~apple~CloudDocs/Development/argmin2017/train.py\u001b[0m in \u001b[0;36mget_sample_weights\u001b[0;34m(Ys)\u001b[0m\n\u001b[1;32m     90\u001b[0m \u001b[0;34m\u001b[0m\u001b[0m\n\u001b[1;32m     91\u001b[0m     \u001b[0;32mfor\u001b[0m \u001b[0mY\u001b[0m \u001b[0;32min\u001b[0m \u001b[0mYs\u001b[0m\u001b[0;34m:\u001b[0m\u001b[0;34m\u001b[0m\u001b[0m\n\u001b[0;32m---> 92\u001b[0;31m         \u001b[0mclass_num\u001b[0m \u001b[0;34m=\u001b[0m \u001b[0mY\u001b[0m\u001b[0;34m.\u001b[0m\u001b[0mshape\u001b[0m\u001b[0;34m[\u001b[0m\u001b[0;34m-\u001b[0m\u001b[0;36m1\u001b[0m\u001b[0;34m]\u001b[0m\u001b[0;34m\u001b[0m\u001b[0m\n\u001b[0m\u001b[1;32m     93\u001b[0m         \u001b[0mclass_weights\u001b[0m \u001b[0;34m=\u001b[0m \u001b[0mget_class_weights\u001b[0m\u001b[0;34m(\u001b[0m\u001b[0mY\u001b[0m\u001b[0;34m)\u001b[0m\u001b[0;34m\u001b[0m\u001b[0m\n\u001b[1;32m     94\u001b[0m         \u001b[0msample_weights\u001b[0m\u001b[0;34m.\u001b[0m\u001b[0mappend\u001b[0m\u001b[0;34m(\u001b[0m\u001b[0mnp\u001b[0m\u001b[0;34m.\u001b[0m\u001b[0mzeros\u001b[0m\u001b[0;34m(\u001b[0m\u001b[0mY\u001b[0m\u001b[0;34m.\u001b[0m\u001b[0mshape\u001b[0m\u001b[0;34m[\u001b[0m\u001b[0;34m:\u001b[0m\u001b[0;36m2\u001b[0m\u001b[0;34m]\u001b[0m\u001b[0;34m)\u001b[0m\u001b[0;34m)\u001b[0m\u001b[0;34m\u001b[0m\u001b[0m\n",
      "\u001b[0;31mAttributeError\u001b[0m: 'list' object has no attribute 'shape'"
     ]
    }
   ],
   "source": [
    "train.get_sample_weights([Yl, Yt])[0][100]"
   ]
  },
  {
   "cell_type": "code",
   "execution_count": null,
   "metadata": {
    "ExecuteTime": {
     "end_time": "2018-03-10T19:07:58.078391Z",
     "start_time": "2018-03-10T19:07:57.805Z"
    }
   },
   "outputs": [],
   "source": [
    "train.get_sample_weights([Yl[:5], Yt[:5]])"
   ]
  },
  {
   "cell_type": "code",
   "execution_count": null,
   "metadata": {},
   "outputs": [],
   "source": []
  },
  {
   "cell_type": "code",
   "execution_count": null,
   "metadata": {
    "ExecuteTime": {
     "end_time": "2018-03-10T17:11:08.271994Z",
     "start_time": "2018-03-10T17:11:02.529Z"
    }
   },
   "outputs": [],
   "source": [
    "Yl[:5].argmax(-1)"
   ]
  },
  {
   "cell_type": "code",
   "execution_count": null,
   "metadata": {
    "ExecuteTime": {
     "end_time": "2018-03-10T17:11:08.273755Z",
     "start_time": "2018-03-10T17:11:02.530Z"
    }
   },
   "outputs": [],
   "source": [
    "model.history.validation_data[2].any(axis=2).flatten()"
   ]
  },
  {
   "cell_type": "code",
   "execution_count": null,
   "metadata": {
    "ExecuteTime": {
     "end_time": "2018-03-10T17:11:08.275267Z",
     "start_time": "2018-03-10T17:11:02.532Z"
    }
   },
   "outputs": [],
   "source": [
    "~model.history.validation_data[1].any(axis=2)"
   ]
  },
  {
   "cell_type": "code",
   "execution_count": null,
   "metadata": {
    "ExecuteTime": {
     "end_time": "2018-03-10T17:11:08.276838Z",
     "start_time": "2018-03-10T17:11:02.535Z"
    }
   },
   "outputs": [],
   "source": [
    "model.layers[0].output"
   ]
  },
  {
   "cell_type": "code",
   "execution_count": null,
   "metadata": {
    "ExecuteTime": {
     "end_time": "2018-03-10T17:11:08.278345Z",
     "start_time": "2018-03-10T17:11:02.537Z"
    }
   },
   "outputs": [],
   "source": [
    "plt.plot(metrics['val_type_loss'],label='type loss')\n",
    "plt.plot(metrics['val_type_categorical_accuracy'],label='type acc')\n",
    "plt.legend();"
   ]
  },
  {
   "cell_type": "code",
   "execution_count": null,
   "metadata": {
    "ExecuteTime": {
     "end_time": "2018-03-10T17:11:08.279463Z",
     "start_time": "2018-03-10T17:11:02.539Z"
    }
   },
   "outputs": [],
   "source": [
    "3.8597e-05"
   ]
  },
  {
   "cell_type": "code",
   "execution_count": null,
   "metadata": {
    "ExecuteTime": {
     "end_time": "2018-03-10T17:11:08.281025Z",
     "start_time": "2018-03-10T17:11:02.540Z"
    },
    "scrolled": true
   },
   "outputs": [],
   "source": [
    "l, t = model.predict(X[:1])"
   ]
  },
  {
   "cell_type": "code",
   "execution_count": null,
   "metadata": {
    "ExecuteTime": {
     "end_time": "2018-03-10T17:11:08.282376Z",
     "start_time": "2018-03-10T17:11:02.542Z"
    }
   },
   "outputs": [],
   "source": [
    "from keras import losses"
   ]
  },
  {
   "cell_type": "code",
   "execution_count": null,
   "metadata": {
    "ExecuteTime": {
     "end_time": "2018-03-10T17:11:08.283914Z",
     "start_time": "2018-03-10T17:11:02.543Z"
    },
    "scrolled": true
   },
   "outputs": [],
   "source": [
    "from sklearn.metrics import log_loss\n",
    "\n",
    "l = log_loss(y_pred=t[0], y_true=Yt[0].argmax(1), labels=[0,1])\n",
    "print(l)\n"
   ]
  },
  {
   "cell_type": "code",
   "execution_count": null,
   "metadata": {
    "ExecuteTime": {
     "end_time": "2018-03-10T17:11:08.286026Z",
     "start_time": "2018-03-10T17:11:02.545Z"
    }
   },
   "outputs": [],
   "source": [
    "Yt[0].argmax(1)"
   ]
  },
  {
   "cell_type": "code",
   "execution_count": null,
   "metadata": {
    "ExecuteTime": {
     "end_time": "2018-03-10T17:11:08.288234Z",
     "start_time": "2018-03-10T17:11:02.546Z"
    }
   },
   "outputs": [],
   "source": [
    "t[0], Yt[0]"
   ]
  },
  {
   "cell_type": "code",
   "execution_count": null,
   "metadata": {
    "ExecuteTime": {
     "end_time": "2018-03-10T17:11:08.290724Z",
     "start_time": "2018-03-10T17:11:02.548Z"
    }
   },
   "outputs": [],
   "source": [
    "l.argmax(2), t.argmax(2)"
   ]
  },
  {
   "cell_type": "code",
   "execution_count": null,
   "metadata": {
    "ExecuteTime": {
     "end_time": "2018-03-10T17:11:08.293310Z",
     "start_time": "2018-03-10T17:11:02.550Z"
    }
   },
   "outputs": [],
   "source": [
    "np.array(links[:1][0])-1, types[:1]"
   ]
  },
  {
   "cell_type": "code",
   "execution_count": null,
   "metadata": {
    "ExecuteTime": {
     "end_time": "2018-03-10T17:11:08.296281Z",
     "start_time": "2018-03-10T17:11:02.551Z"
    }
   },
   "outputs": [],
   "source": [
    "a = {}\n",
    "a.update({'joint':True})"
   ]
  }
 ],
 "metadata": {
  "kernelspec": {
   "display_name": "Python 3",
   "language": "python",
   "name": "python3"
  },
  "language_info": {
   "codemirror_mode": {
    "name": "ipython",
    "version": 3
   },
   "file_extension": ".py",
   "mimetype": "text/x-python",
   "name": "python",
   "nbconvert_exporter": "python",
   "pygments_lexer": "ipython3",
   "version": "3.6.3"
  }
 },
 "nbformat": 4,
 "nbformat_minor": 2
}
