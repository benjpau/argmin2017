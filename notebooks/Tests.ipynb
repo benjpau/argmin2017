{
 "cells": [
  {
   "cell_type": "code",
   "execution_count": 1,
   "metadata": {
    "ExecuteTime": {
     "end_time": "2018-03-15T12:55:29.642821Z",
     "start_time": "2018-03-15T12:55:29.431899Z"
    }
   },
   "outputs": [],
   "source": [
    "import numpy as np"
   ]
  },
  {
   "cell_type": "code",
   "execution_count": 2,
   "metadata": {
    "ExecuteTime": {
     "end_time": "2018-03-15T12:55:33.099583Z",
     "start_time": "2018-03-15T12:55:29.724696Z"
    }
   },
   "outputs": [
    {
     "name": "stderr",
     "output_type": "stream",
     "text": [
      "/usr/local/Cellar/python3/3.6.3/Frameworks/Python.framework/Versions/3.6/lib/python3.6/site-packages/h5py/__init__.py:36: FutureWarning: Conversion of the second argument of issubdtype from `float` to `np.floating` is deprecated. In future, it will be treated as `np.float64 == np.dtype(float).type`.\n",
      "  from ._conv import register_converters as _register_converters\n",
      "Using TensorFlow backend.\n",
      "/usr/local/Cellar/python3/3.6.3/Frameworks/Python.framework/Versions/3.6/lib/python3.6/importlib/_bootstrap.py:219: RuntimeWarning: compiletime version 3.5 of module 'tensorflow.python.framework.fast_tensor_util' does not match runtime version 3.6\n",
      "  return f(*args, **kwds)\n"
     ]
    }
   ],
   "source": [
    "import utils\n",
    "import train"
   ]
  },
  {
   "cell_type": "code",
   "execution_count": 3,
   "metadata": {
    "ExecuteTime": {
     "end_time": "2018-03-15T12:55:33.184770Z",
     "start_time": "2018-03-15T12:55:33.102048Z"
    }
   },
   "outputs": [],
   "source": [
    "docs, links, types = train.load_vec('X_large.npy','Ylinks.npy','Ytypes.npy')"
   ]
  },
  {
   "cell_type": "code",
   "execution_count": 4,
   "metadata": {
    "ExecuteTime": {
     "end_time": "2018-03-15T12:55:33.258532Z",
     "start_time": "2018-03-15T12:55:33.187070Z"
    }
   },
   "outputs": [],
   "source": [
    "X, Yl, Yt, _, _, _ = train.preprocess(docs, links, types)"
   ]
  },
  {
   "cell_type": "markdown",
   "metadata": {},
   "source": [
    "### Link F1"
   ]
  },
  {
   "cell_type": "code",
   "execution_count": 5,
   "metadata": {
    "ExecuteTime": {
     "end_time": "2018-03-15T12:55:33.272314Z",
     "start_time": "2018-03-15T12:55:33.261470Z"
    }
   },
   "outputs": [],
   "source": [
    "y_true = Yl[0][None]\n",
    "y_pred = np.array([[0, 0, 0, 0, 1, 0, 0],\n",
    "                   [1, 0, 0, 0, 0, 0, 0],\n",
    "                   [0, 0, 0, 0, 1, 0, 0],\n",
    "                   [0, 0, 0, 0, 1, 0, 0],\n",
    "                   [0, 0, 0, 0, 1, 0, 0],\n",
    "                   [0, 1, 0, 0, 0, 0, 0],\n",
    "                   [0, 0, 0, 0, 1, 0, 0]])[None]"
   ]
  },
  {
   "cell_type": "code",
   "execution_count": 6,
   "metadata": {
    "ExecuteTime": {
     "end_time": "2018-03-15T12:55:33.291532Z",
     "start_time": "2018-03-15T12:55:33.275310Z"
    }
   },
   "outputs": [
    {
     "data": {
      "text/plain": [
       "1.0"
      ]
     },
     "execution_count": 6,
     "metadata": {},
     "output_type": "execute_result"
    }
   ],
   "source": [
    "utils._flat_f1(y_true, y_pred)"
   ]
  },
  {
   "cell_type": "markdown",
   "metadata": {},
   "source": [
    "### Type F1"
   ]
  },
  {
   "cell_type": "code",
   "execution_count": 7,
   "metadata": {
    "ExecuteTime": {
     "end_time": "2018-03-15T12:55:33.299674Z",
     "start_time": "2018-03-15T12:55:33.293699Z"
    }
   },
   "outputs": [],
   "source": [
    "y_true = Yt[0][None]\n",
    "y_pred = np.array([[1, 0],\n",
    "                   [1, 0],\n",
    "                   [1, 0],\n",
    "                   [1, 0],\n",
    "                   [0, 1],\n",
    "                   [1, 0],\n",
    "                   [0, 0]])[None]"
   ]
  },
  {
   "cell_type": "code",
   "execution_count": 8,
   "metadata": {
    "ExecuteTime": {
     "end_time": "2018-03-15T12:55:33.307570Z",
     "start_time": "2018-03-15T12:55:33.302129Z"
    }
   },
   "outputs": [
    {
     "data": {
      "text/plain": [
       "1.0"
      ]
     },
     "execution_count": 8,
     "metadata": {},
     "output_type": "execute_result"
    }
   ],
   "source": [
    "utils._flat_f1(y_true, y_pred)"
   ]
  },
  {
   "cell_type": "code",
   "execution_count": null,
   "metadata": {},
   "outputs": [],
   "source": []
  }
 ],
 "metadata": {
  "kernelspec": {
   "display_name": "Python 3",
   "language": "python",
   "name": "python3"
  },
  "language_info": {
   "codemirror_mode": {
    "name": "ipython",
    "version": 3
   },
   "file_extension": ".py",
   "mimetype": "text/x-python",
   "name": "python",
   "nbconvert_exporter": "python",
   "pygments_lexer": "ipython3",
   "version": "3.6.3"
  }
 },
 "nbformat": 4,
 "nbformat_minor": 2
}
